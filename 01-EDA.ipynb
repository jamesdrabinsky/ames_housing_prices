{
 "cells": [
  {
   "cell_type": "markdown",
   "metadata": {},
   "source": [
    "## Import Modules"
   ]
  },
  {
   "cell_type": "code",
   "execution_count": 1,
   "metadata": {
    "collapsed": true
   },
   "outputs": [],
   "source": [
    "#EDA notebook\n",
    "#Feature selection notebook\n",
    "#Modeling Testing Notebook\n",
    "#Final Modeling Notebook"
   ]
  },
  {
   "cell_type": "code",
   "execution_count": 135,
   "metadata": {
    "collapsed": true
   },
   "outputs": [],
   "source": [
    "import pandas as pd\n",
    "import numpy as np\n",
    "import scipy.stats as stats\n",
    "import seaborn as sns\n",
    "import matplotlib.pyplot as plt\n",
    "from sklearn import linear_model\n",
    "from sklearn.metrics import mean_squared_error\n",
    "from sklearn.model_selection import train_test_split, KFold, cross_val_score\n",
    "from sklearn.preprocessing import StandardScaler\n",
    "from sklearn.linear_model import LinearRegression, Lasso, Ridge, ElasticNet\n",
    "\n",
    "from scipy import stats\n",
    "from scipy.stats import norm\n",
    "\n",
    "%matplotlib inline\n",
    "\n",
    "import warnings\n",
    "warnings.filterwarnings('ignore')\n",
    "\n",
    "pd.set_option('display.max_columns', None)\n",
    "pd.set_option('display.max_rows', None)"
   ]
  },
  {
   "cell_type": "markdown",
   "metadata": {},
   "source": [
    "## Read in CSV Files"
   ]
  },
  {
   "cell_type": "code",
   "execution_count": 3,
   "metadata": {},
   "outputs": [
    {
     "data": {
      "text/html": [
       "<div>\n",
       "<style scoped>\n",
       "    .dataframe tbody tr th:only-of-type {\n",
       "        vertical-align: middle;\n",
       "    }\n",
       "\n",
       "    .dataframe tbody tr th {\n",
       "        vertical-align: top;\n",
       "    }\n",
       "\n",
       "    .dataframe thead th {\n",
       "        text-align: right;\n",
       "    }\n",
       "</style>\n",
       "<table border=\"1\" class=\"dataframe\">\n",
       "  <thead>\n",
       "    <tr style=\"text-align: right;\">\n",
       "      <th></th>\n",
       "      <th>Id</th>\n",
       "      <th>PID</th>\n",
       "      <th>MS SubClass</th>\n",
       "      <th>MS Zoning</th>\n",
       "      <th>Lot Frontage</th>\n",
       "      <th>Lot Area</th>\n",
       "      <th>Street</th>\n",
       "      <th>Alley</th>\n",
       "      <th>Lot Shape</th>\n",
       "      <th>Land Contour</th>\n",
       "      <th>...</th>\n",
       "      <th>Screen Porch</th>\n",
       "      <th>Pool Area</th>\n",
       "      <th>Pool QC</th>\n",
       "      <th>Fence</th>\n",
       "      <th>Misc Feature</th>\n",
       "      <th>Misc Val</th>\n",
       "      <th>Mo Sold</th>\n",
       "      <th>Yr Sold</th>\n",
       "      <th>Sale Type</th>\n",
       "      <th>SalePrice</th>\n",
       "    </tr>\n",
       "  </thead>\n",
       "  <tbody>\n",
       "    <tr>\n",
       "      <th>0</th>\n",
       "      <td>109</td>\n",
       "      <td>533352170</td>\n",
       "      <td>60</td>\n",
       "      <td>RL</td>\n",
       "      <td>NaN</td>\n",
       "      <td>13517</td>\n",
       "      <td>Pave</td>\n",
       "      <td>NaN</td>\n",
       "      <td>IR1</td>\n",
       "      <td>Lvl</td>\n",
       "      <td>...</td>\n",
       "      <td>0</td>\n",
       "      <td>0</td>\n",
       "      <td>NaN</td>\n",
       "      <td>NaN</td>\n",
       "      <td>NaN</td>\n",
       "      <td>0</td>\n",
       "      <td>3</td>\n",
       "      <td>2010</td>\n",
       "      <td>WD</td>\n",
       "      <td>130500</td>\n",
       "    </tr>\n",
       "    <tr>\n",
       "      <th>1</th>\n",
       "      <td>544</td>\n",
       "      <td>531379050</td>\n",
       "      <td>60</td>\n",
       "      <td>RL</td>\n",
       "      <td>43.0</td>\n",
       "      <td>11492</td>\n",
       "      <td>Pave</td>\n",
       "      <td>NaN</td>\n",
       "      <td>IR1</td>\n",
       "      <td>Lvl</td>\n",
       "      <td>...</td>\n",
       "      <td>0</td>\n",
       "      <td>0</td>\n",
       "      <td>NaN</td>\n",
       "      <td>NaN</td>\n",
       "      <td>NaN</td>\n",
       "      <td>0</td>\n",
       "      <td>4</td>\n",
       "      <td>2009</td>\n",
       "      <td>WD</td>\n",
       "      <td>220000</td>\n",
       "    </tr>\n",
       "    <tr>\n",
       "      <th>2</th>\n",
       "      <td>153</td>\n",
       "      <td>535304180</td>\n",
       "      <td>20</td>\n",
       "      <td>RL</td>\n",
       "      <td>68.0</td>\n",
       "      <td>7922</td>\n",
       "      <td>Pave</td>\n",
       "      <td>NaN</td>\n",
       "      <td>Reg</td>\n",
       "      <td>Lvl</td>\n",
       "      <td>...</td>\n",
       "      <td>0</td>\n",
       "      <td>0</td>\n",
       "      <td>NaN</td>\n",
       "      <td>NaN</td>\n",
       "      <td>NaN</td>\n",
       "      <td>0</td>\n",
       "      <td>1</td>\n",
       "      <td>2010</td>\n",
       "      <td>WD</td>\n",
       "      <td>109000</td>\n",
       "    </tr>\n",
       "    <tr>\n",
       "      <th>3</th>\n",
       "      <td>318</td>\n",
       "      <td>916386060</td>\n",
       "      <td>60</td>\n",
       "      <td>RL</td>\n",
       "      <td>73.0</td>\n",
       "      <td>9802</td>\n",
       "      <td>Pave</td>\n",
       "      <td>NaN</td>\n",
       "      <td>Reg</td>\n",
       "      <td>Lvl</td>\n",
       "      <td>...</td>\n",
       "      <td>0</td>\n",
       "      <td>0</td>\n",
       "      <td>NaN</td>\n",
       "      <td>NaN</td>\n",
       "      <td>NaN</td>\n",
       "      <td>0</td>\n",
       "      <td>4</td>\n",
       "      <td>2010</td>\n",
       "      <td>WD</td>\n",
       "      <td>174000</td>\n",
       "    </tr>\n",
       "    <tr>\n",
       "      <th>4</th>\n",
       "      <td>255</td>\n",
       "      <td>906425045</td>\n",
       "      <td>50</td>\n",
       "      <td>RL</td>\n",
       "      <td>82.0</td>\n",
       "      <td>14235</td>\n",
       "      <td>Pave</td>\n",
       "      <td>NaN</td>\n",
       "      <td>IR1</td>\n",
       "      <td>Lvl</td>\n",
       "      <td>...</td>\n",
       "      <td>0</td>\n",
       "      <td>0</td>\n",
       "      <td>NaN</td>\n",
       "      <td>NaN</td>\n",
       "      <td>NaN</td>\n",
       "      <td>0</td>\n",
       "      <td>3</td>\n",
       "      <td>2010</td>\n",
       "      <td>WD</td>\n",
       "      <td>138500</td>\n",
       "    </tr>\n",
       "  </tbody>\n",
       "</table>\n",
       "<p>5 rows × 81 columns</p>\n",
       "</div>"
      ],
      "text/plain": [
       "    Id        PID  MS SubClass MS Zoning  Lot Frontage  Lot Area Street Alley  \\\n",
       "0  109  533352170           60        RL           NaN     13517   Pave   NaN   \n",
       "1  544  531379050           60        RL          43.0     11492   Pave   NaN   \n",
       "2  153  535304180           20        RL          68.0      7922   Pave   NaN   \n",
       "3  318  916386060           60        RL          73.0      9802   Pave   NaN   \n",
       "4  255  906425045           50        RL          82.0     14235   Pave   NaN   \n",
       "\n",
       "  Lot Shape Land Contour    ...     Screen Porch Pool Area Pool QC Fence  \\\n",
       "0       IR1          Lvl    ...                0         0     NaN   NaN   \n",
       "1       IR1          Lvl    ...                0         0     NaN   NaN   \n",
       "2       Reg          Lvl    ...                0         0     NaN   NaN   \n",
       "3       Reg          Lvl    ...                0         0     NaN   NaN   \n",
       "4       IR1          Lvl    ...                0         0     NaN   NaN   \n",
       "\n",
       "  Misc Feature Misc Val Mo Sold Yr Sold  Sale Type  SalePrice  \n",
       "0          NaN        0       3    2010        WD      130500  \n",
       "1          NaN        0       4    2009        WD      220000  \n",
       "2          NaN        0       1    2010        WD      109000  \n",
       "3          NaN        0       4    2010        WD      174000  \n",
       "4          NaN        0       3    2010        WD      138500  \n",
       "\n",
       "[5 rows x 81 columns]"
      ]
     },
     "execution_count": 3,
     "metadata": {},
     "output_type": "execute_result"
    }
   ],
   "source": [
    "train = pd.read_csv('./data/train.csv')\n",
    "train.head()"
   ]
  },
  {
   "cell_type": "markdown",
   "metadata": {},
   "source": [
    "# Clean Train Data"
   ]
  },
  {
   "cell_type": "markdown",
   "metadata": {},
   "source": [
    "## Remove Spaces in Column Titles"
   ]
  },
  {
   "cell_type": "code",
   "execution_count": 4,
   "metadata": {},
   "outputs": [],
   "source": [
    "train.columns = train.columns.str.replace(' ', '')"
   ]
  },
  {
   "cell_type": "markdown",
   "metadata": {},
   "source": [
    "## Drop Columns [Id, PID, SalePrice]"
   ]
  },
  {
   "cell_type": "code",
   "execution_count": 5,
   "metadata": {
    "collapsed": true
   },
   "outputs": [],
   "source": [
    "train.drop(['Id', 'PID'], axis=1, inplace=True)"
   ]
  },
  {
   "cell_type": "markdown",
   "metadata": {},
   "source": [
    "## Change Type for Columns"
   ]
  },
  {
   "cell_type": "markdown",
   "metadata": {},
   "source": [
    "**Convert 'MSSubclass' and 'Yr Sold' to Categorical**"
   ]
  },
  {
   "cell_type": "code",
   "execution_count": 6,
   "metadata": {
    "collapsed": true
   },
   "outputs": [],
   "source": [
    "train['MSSubClass'] = train['MSSubClass'].astype(object)\n",
    "train['YrSold'] = train['YrSold'].astype(object)"
   ]
  },
  {
   "cell_type": "markdown",
   "metadata": {},
   "source": [
    "## Null Values"
   ]
  },
  {
   "cell_type": "code",
   "execution_count": 166,
   "metadata": {},
   "outputs": [
    {
     "data": {
      "text/plain": [
       "Series([], dtype: int64)"
      ]
     },
     "execution_count": 166,
     "metadata": {},
     "output_type": "execute_result"
    }
   ],
   "source": [
    "train.isnull().sum()[train.isnull().sum() > 0].sort_values(ascending=False)"
   ]
  },
  {
   "cell_type": "markdown",
   "metadata": {},
   "source": [
    "**Categorical Columns**"
   ]
  },
  {
   "cell_type": "markdown",
   "metadata": {},
   "source": [
    "I replaced all of the Null values in the categorical columns with the string 'None.'"
   ]
  },
  {
   "cell_type": "code",
   "execution_count": 8,
   "metadata": {
    "collapsed": true
   },
   "outputs": [],
   "source": [
    "categorical_null_cols = ['MiscFeature', 'Alley', 'Fence',\n",
    " 'FireplaceQu','GarageQual', 'GarageCond',\n",
    " 'GarageFinish','GarageType', 'BsmtExposure',\n",
    " 'BsmtFinType2', 'BsmtCond', 'BsmtQual',\n",
    " 'BsmtFinType1', 'MasVnrType']"
   ]
  },
  {
   "cell_type": "code",
   "execution_count": 9,
   "metadata": {
    "collapsed": true
   },
   "outputs": [],
   "source": [
    "for col in train.columns:\n",
    "    if col in categorical_null_cols:\n",
    "        train[col].fillna(value = 'None', inplace=True)"
   ]
  },
  {
   "cell_type": "markdown",
   "metadata": {},
   "source": [
    "**Numeric Columns **"
   ]
  },
  {
   "cell_type": "markdown",
   "metadata": {},
   "source": [
    "In the numeric columns with discrete values I replaced the Null values with 0.  In the numeric columns with contonuous values I replaced the Null values with the median value from the respective column."
   ]
  },
  {
   "cell_type": "code",
   "execution_count": 10,
   "metadata": {
    "collapsed": true
   },
   "outputs": [],
   "source": [
    "numeric_null_cols = ['BsmtHalfBath',\n",
    " 'BsmtFullBath','GarageCars']"
   ]
  },
  {
   "cell_type": "code",
   "execution_count": 11,
   "metadata": {
    "collapsed": true
   },
   "outputs": [],
   "source": [
    "numeric_median_cols = ['LotFrontage', 'MasVnrArea', 'BsmtFinSF1', 'BsmtFinSF2', \n",
    "           'BsmtUnfSF', 'GarageArea', 'TotalBsmtSF']"
   ]
  },
  {
   "cell_type": "code",
   "execution_count": 12,
   "metadata": {
    "collapsed": true
   },
   "outputs": [],
   "source": [
    "for col in train.columns:\n",
    "    if col in numeric_null_cols:\n",
    "        train[col].fillna(value = 0, inplace=True)"
   ]
  },
  {
   "cell_type": "code",
   "execution_count": 13,
   "metadata": {
    "collapsed": true
   },
   "outputs": [],
   "source": [
    "for col in train.columns:\n",
    "    if col in numeric_median_cols:\n",
    "        train[col].fillna(value = train[col].median(), inplace=True)"
   ]
  },
  {
   "cell_type": "markdown",
   "metadata": {},
   "source": [
    "1564 of non null GarageYrBlt values match YearBuilt, whilst it is not over 90% of the values, we can assume that for the vast majority of the cases, YearBuilt will be an accurate value to fill these missing values with."
   ]
  },
  {
   "cell_type": "code",
   "execution_count": 14,
   "metadata": {},
   "outputs": [
    {
     "name": "stdout",
     "output_type": "stream",
     "text": [
      "1564\n"
     ]
    }
   ],
   "source": [
    "counter = 0\n",
    "for x in train[train['GarageYrBlt'].notnull()][['GarageYrBlt','YearBuilt']].values:\n",
    "    if x[0] == x[1]:\n",
    "        counter += 1\n",
    "print(counter)"
   ]
  },
  {
   "cell_type": "code",
   "execution_count": 15,
   "metadata": {
    "collapsed": true
   },
   "outputs": [],
   "source": [
    "train.loc[train['GarageYrBlt'].isnull(), 'GarageYrBlt'] = train[train['GarageYrBlt'].isnull()]['YearBuilt']"
   ]
  },
  {
   "cell_type": "markdown",
   "metadata": {},
   "source": [
    "## Feature Engineering"
   ]
  },
  {
   "cell_type": "markdown",
   "metadata": {},
   "source": [
    "**Removing Highly Correlated Columns (Multicollinearity)**"
   ]
  },
  {
   "cell_type": "markdown",
   "metadata": {},
   "source": [
    "Add column that indicates whether or not house has been remodeled."
   ]
  },
  {
   "cell_type": "code",
   "execution_count": 16,
   "metadata": {
    "collapsed": true
   },
   "outputs": [],
   "source": [
    "train.loc[train['YearBuilt'] != train['YearRemod/Add'], 'Remodeled'] = 'Remodeled'"
   ]
  },
  {
   "cell_type": "code",
   "execution_count": 17,
   "metadata": {},
   "outputs": [],
   "source": [
    "train.loc[train['YearBuilt'] == train['YearRemod/Add'], 'Remodeled'] = 'Not Remodeled'"
   ]
  },
  {
   "cell_type": "markdown",
   "metadata": {},
   "source": [
    "Remove columns that are redundant.  "
   ]
  },
  {
   "cell_type": "code",
   "execution_count": 18,
   "metadata": {
    "collapsed": true
   },
   "outputs": [],
   "source": [
    "columns_to_remove = []\n",
    "\n",
    "columns_to_remove.append('GarageCars')\n",
    "columns_to_remove.append('GarageYrBlt')\n",
    "\n",
    "columns_to_remove.append('BsmtFinSF1')\n",
    "columns_to_remove.append('BsmtFinSF2')\n",
    "columns_to_remove.append('BsmtUnfSF')\n",
    "\n",
    "columns_to_remove.append('1stFlrSF')\n",
    "columns_to_remove.append('2ndFlrSF')\n",
    "columns_to_remove.append('LowQualFinSF')\n",
    "\n",
    "\n",
    "\n",
    "train.drop(columns_to_remove, axis=1, inplace=True)"
   ]
  },
  {
   "cell_type": "code",
   "execution_count": 19,
   "metadata": {
    "scrolled": true
   },
   "outputs": [
    {
     "name": "stdout",
     "output_type": "stream",
     "text": [
      "<class 'pandas.core.frame.DataFrame'>\n",
      "RangeIndex: 2051 entries, 0 to 2050\n",
      "Data columns (total 72 columns):\n",
      "MSSubClass       2051 non-null object\n",
      "MSZoning         2051 non-null object\n",
      "LotFrontage      2051 non-null float64\n",
      "LotArea          2051 non-null int64\n",
      "Street           2051 non-null object\n",
      "Alley            2051 non-null object\n",
      "LotShape         2051 non-null object\n",
      "LandContour      2051 non-null object\n",
      "Utilities        2051 non-null object\n",
      "LotConfig        2051 non-null object\n",
      "LandSlope        2051 non-null object\n",
      "Neighborhood     2051 non-null object\n",
      "Condition1       2051 non-null object\n",
      "Condition2       2051 non-null object\n",
      "BldgType         2051 non-null object\n",
      "HouseStyle       2051 non-null object\n",
      "OverallQual      2051 non-null int64\n",
      "OverallCond      2051 non-null int64\n",
      "YearBuilt        2051 non-null int64\n",
      "YearRemod/Add    2051 non-null int64\n",
      "RoofStyle        2051 non-null object\n",
      "RoofMatl         2051 non-null object\n",
      "Exterior1st      2051 non-null object\n",
      "Exterior2nd      2051 non-null object\n",
      "MasVnrType       2051 non-null object\n",
      "MasVnrArea       2051 non-null float64\n",
      "ExterQual        2051 non-null object\n",
      "ExterCond        2051 non-null object\n",
      "Foundation       2051 non-null object\n",
      "BsmtQual         2051 non-null object\n",
      "BsmtCond         2051 non-null object\n",
      "BsmtExposure     2051 non-null object\n",
      "BsmtFinType1     2051 non-null object\n",
      "BsmtFinType2     2051 non-null object\n",
      "TotalBsmtSF      2051 non-null float64\n",
      "Heating          2051 non-null object\n",
      "HeatingQC        2051 non-null object\n",
      "CentralAir       2051 non-null object\n",
      "Electrical       2051 non-null object\n",
      "GrLivArea        2051 non-null int64\n",
      "BsmtFullBath     2051 non-null float64\n",
      "BsmtHalfBath     2051 non-null float64\n",
      "FullBath         2051 non-null int64\n",
      "HalfBath         2051 non-null int64\n",
      "BedroomAbvGr     2051 non-null int64\n",
      "KitchenAbvGr     2051 non-null int64\n",
      "KitchenQual      2051 non-null object\n",
      "TotRmsAbvGrd     2051 non-null int64\n",
      "Functional       2051 non-null object\n",
      "Fireplaces       2051 non-null int64\n",
      "FireplaceQu      2051 non-null object\n",
      "GarageType       2051 non-null object\n",
      "GarageFinish     2051 non-null object\n",
      "GarageArea       2051 non-null float64\n",
      "GarageQual       2051 non-null object\n",
      "GarageCond       2051 non-null object\n",
      "PavedDrive       2051 non-null object\n",
      "WoodDeckSF       2051 non-null int64\n",
      "OpenPorchSF      2051 non-null int64\n",
      "EnclosedPorch    2051 non-null int64\n",
      "3SsnPorch        2051 non-null int64\n",
      "ScreenPorch      2051 non-null int64\n",
      "PoolArea         2051 non-null int64\n",
      "PoolQC           9 non-null object\n",
      "Fence            2051 non-null object\n",
      "MiscFeature      2051 non-null object\n",
      "MiscVal          2051 non-null int64\n",
      "MoSold           2051 non-null int64\n",
      "YrSold           2051 non-null object\n",
      "SaleType         2051 non-null object\n",
      "SalePrice        2051 non-null int64\n",
      "Remodeled        2051 non-null object\n",
      "dtypes: float64(6), int64(21), object(45)\n",
      "memory usage: 1.1+ MB\n"
     ]
    }
   ],
   "source": [
    "train.info()"
   ]
  },
  {
   "cell_type": "code",
   "execution_count": 20,
   "metadata": {},
   "outputs": [
    {
     "data": {
      "text/plain": [
       "1Story    1059\n",
       "2Story     598\n",
       "1.5Fin     218\n",
       "SLvl        94\n",
       "SFoyer      50\n",
       "2.5Unf      14\n",
       "1.5Unf      12\n",
       "2.5Fin       6\n",
       "Name: HouseStyle, dtype: int64"
      ]
     },
     "execution_count": 20,
     "metadata": {},
     "output_type": "execute_result"
    }
   ],
   "source": [
    "train['HouseStyle'].value_counts()"
   ]
  },
  {
   "cell_type": "markdown",
   "metadata": {},
   "source": [
    "## House Style and Mean Price"
   ]
  },
  {
   "cell_type": "code",
   "execution_count": 21,
   "metadata": {},
   "outputs": [
    {
     "data": {
      "text/plain": [
       "206408.96321070235"
      ]
     },
     "execution_count": 21,
     "metadata": {},
     "output_type": "execute_result"
    }
   ],
   "source": [
    "train[train['HouseStyle'] == '2Story']['SalePrice'].mean()"
   ]
  },
  {
   "cell_type": "code",
   "execution_count": 22,
   "metadata": {},
   "outputs": [
    {
     "data": {
      "text/plain": [
       "136480.09174311926"
      ]
     },
     "execution_count": 22,
     "metadata": {},
     "output_type": "execute_result"
    }
   ],
   "source": [
    "train[train['HouseStyle'] == '1.5Fin']['SalePrice'].mean()"
   ]
  },
  {
   "cell_type": "code",
   "execution_count": 23,
   "metadata": {},
   "outputs": [
    {
     "data": {
      "text/plain": [
       "179809.19452313503"
      ]
     },
     "execution_count": 23,
     "metadata": {},
     "output_type": "execute_result"
    }
   ],
   "source": [
    "train[train['HouseStyle'] == '1Story']['SalePrice'].mean()"
   ]
  },
  {
   "cell_type": "markdown",
   "metadata": {},
   "source": [
    "## Heatmap for Numeric Columns"
   ]
  },
  {
   "cell_type": "code",
   "execution_count": 24,
   "metadata": {},
   "outputs": [
    {
     "data": {
      "text/plain": [
       "(27, pandas.core.frame.DataFrame)"
      ]
     },
     "execution_count": 24,
     "metadata": {},
     "output_type": "execute_result"
    }
   ],
   "source": [
    "numeric_columns = train[train.select_dtypes(exclude = object).columns]\n",
    "len(list(numeric_columns)), type(numeric_columns)"
   ]
  },
  {
   "cell_type": "code",
   "execution_count": 25,
   "metadata": {
    "collapsed": true
   },
   "outputs": [],
   "source": [
    "corr = numeric_columns.corr()"
   ]
  },
  {
   "cell_type": "code",
   "execution_count": 26,
   "metadata": {
    "collapsed": true
   },
   "outputs": [],
   "source": [
    "mask = np.zeros_like(corr, dtype=np.bool)\n",
    "mask[np.triu_indices_from(mask)] = True"
   ]
  },
  {
   "cell_type": "code",
   "execution_count": 27,
   "metadata": {},
   "outputs": [
    {
     "data": {
      "text/plain": [
       "<matplotlib.axes._subplots.AxesSubplot at 0x1163b99e8>"
      ]
     },
     "execution_count": 27,
     "metadata": {},
     "output_type": "execute_result"
    },
    {
     "data": {
      "image/png": "[encoded data removed]",
      "text/plain": [
       "<matplotlib.figure.Figure at 0x1163b9390>"
      ]
     },
     "metadata": {},
     "output_type": "display_data"
    }
   ],
   "source": [
    "f, ax = plt.subplots(figsize=(11, 9))\n",
    "cmap = sns.diverging_palette(220, 10, as_cmap=True)\n",
    "sns.heatmap(corr, mask=mask, center=0,\n",
    "            square=True, linewidths=.5, cbar_kws={\"shrink\": .5})"
   ]
  },
  {
   "cell_type": "markdown",
   "metadata": {},
   "source": [
    "## Correlation Matrix for Numeric Columns"
   ]
  },
  {
   "cell_type": "code",
   "execution_count": 28,
   "metadata": {},
   "outputs": [
    {
     "data": {
      "text/plain": [
       "SalePrice      SalePrice        1.000000\n",
       "HalfBath       HalfBath         1.000000\n",
       "PoolArea       PoolArea         1.000000\n",
       "ScreenPorch    ScreenPorch      1.000000\n",
       "3SsnPorch      3SsnPorch        1.000000\n",
       "EnclosedPorch  EnclosedPorch    1.000000\n",
       "OpenPorchSF    OpenPorchSF      1.000000\n",
       "WoodDeckSF     WoodDeckSF       1.000000\n",
       "GarageArea     GarageArea       1.000000\n",
       "Fireplaces     Fireplaces       1.000000\n",
       "TotRmsAbvGrd   TotRmsAbvGrd     1.000000\n",
       "KitchenAbvGr   KitchenAbvGr     1.000000\n",
       "FullBath       FullBath         1.000000\n",
       "MoSold         MoSold           1.000000\n",
       "BsmtHalfBath   BsmtHalfBath     1.000000\n",
       "BsmtFullBath   BsmtFullBath     1.000000\n",
       "GrLivArea      GrLivArea        1.000000\n",
       "TotalBsmtSF    TotalBsmtSF      1.000000\n",
       "MasVnrArea     MasVnrArea       1.000000\n",
       "YearRemod/Add  YearRemod/Add    1.000000\n",
       "YearBuilt      YearBuilt        1.000000\n",
       "OverallCond    OverallCond      1.000000\n",
       "OverallQual    OverallQual      1.000000\n",
       "LotArea        LotArea          1.000000\n",
       "MiscVal        MiscVal          1.000000\n",
       "BedroomAbvGr   BedroomAbvGr     1.000000\n",
       "LotFrontage    LotFrontage      1.000000\n",
       "TotRmsAbvGrd   GrLivArea        0.813333\n",
       "GrLivArea      TotRmsAbvGrd     0.813333\n",
       "OverallQual    SalePrice        0.800207\n",
       "                                  ...   \n",
       "TotalBsmtSF    SalePrice        0.628754\n",
       "SalePrice      TotalBsmtSF      0.628754\n",
       "GrLivArea      FullBath         0.617323\n",
       "FullBath       GrLivArea        0.617323\n",
       "YearBuilt      OverallQual      0.602964\n",
       "OverallQual    YearBuilt        0.602964\n",
       "YearRemod/Add  OverallQual      0.584654\n",
       "OverallQual    YearRemod/Add    0.584654\n",
       "SalePrice      YearBuilt        0.571849\n",
       "YearBuilt      SalePrice        0.571849\n",
       "OverallQual    GrLivArea        0.566701\n",
       "GrLivArea      OverallQual      0.566701\n",
       "OverallQual    GarageArea       0.563719\n",
       "GarageArea     OverallQual      0.563719\n",
       "YearRemod/Add  SalePrice        0.550370\n",
       "SalePrice      YearRemod/Add    0.550370\n",
       "OverallQual    TotalBsmtSF      0.548548\n",
       "TotalBsmtSF    OverallQual      0.548548\n",
       "FullBath       SalePrice        0.537969\n",
       "SalePrice      FullBath         0.537969\n",
       "TotRmsAbvGrd   FullBath         0.519630\n",
       "FullBath       TotRmsAbvGrd     0.519630\n",
       "OverallQual    FullBath         0.515080\n",
       "FullBath       OverallQual      0.515080\n",
       "BedroomAbvGr   GrLivArea        0.507579\n",
       "GrLivArea      BedroomAbvGr     0.507579\n",
       "SalePrice      TotRmsAbvGrd     0.504014\n",
       "TotRmsAbvGrd   SalePrice        0.504014\n",
       "SalePrice      MasVnrArea       0.503579\n",
       "MasVnrArea     SalePrice        0.503579\n",
       "Length: 69, dtype: float64"
      ]
     },
     "execution_count": 28,
     "metadata": {},
     "output_type": "execute_result"
    }
   ],
   "source": [
    "c = train.corr().abs().unstack().sort_values(ascending=False)\n",
    "c[(c >= 0.5) | (c <= -0.5)]"
   ]
  },
  {
   "cell_type": "code",
   "execution_count": 29,
   "metadata": {
    "collapsed": true,
    "scrolled": true
   },
   "outputs": [],
   "source": [
    "train_corr = train.corr().sort_values('SalePrice', ascending=False)"
   ]
  },
  {
   "cell_type": "code",
   "execution_count": 30,
   "metadata": {
    "collapsed": true
   },
   "outputs": [],
   "source": [
    "def highlight(val):\n",
    "    return 'background-color: yellow' if val > 0.5 else 'black'"
   ]
  },
  {
   "cell_type": "code",
   "execution_count": 31,
   "metadata": {},
   "outputs": [
    {
     "data": {
      "text/html": [
       "<style  type=\"text/css\" >\n",
       "    #T_9a55b188_a5dc_11e8_94ea_8c8590684ea5row0_col2 {\n",
       "            background-color:  yellow;\n",
       "        }    #T_9a55b188_a5dc_11e8_94ea_8c8590684ea5row0_col4 {\n",
       "            background-color:  yellow;\n",
       "        }    #T_9a55b188_a5dc_11e8_94ea_8c8590684ea5row0_col5 {\n",
       "            background-color:  yellow;\n",
       "        }    #T_9a55b188_a5dc_11e8_94ea_8c8590684ea5row0_col6 {\n",
       "            background-color:  yellow;\n",
       "        }    #T_9a55b188_a5dc_11e8_94ea_8c8590684ea5row0_col7 {\n",
       "            background-color:  yellow;\n",
       "        }    #T_9a55b188_a5dc_11e8_94ea_8c8590684ea5row0_col8 {\n",
       "            background-color:  yellow;\n",
       "        }    #T_9a55b188_a5dc_11e8_94ea_8c8590684ea5row0_col11 {\n",
       "            background-color:  yellow;\n",
       "        }    #T_9a55b188_a5dc_11e8_94ea_8c8590684ea5row0_col15 {\n",
       "            background-color:  yellow;\n",
       "        }    #T_9a55b188_a5dc_11e8_94ea_8c8590684ea5row0_col17 {\n",
       "            background-color:  yellow;\n",
       "        }    #T_9a55b188_a5dc_11e8_94ea_8c8590684ea5row0_col26 {\n",
       "            background-color:  yellow;\n",
       "        }    #T_9a55b188_a5dc_11e8_94ea_8c8590684ea5row1_col2 {\n",
       "            background-color:  yellow;\n",
       "        }    #T_9a55b188_a5dc_11e8_94ea_8c8590684ea5row1_col4 {\n",
       "            background-color:  yellow;\n",
       "        }    #T_9a55b188_a5dc_11e8_94ea_8c8590684ea5row1_col5 {\n",
       "            background-color:  yellow;\n",
       "        }    #T_9a55b188_a5dc_11e8_94ea_8c8590684ea5row1_col7 {\n",
       "            background-color:  yellow;\n",
       "        }    #T_9a55b188_a5dc_11e8_94ea_8c8590684ea5row1_col8 {\n",
       "            background-color:  yellow;\n",
       "        }    #T_9a55b188_a5dc_11e8_94ea_8c8590684ea5row1_col11 {\n",
       "            background-color:  yellow;\n",
       "        }    #T_9a55b188_a5dc_11e8_94ea_8c8590684ea5row1_col17 {\n",
       "            background-color:  yellow;\n",
       "        }    #T_9a55b188_a5dc_11e8_94ea_8c8590684ea5row1_col26 {\n",
       "            background-color:  yellow;\n",
       "        }    #T_9a55b188_a5dc_11e8_94ea_8c8590684ea5row2_col2 {\n",
       "            background-color:  yellow;\n",
       "        }    #T_9a55b188_a5dc_11e8_94ea_8c8590684ea5row2_col8 {\n",
       "            background-color:  yellow;\n",
       "        }    #T_9a55b188_a5dc_11e8_94ea_8c8590684ea5row2_col11 {\n",
       "            background-color:  yellow;\n",
       "        }    #T_9a55b188_a5dc_11e8_94ea_8c8590684ea5row2_col13 {\n",
       "            background-color:  yellow;\n",
       "        }    #T_9a55b188_a5dc_11e8_94ea_8c8590684ea5row2_col15 {\n",
       "            background-color:  yellow;\n",
       "        }    #T_9a55b188_a5dc_11e8_94ea_8c8590684ea5row2_col26 {\n",
       "            background-color:  yellow;\n",
       "        }    #T_9a55b188_a5dc_11e8_94ea_8c8590684ea5row3_col2 {\n",
       "            background-color:  yellow;\n",
       "        }    #T_9a55b188_a5dc_11e8_94ea_8c8590684ea5row3_col17 {\n",
       "            background-color:  yellow;\n",
       "        }    #T_9a55b188_a5dc_11e8_94ea_8c8590684ea5row3_col26 {\n",
       "            background-color:  yellow;\n",
       "        }    #T_9a55b188_a5dc_11e8_94ea_8c8590684ea5row4_col2 {\n",
       "            background-color:  yellow;\n",
       "        }    #T_9a55b188_a5dc_11e8_94ea_8c8590684ea5row4_col7 {\n",
       "            background-color:  yellow;\n",
       "        }    #T_9a55b188_a5dc_11e8_94ea_8c8590684ea5row4_col26 {\n",
       "            background-color:  yellow;\n",
       "        }    #T_9a55b188_a5dc_11e8_94ea_8c8590684ea5row5_col2 {\n",
       "            background-color:  yellow;\n",
       "        }    #T_9a55b188_a5dc_11e8_94ea_8c8590684ea5row5_col4 {\n",
       "            background-color:  yellow;\n",
       "        }    #T_9a55b188_a5dc_11e8_94ea_8c8590684ea5row5_col5 {\n",
       "            background-color:  yellow;\n",
       "        }    #T_9a55b188_a5dc_11e8_94ea_8c8590684ea5row5_col26 {\n",
       "            background-color:  yellow;\n",
       "        }    #T_9a55b188_a5dc_11e8_94ea_8c8590684ea5row6_col2 {\n",
       "            background-color:  yellow;\n",
       "        }    #T_9a55b188_a5dc_11e8_94ea_8c8590684ea5row6_col4 {\n",
       "            background-color:  yellow;\n",
       "        }    #T_9a55b188_a5dc_11e8_94ea_8c8590684ea5row6_col5 {\n",
       "            background-color:  yellow;\n",
       "        }    #T_9a55b188_a5dc_11e8_94ea_8c8590684ea5row6_col26 {\n",
       "            background-color:  yellow;\n",
       "        }    #T_9a55b188_a5dc_11e8_94ea_8c8590684ea5row7_col2 {\n",
       "            background-color:  yellow;\n",
       "        }    #T_9a55b188_a5dc_11e8_94ea_8c8590684ea5row7_col8 {\n",
       "            background-color:  yellow;\n",
       "        }    #T_9a55b188_a5dc_11e8_94ea_8c8590684ea5row7_col11 {\n",
       "            background-color:  yellow;\n",
       "        }    #T_9a55b188_a5dc_11e8_94ea_8c8590684ea5row7_col15 {\n",
       "            background-color:  yellow;\n",
       "        }    #T_9a55b188_a5dc_11e8_94ea_8c8590684ea5row7_col26 {\n",
       "            background-color:  yellow;\n",
       "        }    #T_9a55b188_a5dc_11e8_94ea_8c8590684ea5row8_col8 {\n",
       "            background-color:  yellow;\n",
       "        }    #T_9a55b188_a5dc_11e8_94ea_8c8590684ea5row8_col11 {\n",
       "            background-color:  yellow;\n",
       "        }    #T_9a55b188_a5dc_11e8_94ea_8c8590684ea5row8_col13 {\n",
       "            background-color:  yellow;\n",
       "        }    #T_9a55b188_a5dc_11e8_94ea_8c8590684ea5row8_col15 {\n",
       "            background-color:  yellow;\n",
       "        }    #T_9a55b188_a5dc_11e8_94ea_8c8590684ea5row8_col26 {\n",
       "            background-color:  yellow;\n",
       "        }    #T_9a55b188_a5dc_11e8_94ea_8c8590684ea5row9_col6 {\n",
       "            background-color:  yellow;\n",
       "        }    #T_9a55b188_a5dc_11e8_94ea_8c8590684ea5row9_col26 {\n",
       "            background-color:  yellow;\n",
       "        }    #T_9a55b188_a5dc_11e8_94ea_8c8590684ea5row10_col16 {\n",
       "            background-color:  yellow;\n",
       "        }    #T_9a55b188_a5dc_11e8_94ea_8c8590684ea5row11_col19 {\n",
       "            background-color:  yellow;\n",
       "        }    #T_9a55b188_a5dc_11e8_94ea_8c8590684ea5row12_col18 {\n",
       "            background-color:  yellow;\n",
       "        }    #T_9a55b188_a5dc_11e8_94ea_8c8590684ea5row13_col0 {\n",
       "            background-color:  yellow;\n",
       "        }    #T_9a55b188_a5dc_11e8_94ea_8c8590684ea5row14_col1 {\n",
       "            background-color:  yellow;\n",
       "        }    #T_9a55b188_a5dc_11e8_94ea_8c8590684ea5row15_col9 {\n",
       "            background-color:  yellow;\n",
       "        }    #T_9a55b188_a5dc_11e8_94ea_8c8590684ea5row16_col12 {\n",
       "            background-color:  yellow;\n",
       "        }    #T_9a55b188_a5dc_11e8_94ea_8c8590684ea5row17_col8 {\n",
       "            background-color:  yellow;\n",
       "        }    #T_9a55b188_a5dc_11e8_94ea_8c8590684ea5row17_col13 {\n",
       "            background-color:  yellow;\n",
       "        }    #T_9a55b188_a5dc_11e8_94ea_8c8590684ea5row17_col15 {\n",
       "            background-color:  yellow;\n",
       "        }    #T_9a55b188_a5dc_11e8_94ea_8c8590684ea5row18_col22 {\n",
       "            background-color:  yellow;\n",
       "        }    #T_9a55b188_a5dc_11e8_94ea_8c8590684ea5row19_col21 {\n",
       "            background-color:  yellow;\n",
       "        }    #T_9a55b188_a5dc_11e8_94ea_8c8590684ea5row20_col25 {\n",
       "            background-color:  yellow;\n",
       "        }    #T_9a55b188_a5dc_11e8_94ea_8c8590684ea5row21_col23 {\n",
       "            background-color:  yellow;\n",
       "        }    #T_9a55b188_a5dc_11e8_94ea_8c8590684ea5row22_col24 {\n",
       "            background-color:  yellow;\n",
       "        }    #T_9a55b188_a5dc_11e8_94ea_8c8590684ea5row23_col10 {\n",
       "            background-color:  yellow;\n",
       "        }    #T_9a55b188_a5dc_11e8_94ea_8c8590684ea5row24_col3 {\n",
       "            background-color:  yellow;\n",
       "        }    #T_9a55b188_a5dc_11e8_94ea_8c8590684ea5row25_col14 {\n",
       "            background-color:  yellow;\n",
       "        }    #T_9a55b188_a5dc_11e8_94ea_8c8590684ea5row26_col20 {\n",
       "            background-color:  yellow;\n",
       "        }</style>  \n",
       "<table id=\"T_9a55b188_a5dc_11e8_94ea_8c8590684ea5\" > \n",
       "<thead>    <tr> \n",
       "        <th class=\"blank level0\" ></th> \n",
       "        <th class=\"col_heading level0 col0\" >LotFrontage</th> \n",
       "        <th class=\"col_heading level0 col1\" >LotArea</th> \n",
       "        <th class=\"col_heading level0 col2\" >OverallQual</th> \n",
       "        <th class=\"col_heading level0 col3\" >OverallCond</th> \n",
       "        <th class=\"col_heading level0 col4\" >YearBuilt</th> \n",
       "        <th class=\"col_heading level0 col5\" >YearRemod/Add</th> \n",
       "        <th class=\"col_heading level0 col6\" >MasVnrArea</th> \n",
       "        <th class=\"col_heading level0 col7\" >TotalBsmtSF</th> \n",
       "        <th class=\"col_heading level0 col8\" >GrLivArea</th> \n",
       "        <th class=\"col_heading level0 col9\" >BsmtFullBath</th> \n",
       "        <th class=\"col_heading level0 col10\" >BsmtHalfBath</th> \n",
       "        <th class=\"col_heading level0 col11\" >FullBath</th> \n",
       "        <th class=\"col_heading level0 col12\" >HalfBath</th> \n",
       "        <th class=\"col_heading level0 col13\" >BedroomAbvGr</th> \n",
       "        <th class=\"col_heading level0 col14\" >KitchenAbvGr</th> \n",
       "        <th class=\"col_heading level0 col15\" >TotRmsAbvGrd</th> \n",
       "        <th class=\"col_heading level0 col16\" >Fireplaces</th> \n",
       "        <th class=\"col_heading level0 col17\" >GarageArea</th> \n",
       "        <th class=\"col_heading level0 col18\" >WoodDeckSF</th> \n",
       "        <th class=\"col_heading level0 col19\" >OpenPorchSF</th> \n",
       "        <th class=\"col_heading level0 col20\" >EnclosedPorch</th> \n",
       "        <th class=\"col_heading level0 col21\" >3SsnPorch</th> \n",
       "        <th class=\"col_heading level0 col22\" >ScreenPorch</th> \n",
       "        <th class=\"col_heading level0 col23\" >PoolArea</th> \n",
       "        <th class=\"col_heading level0 col24\" >MiscVal</th> \n",
       "        <th class=\"col_heading level0 col25\" >MoSold</th> \n",
       "        <th class=\"col_heading level0 col26\" >SalePrice</th> \n",
       "    </tr></thead> \n",
       "<tbody>    <tr> \n",
       "        <th id=\"T_9a55b188_a5dc_11e8_94ea_8c8590684ea5level0_row0\" class=\"row_heading level0 row0\" >SalePrice</th> \n",
       "        <td id=\"T_9a55b188_a5dc_11e8_94ea_8c8590684ea5row0_col0\" class=\"data row0 col0\" >0.325129</td> \n",
       "        <td id=\"T_9a55b188_a5dc_11e8_94ea_8c8590684ea5row0_col1\" class=\"data row0 col1\" >0.296566</td> \n",
       "        <td id=\"T_9a55b188_a5dc_11e8_94ea_8c8590684ea5row0_col2\" class=\"data row0 col2\" >0.800207</td> \n",
       "        <td id=\"T_9a55b188_a5dc_11e8_94ea_8c8590684ea5row0_col3\" class=\"data row0 col3\" >-0.0970189</td> \n",
       "        <td id=\"T_9a55b188_a5dc_11e8_94ea_8c8590684ea5row0_col4\" class=\"data row0 col4\" >0.571849</td> \n",
       "        <td id=\"T_9a55b188_a5dc_11e8_94ea_8c8590684ea5row0_col5\" class=\"data row0 col5\" >0.55037</td> \n",
       "        <td id=\"T_9a55b188_a5dc_11e8_94ea_8c8590684ea5row0_col6\" class=\"data row0 col6\" >0.503579</td> \n",
       "        <td id=\"T_9a55b188_a5dc_11e8_94ea_8c8590684ea5row0_col7\" class=\"data row0 col7\" >0.628754</td> \n",
       "        <td id=\"T_9a55b188_a5dc_11e8_94ea_8c8590684ea5row0_col8\" class=\"data row0 col8\" >0.697038</td> \n",
       "        <td id=\"T_9a55b188_a5dc_11e8_94ea_8c8590684ea5row0_col9\" class=\"data row0 col9\" >0.283332</td> \n",
       "        <td id=\"T_9a55b188_a5dc_11e8_94ea_8c8590684ea5row0_col10\" class=\"data row0 col10\" >-0.0452903</td> \n",
       "        <td id=\"T_9a55b188_a5dc_11e8_94ea_8c8590684ea5row0_col11\" class=\"data row0 col11\" >0.537969</td> \n",
       "        <td id=\"T_9a55b188_a5dc_11e8_94ea_8c8590684ea5row0_col12\" class=\"data row0 col12\" >0.283001</td> \n",
       "        <td id=\"T_9a55b188_a5dc_11e8_94ea_8c8590684ea5row0_col13\" class=\"data row0 col13\" >0.137067</td> \n",
       "        <td id=\"T_9a55b188_a5dc_11e8_94ea_8c8590684ea5row0_col14\" class=\"data row0 col14\" >-0.125444</td> \n",
       "        <td id=\"T_9a55b188_a5dc_11e8_94ea_8c8590684ea5row0_col15\" class=\"data row0 col15\" >0.504014</td> \n",
       "        <td id=\"T_9a55b188_a5dc_11e8_94ea_8c8590684ea5row0_col16\" class=\"data row0 col16\" >0.471093</td> \n",
       "        <td id=\"T_9a55b188_a5dc_11e8_94ea_8c8590684ea5row0_col17\" class=\"data row0 col17\" >0.650241</td> \n",
       "        <td id=\"T_9a55b188_a5dc_11e8_94ea_8c8590684ea5row0_col18\" class=\"data row0 col18\" >0.32649</td> \n",
       "        <td id=\"T_9a55b188_a5dc_11e8_94ea_8c8590684ea5row0_col19\" class=\"data row0 col19\" >0.333476</td> \n",
       "        <td id=\"T_9a55b188_a5dc_11e8_94ea_8c8590684ea5row0_col20\" class=\"data row0 col20\" >-0.135656</td> \n",
       "        <td id=\"T_9a55b188_a5dc_11e8_94ea_8c8590684ea5row0_col21\" class=\"data row0 col21\" >0.0487319</td> \n",
       "        <td id=\"T_9a55b188_a5dc_11e8_94ea_8c8590684ea5row0_col22\" class=\"data row0 col22\" >0.134581</td> \n",
       "        <td id=\"T_9a55b188_a5dc_11e8_94ea_8c8590684ea5row0_col23\" class=\"data row0 col23\" >0.0231063</td> \n",
       "        <td id=\"T_9a55b188_a5dc_11e8_94ea_8c8590684ea5row0_col24\" class=\"data row0 col24\" >-0.00737476</td> \n",
       "        <td id=\"T_9a55b188_a5dc_11e8_94ea_8c8590684ea5row0_col25\" class=\"data row0 col25\" >0.0327354</td> \n",
       "        <td id=\"T_9a55b188_a5dc_11e8_94ea_8c8590684ea5row0_col26\" class=\"data row0 col26\" >1</td> \n",
       "    </tr>    <tr> \n",
       "        <th id=\"T_9a55b188_a5dc_11e8_94ea_8c8590684ea5level0_row1\" class=\"row_heading level0 row1\" >OverallQual</th> \n",
       "        <td id=\"T_9a55b188_a5dc_11e8_94ea_8c8590684ea5row1_col0\" class=\"data row1 col0\" >0.182361</td> \n",
       "        <td id=\"T_9a55b188_a5dc_11e8_94ea_8c8590684ea5row1_col1\" class=\"data row1 col1\" >0.105824</td> \n",
       "        <td id=\"T_9a55b188_a5dc_11e8_94ea_8c8590684ea5row1_col2\" class=\"data row1 col2\" >1</td> \n",
       "        <td id=\"T_9a55b188_a5dc_11e8_94ea_8c8590684ea5row1_col3\" class=\"data row1 col3\" >-0.0827704</td> \n",
       "        <td id=\"T_9a55b188_a5dc_11e8_94ea_8c8590684ea5row1_col4\" class=\"data row1 col4\" >0.602964</td> \n",
       "        <td id=\"T_9a55b188_a5dc_11e8_94ea_8c8590684ea5row1_col5\" class=\"data row1 col5\" >0.584654</td> \n",
       "        <td id=\"T_9a55b188_a5dc_11e8_94ea_8c8590684ea5row1_col6\" class=\"data row1 col6\" >0.430041</td> \n",
       "        <td id=\"T_9a55b188_a5dc_11e8_94ea_8c8590684ea5row1_col7\" class=\"data row1 col7\" >0.548548</td> \n",
       "        <td id=\"T_9a55b188_a5dc_11e8_94ea_8c8590684ea5row1_col8\" class=\"data row1 col8\" >0.566701</td> \n",
       "        <td id=\"T_9a55b188_a5dc_11e8_94ea_8c8590684ea5row1_col9\" class=\"data row1 col9\" >0.175896</td> \n",
       "        <td id=\"T_9a55b188_a5dc_11e8_94ea_8c8590684ea5row1_col10\" class=\"data row1 col10\" >-0.047006</td> \n",
       "        <td id=\"T_9a55b188_a5dc_11e8_94ea_8c8590684ea5row1_col11\" class=\"data row1 col11\" >0.51508</td> \n",
       "        <td id=\"T_9a55b188_a5dc_11e8_94ea_8c8590684ea5row1_col12\" class=\"data row1 col12\" >0.274859</td> \n",
       "        <td id=\"T_9a55b188_a5dc_11e8_94ea_8c8590684ea5row1_col13\" class=\"data row1 col13\" >0.0533727</td> \n",
       "        <td id=\"T_9a55b188_a5dc_11e8_94ea_8c8590684ea5row1_col14\" class=\"data row1 col14\" >-0.170964</td> \n",
       "        <td id=\"T_9a55b188_a5dc_11e8_94ea_8c8590684ea5row1_col15\" class=\"data row1 col15\" >0.382025</td> \n",
       "        <td id=\"T_9a55b188_a5dc_11e8_94ea_8c8590684ea5row1_col16\" class=\"data row1 col16\" >0.38892</td> \n",
       "        <td id=\"T_9a55b188_a5dc_11e8_94ea_8c8590684ea5row1_col17\" class=\"data row1 col17\" >0.563719</td> \n",
       "        <td id=\"T_9a55b188_a5dc_11e8_94ea_8c8590684ea5row1_col18\" class=\"data row1 col18\" >0.257081</td> \n",
       "        <td id=\"T_9a55b188_a5dc_11e8_94ea_8c8590684ea5row1_col19\" class=\"data row1 col19\" >0.308855</td> \n",
       "        <td id=\"T_9a55b188_a5dc_11e8_94ea_8c8590684ea5row1_col20\" class=\"data row1 col20\" >-0.154554</td> \n",
       "        <td id=\"T_9a55b188_a5dc_11e8_94ea_8c8590684ea5row1_col21\" class=\"data row1 col21\" >0.0319377</td> \n",
       "        <td id=\"T_9a55b188_a5dc_11e8_94ea_8c8590684ea5row1_col22\" class=\"data row1 col22\" >0.0487522</td> \n",
       "        <td id=\"T_9a55b188_a5dc_11e8_94ea_8c8590684ea5row1_col23\" class=\"data row1 col23\" >0.00655824</td> \n",
       "        <td id=\"T_9a55b188_a5dc_11e8_94ea_8c8590684ea5row1_col24\" class=\"data row1 col24\" >0.0220987</td> \n",
       "        <td id=\"T_9a55b188_a5dc_11e8_94ea_8c8590684ea5row1_col25\" class=\"data row1 col25\" >0.0192424</td> \n",
       "        <td id=\"T_9a55b188_a5dc_11e8_94ea_8c8590684ea5row1_col26\" class=\"data row1 col26\" >0.800207</td> \n",
       "    </tr>    <tr> \n",
       "        <th id=\"T_9a55b188_a5dc_11e8_94ea_8c8590684ea5level0_row2\" class=\"row_heading level0 row2\" >GrLivArea</th> \n",
       "        <td id=\"T_9a55b188_a5dc_11e8_94ea_8c8590684ea5row2_col0\" class=\"data row2 col0\" >0.349084</td> \n",
       "        <td id=\"T_9a55b188_a5dc_11e8_94ea_8c8590684ea5row2_col1\" class=\"data row2 col1\" >0.327427</td> \n",
       "        <td id=\"T_9a55b188_a5dc_11e8_94ea_8c8590684ea5row2_col2\" class=\"data row2 col2\" >0.566701</td> \n",
       "        <td id=\"T_9a55b188_a5dc_11e8_94ea_8c8590684ea5row2_col3\" class=\"data row2 col3\" >-0.109804</td> \n",
       "        <td id=\"T_9a55b188_a5dc_11e8_94ea_8c8590684ea5row2_col4\" class=\"data row2 col4\" >0.258838</td> \n",
       "        <td id=\"T_9a55b188_a5dc_11e8_94ea_8c8590684ea5row2_col5\" class=\"data row2 col5\" >0.322407</td> \n",
       "        <td id=\"T_9a55b188_a5dc_11e8_94ea_8c8590684ea5row2_col6\" class=\"data row2 col6\" >0.383875</td> \n",
       "        <td id=\"T_9a55b188_a5dc_11e8_94ea_8c8590684ea5row2_col7\" class=\"data row2 col7\" >0.453555</td> \n",
       "        <td id=\"T_9a55b188_a5dc_11e8_94ea_8c8590684ea5row2_col8\" class=\"data row2 col8\" >1</td> \n",
       "        <td id=\"T_9a55b188_a5dc_11e8_94ea_8c8590684ea5row2_col9\" class=\"data row2 col9\" >0.0643233</td> \n",
       "        <td id=\"T_9a55b188_a5dc_11e8_94ea_8c8590684ea5row2_col10\" class=\"data row2 col10\" >-0.0545227</td> \n",
       "        <td id=\"T_9a55b188_a5dc_11e8_94ea_8c8590684ea5row2_col11\" class=\"data row2 col11\" >0.617323</td> \n",
       "        <td id=\"T_9a55b188_a5dc_11e8_94ea_8c8590684ea5row2_col12\" class=\"data row2 col12\" >0.429707</td> \n",
       "        <td id=\"T_9a55b188_a5dc_11e8_94ea_8c8590684ea5row2_col13\" class=\"data row2 col13\" >0.507579</td> \n",
       "        <td id=\"T_9a55b188_a5dc_11e8_94ea_8c8590684ea5row2_col14\" class=\"data row2 col14\" >0.0970274</td> \n",
       "        <td id=\"T_9a55b188_a5dc_11e8_94ea_8c8590684ea5row2_col15\" class=\"data row2 col15\" >0.813333</td> \n",
       "        <td id=\"T_9a55b188_a5dc_11e8_94ea_8c8590684ea5row2_col16\" class=\"data row2 col16\" >0.458701</td> \n",
       "        <td id=\"T_9a55b188_a5dc_11e8_94ea_8c8590684ea5row2_col17\" class=\"data row2 col17\" >0.490907</td> \n",
       "        <td id=\"T_9a55b188_a5dc_11e8_94ea_8c8590684ea5row2_col18\" class=\"data row2 col18\" >0.270239</td> \n",
       "        <td id=\"T_9a55b188_a5dc_11e8_94ea_8c8590684ea5row2_col19\" class=\"data row2 col19\" >0.345008</td> \n",
       "        <td id=\"T_9a55b188_a5dc_11e8_94ea_8c8590684ea5row2_col20\" class=\"data row2 col20\" >-0.00777677</td> \n",
       "        <td id=\"T_9a55b188_a5dc_11e8_94ea_8c8590684ea5row2_col21\" class=\"data row2 col21\" >0.0245043</td> \n",
       "        <td id=\"T_9a55b188_a5dc_11e8_94ea_8c8590684ea5row2_col22\" class=\"data row2 col22\" >0.101926</td> \n",
       "        <td id=\"T_9a55b188_a5dc_11e8_94ea_8c8590684ea5row2_col23\" class=\"data row2 col23\" >0.113034</td> \n",
       "        <td id=\"T_9a55b188_a5dc_11e8_94ea_8c8590684ea5row2_col24\" class=\"data row2 col24\" >0.113673</td> \n",
       "        <td id=\"T_9a55b188_a5dc_11e8_94ea_8c8590684ea5row2_col25\" class=\"data row2 col25\" >0.0496443</td> \n",
       "        <td id=\"T_9a55b188_a5dc_11e8_94ea_8c8590684ea5row2_col26\" class=\"data row2 col26\" >0.697038</td> \n",
       "    </tr>    <tr> \n",
       "        <th id=\"T_9a55b188_a5dc_11e8_94ea_8c8590684ea5level0_row3\" class=\"row_heading level0 row3\" >GarageArea</th> \n",
       "        <td id=\"T_9a55b188_a5dc_11e8_94ea_8c8590684ea5row3_col0\" class=\"data row3 col0\" >0.337745</td> \n",
       "        <td id=\"T_9a55b188_a5dc_11e8_94ea_8c8590684ea5row3_col1\" class=\"data row3 col1\" >0.263292</td> \n",
       "        <td id=\"T_9a55b188_a5dc_11e8_94ea_8c8590684ea5row3_col2\" class=\"data row3 col2\" >0.563719</td> \n",
       "        <td id=\"T_9a55b188_a5dc_11e8_94ea_8c8590684ea5row3_col3\" class=\"data row3 col3\" >-0.137906</td> \n",
       "        <td id=\"T_9a55b188_a5dc_11e8_94ea_8c8590684ea5row3_col4\" class=\"data row3 col4\" >0.486844</td> \n",
       "        <td id=\"T_9a55b188_a5dc_11e8_94ea_8c8590684ea5row3_col5\" class=\"data row3 col5\" >0.398961</td> \n",
       "        <td id=\"T_9a55b188_a5dc_11e8_94ea_8c8590684ea5row3_col6\" class=\"data row3 col6\" >0.380396</td> \n",
       "        <td id=\"T_9a55b188_a5dc_11e8_94ea_8c8590684ea5row3_col7\" class=\"data row3 col7\" >0.488738</td> \n",
       "        <td id=\"T_9a55b188_a5dc_11e8_94ea_8c8590684ea5row3_col8\" class=\"data row3 col8\" >0.490907</td> \n",
       "        <td id=\"T_9a55b188_a5dc_11e8_94ea_8c8590684ea5row3_col9\" class=\"data row3 col9\" >0.204621</td> \n",
       "        <td id=\"T_9a55b188_a5dc_11e8_94ea_8c8590684ea5row3_col10\" class=\"data row3 col10\" >-0.0249564</td> \n",
       "        <td id=\"T_9a55b188_a5dc_11e8_94ea_8c8590684ea5row3_col11\" class=\"data row3 col11\" >0.398214</td> \n",
       "        <td id=\"T_9a55b188_a5dc_11e8_94ea_8c8590684ea5row3_col12\" class=\"data row3 col12\" >0.177403</td> \n",
       "        <td id=\"T_9a55b188_a5dc_11e8_94ea_8c8590684ea5row3_col13\" class=\"data row3 col13\" >0.0699419</td> \n",
       "        <td id=\"T_9a55b188_a5dc_11e8_94ea_8c8590684ea5row3_col14\" class=\"data row3 col14\" >-0.0685383</td> \n",
       "        <td id=\"T_9a55b188_a5dc_11e8_94ea_8c8590684ea5row3_col15\" class=\"data row3 col15\" >0.341133</td> \n",
       "        <td id=\"T_9a55b188_a5dc_11e8_94ea_8c8590684ea5row3_col16\" class=\"data row3 col16\" >0.291581</td> \n",
       "        <td id=\"T_9a55b188_a5dc_11e8_94ea_8c8590684ea5row3_col17\" class=\"data row3 col17\" >1</td> \n",
       "        <td id=\"T_9a55b188_a5dc_11e8_94ea_8c8590684ea5row3_col18\" class=\"data row3 col18\" >0.245499</td> \n",
       "        <td id=\"T_9a55b188_a5dc_11e8_94ea_8c8590684ea5row3_col19\" class=\"data row3 col19\" >0.247181</td> \n",
       "        <td id=\"T_9a55b188_a5dc_11e8_94ea_8c8590684ea5row3_col20\" class=\"data row3 col20\" >-0.112033</td> \n",
       "        <td id=\"T_9a55b188_a5dc_11e8_94ea_8c8590684ea5row3_col21\" class=\"data row3 col21\" >0.0439162</td> \n",
       "        <td id=\"T_9a55b188_a5dc_11e8_94ea_8c8590684ea5row3_col22\" class=\"data row3 col22\" >0.0710614</td> \n",
       "        <td id=\"T_9a55b188_a5dc_11e8_94ea_8c8590684ea5row3_col23\" class=\"data row3 col23\" >0.0458746</td> \n",
       "        <td id=\"T_9a55b188_a5dc_11e8_94ea_8c8590684ea5row3_col24\" class=\"data row3 col24\" >0.0336395</td> \n",
       "        <td id=\"T_9a55b188_a5dc_11e8_94ea_8c8590684ea5row3_col25\" class=\"data row3 col25\" >0.00994371</td> \n",
       "        <td id=\"T_9a55b188_a5dc_11e8_94ea_8c8590684ea5row3_col26\" class=\"data row3 col26\" >0.650241</td> \n",
       "    </tr>    <tr> \n",
       "        <th id=\"T_9a55b188_a5dc_11e8_94ea_8c8590684ea5level0_row4\" class=\"row_heading level0 row4\" >TotalBsmtSF</th> \n",
       "        <td id=\"T_9a55b188_a5dc_11e8_94ea_8c8590684ea5row4_col0\" class=\"data row4 col0\" >0.332511</td> \n",
       "        <td id=\"T_9a55b188_a5dc_11e8_94ea_8c8590684ea5row4_col1\" class=\"data row4 col1\" >0.277191</td> \n",
       "        <td id=\"T_9a55b188_a5dc_11e8_94ea_8c8590684ea5row4_col2\" class=\"data row4 col2\" >0.548548</td> \n",
       "        <td id=\"T_9a55b188_a5dc_11e8_94ea_8c8590684ea5row4_col3\" class=\"data row4 col3\" >-0.158666</td> \n",
       "        <td id=\"T_9a55b188_a5dc_11e8_94ea_8c8590684ea5row4_col4\" class=\"data row4 col4\" >0.410238</td> \n",
       "        <td id=\"T_9a55b188_a5dc_11e8_94ea_8c8590684ea5row4_col5\" class=\"data row4 col5\" >0.308457</td> \n",
       "        <td id=\"T_9a55b188_a5dc_11e8_94ea_8c8590684ea5row4_col6\" class=\"data row4 col6\" >0.403551</td> \n",
       "        <td id=\"T_9a55b188_a5dc_11e8_94ea_8c8590684ea5row4_col7\" class=\"data row4 col7\" >1</td> \n",
       "        <td id=\"T_9a55b188_a5dc_11e8_94ea_8c8590684ea5row4_col8\" class=\"data row4 col8\" >0.453555</td> \n",
       "        <td id=\"T_9a55b188_a5dc_11e8_94ea_8c8590684ea5row4_col9\" class=\"data row4 col9\" >0.321827</td> \n",
       "        <td id=\"T_9a55b188_a5dc_11e8_94ea_8c8590684ea5row4_col10\" class=\"data row4 col10\" >0.00570317</td> \n",
       "        <td id=\"T_9a55b188_a5dc_11e8_94ea_8c8590684ea5row4_col11\" class=\"data row4 col11\" >0.325582</td> \n",
       "        <td id=\"T_9a55b188_a5dc_11e8_94ea_8c8590684ea5row4_col12\" class=\"data row4 col12\" >-0.0550452</td> \n",
       "        <td id=\"T_9a55b188_a5dc_11e8_94ea_8c8590684ea5row4_col13\" class=\"data row4 col13\" >0.0491685</td> \n",
       "        <td id=\"T_9a55b188_a5dc_11e8_94ea_8c8590684ea5row4_col14\" class=\"data row4 col14\" >-0.0499877</td> \n",
       "        <td id=\"T_9a55b188_a5dc_11e8_94ea_8c8590684ea5row4_col15\" class=\"data row4 col15\" >0.293499</td> \n",
       "        <td id=\"T_9a55b188_a5dc_11e8_94ea_8c8590684ea5row4_col16\" class=\"data row4 col16\" >0.333093</td> \n",
       "        <td id=\"T_9a55b188_a5dc_11e8_94ea_8c8590684ea5row4_col17\" class=\"data row4 col17\" >0.488738</td> \n",
       "        <td id=\"T_9a55b188_a5dc_11e8_94ea_8c8590684ea5row4_col18\" class=\"data row4 col18\" >0.224679</td> \n",
       "        <td id=\"T_9a55b188_a5dc_11e8_94ea_8c8590684ea5row4_col19\" class=\"data row4 col19\" >0.257243</td> \n",
       "        <td id=\"T_9a55b188_a5dc_11e8_94ea_8c8590684ea5row4_col20\" class=\"data row4 col20\" >-0.0880252</td> \n",
       "        <td id=\"T_9a55b188_a5dc_11e8_94ea_8c8590684ea5row4_col21\" class=\"data row4 col21\" >0.06029</td> \n",
       "        <td id=\"T_9a55b188_a5dc_11e8_94ea_8c8590684ea5row4_col22\" class=\"data row4 col22\" >0.0760784</td> \n",
       "        <td id=\"T_9a55b188_a5dc_11e8_94ea_8c8590684ea5row4_col23\" class=\"data row4 col23\" >0.061507</td> \n",
       "        <td id=\"T_9a55b188_a5dc_11e8_94ea_8c8590684ea5row4_col24\" class=\"data row4 col24\" >0.125606</td> \n",
       "        <td id=\"T_9a55b188_a5dc_11e8_94ea_8c8590684ea5row4_col25\" class=\"data row4 col25\" >0.00396996</td> \n",
       "        <td id=\"T_9a55b188_a5dc_11e8_94ea_8c8590684ea5row4_col26\" class=\"data row4 col26\" >0.628754</td> \n",
       "    </tr>    <tr> \n",
       "        <th id=\"T_9a55b188_a5dc_11e8_94ea_8c8590684ea5level0_row5\" class=\"row_heading level0 row5\" >YearBuilt</th> \n",
       "        <td id=\"T_9a55b188_a5dc_11e8_94ea_8c8590684ea5row5_col0\" class=\"data row5 col0\" >0.103534</td> \n",
       "        <td id=\"T_9a55b188_a5dc_11e8_94ea_8c8590684ea5row5_col1\" class=\"data row5 col1\" >0.0360023</td> \n",
       "        <td id=\"T_9a55b188_a5dc_11e8_94ea_8c8590684ea5row5_col2\" class=\"data row5 col2\" >0.602964</td> \n",
       "        <td id=\"T_9a55b188_a5dc_11e8_94ea_8c8590684ea5row5_col3\" class=\"data row5 col3\" >-0.370988</td> \n",
       "        <td id=\"T_9a55b188_a5dc_11e8_94ea_8c8590684ea5row5_col4\" class=\"data row5 col4\" >1</td> \n",
       "        <td id=\"T_9a55b188_a5dc_11e8_94ea_8c8590684ea5row5_col5\" class=\"data row5 col5\" >0.629116</td> \n",
       "        <td id=\"T_9a55b188_a5dc_11e8_94ea_8c8590684ea5row5_col6\" class=\"data row5 col6\" >0.32078</td> \n",
       "        <td id=\"T_9a55b188_a5dc_11e8_94ea_8c8590684ea5row5_col7\" class=\"data row5 col7\" >0.410238</td> \n",
       "        <td id=\"T_9a55b188_a5dc_11e8_94ea_8c8590684ea5row5_col8\" class=\"data row5 col8\" >0.258838</td> \n",
       "        <td id=\"T_9a55b188_a5dc_11e8_94ea_8c8590684ea5row5_col9\" class=\"data row5 col9\" >0.21559</td> \n",
       "        <td id=\"T_9a55b188_a5dc_11e8_94ea_8c8590684ea5row5_col10\" class=\"data row5 col10\" >-0.0312993</td> \n",
       "        <td id=\"T_9a55b188_a5dc_11e8_94ea_8c8590684ea5row5_col11\" class=\"data row5 col11\" >0.480169</td> \n",
       "        <td id=\"T_9a55b188_a5dc_11e8_94ea_8c8590684ea5row5_col12\" class=\"data row5 col12\" >0.283207</td> \n",
       "        <td id=\"T_9a55b188_a5dc_11e8_94ea_8c8590684ea5row5_col13\" class=\"data row5 col13\" >-0.042149</td> \n",
       "        <td id=\"T_9a55b188_a5dc_11e8_94ea_8c8590684ea5row5_col14\" class=\"data row5 col14\" >-0.127162</td> \n",
       "        <td id=\"T_9a55b188_a5dc_11e8_94ea_8c8590684ea5row5_col15\" class=\"data row5 col15\" >0.137783</td> \n",
       "        <td id=\"T_9a55b188_a5dc_11e8_94ea_8c8590684ea5row5_col16\" class=\"data row5 col16\" >0.168848</td> \n",
       "        <td id=\"T_9a55b188_a5dc_11e8_94ea_8c8590684ea5row5_col17\" class=\"data row5 col17\" >0.486844</td> \n",
       "        <td id=\"T_9a55b188_a5dc_11e8_94ea_8c8590684ea5row5_col18\" class=\"data row5 col18\" >0.216339</td> \n",
       "        <td id=\"T_9a55b188_a5dc_11e8_94ea_8c8590684ea5row5_col19\" class=\"data row5 col19\" >0.207798</td> \n",
       "        <td id=\"T_9a55b188_a5dc_11e8_94ea_8c8590684ea5row5_col20\" class=\"data row5 col20\" >-0.380082</td> \n",
       "        <td id=\"T_9a55b188_a5dc_11e8_94ea_8c8590684ea5row5_col21\" class=\"data row5 col21\" >0.0161044</td> \n",
       "        <td id=\"T_9a55b188_a5dc_11e8_94ea_8c8590684ea5row5_col22\" class=\"data row5 col22\" >-0.0378656</td> \n",
       "        <td id=\"T_9a55b188_a5dc_11e8_94ea_8c8590684ea5row5_col23\" class=\"data row5 col23\" >0.00372829</td> \n",
       "        <td id=\"T_9a55b188_a5dc_11e8_94ea_8c8590684ea5row5_col24\" class=\"data row5 col24\" >0.000625828</td> \n",
       "        <td id=\"T_9a55b188_a5dc_11e8_94ea_8c8590684ea5row5_col25\" class=\"data row5 col25\" >-0.00708309</td> \n",
       "        <td id=\"T_9a55b188_a5dc_11e8_94ea_8c8590684ea5row5_col26\" class=\"data row5 col26\" >0.571849</td> \n",
       "    </tr>    <tr> \n",
       "        <th id=\"T_9a55b188_a5dc_11e8_94ea_8c8590684ea5level0_row6\" class=\"row_heading level0 row6\" >YearRemod/Add</th> \n",
       "        <td id=\"T_9a55b188_a5dc_11e8_94ea_8c8590684ea5row6_col0\" class=\"data row6 col0\" >0.0799094</td> \n",
       "        <td id=\"T_9a55b188_a5dc_11e8_94ea_8c8590684ea5row6_col1\" class=\"data row6 col1\" >0.0507713</td> \n",
       "        <td id=\"T_9a55b188_a5dc_11e8_94ea_8c8590684ea5row6_col2\" class=\"data row6 col2\" >0.584654</td> \n",
       "        <td id=\"T_9a55b188_a5dc_11e8_94ea_8c8590684ea5row6_col3\" class=\"data row6 col3\" >0.0426145</td> \n",
       "        <td id=\"T_9a55b188_a5dc_11e8_94ea_8c8590684ea5row6_col4\" class=\"data row6 col4\" >0.629116</td> \n",
       "        <td id=\"T_9a55b188_a5dc_11e8_94ea_8c8590684ea5row6_col5\" class=\"data row6 col5\" >1</td> \n",
       "        <td id=\"T_9a55b188_a5dc_11e8_94ea_8c8590684ea5row6_col6\" class=\"data row6 col6\" >0.204234</td> \n",
       "        <td id=\"T_9a55b188_a5dc_11e8_94ea_8c8590684ea5row6_col7\" class=\"data row6 col7\" >0.308457</td> \n",
       "        <td id=\"T_9a55b188_a5dc_11e8_94ea_8c8590684ea5row6_col8\" class=\"data row6 col8\" >0.322407</td> \n",
       "        <td id=\"T_9a55b188_a5dc_11e8_94ea_8c8590684ea5row6_col9\" class=\"data row6 col9\" >0.153771</td> \n",
       "        <td id=\"T_9a55b188_a5dc_11e8_94ea_8c8590684ea5row6_col10\" class=\"data row6 col10\" >-0.0377634</td> \n",
       "        <td id=\"T_9a55b188_a5dc_11e8_94ea_8c8590684ea5row6_col11\" class=\"data row6 col11\" >0.471555</td> \n",
       "        <td id=\"T_9a55b188_a5dc_11e8_94ea_8c8590684ea5row6_col12\" class=\"data row6 col12\" >0.224106</td> \n",
       "        <td id=\"T_9a55b188_a5dc_11e8_94ea_8c8590684ea5row6_col13\" class=\"data row6 col13\" >-0.0197479</td> \n",
       "        <td id=\"T_9a55b188_a5dc_11e8_94ea_8c8590684ea5row6_col14\" class=\"data row6 col14\" >-0.135926</td> \n",
       "        <td id=\"T_9a55b188_a5dc_11e8_94ea_8c8590684ea5row6_col15\" class=\"data row6 col15\" >0.202397</td> \n",
       "        <td id=\"T_9a55b188_a5dc_11e8_94ea_8c8590684ea5row6_col16\" class=\"data row6 col16\" >0.138858</td> \n",
       "        <td id=\"T_9a55b188_a5dc_11e8_94ea_8c8590684ea5row6_col17\" class=\"data row6 col17\" >0.398961</td> \n",
       "        <td id=\"T_9a55b188_a5dc_11e8_94ea_8c8590684ea5row6_col18\" class=\"data row6 col18\" >0.216271</td> \n",
       "        <td id=\"T_9a55b188_a5dc_11e8_94ea_8c8590684ea5row6_col19\" class=\"data row6 col19\" >0.264476</td> \n",
       "        <td id=\"T_9a55b188_a5dc_11e8_94ea_8c8590684ea5row6_col20\" class=\"data row6 col20\" >-0.237523</td> \n",
       "        <td id=\"T_9a55b188_a5dc_11e8_94ea_8c8590684ea5row6_col21\" class=\"data row6 col21\" >0.0404163</td> \n",
       "        <td id=\"T_9a55b188_a5dc_11e8_94ea_8c8590684ea5row6_col22\" class=\"data row6 col22\" >-0.0412107</td> \n",
       "        <td id=\"T_9a55b188_a5dc_11e8_94ea_8c8590684ea5row6_col23\" class=\"data row6 col23\" >-0.0223821</td> \n",
       "        <td id=\"T_9a55b188_a5dc_11e8_94ea_8c8590684ea5row6_col24\" class=\"data row6 col24\" >-0.00170428</td> \n",
       "        <td id=\"T_9a55b188_a5dc_11e8_94ea_8c8590684ea5row6_col25\" class=\"data row6 col25\" >0.011568</td> \n",
       "        <td id=\"T_9a55b188_a5dc_11e8_94ea_8c8590684ea5row6_col26\" class=\"data row6 col26\" >0.55037</td> \n",
       "    </tr>    <tr> \n",
       "        <th id=\"T_9a55b188_a5dc_11e8_94ea_8c8590684ea5level0_row7\" class=\"row_heading level0 row7\" >FullBath</th> \n",
       "        <td id=\"T_9a55b188_a5dc_11e8_94ea_8c8590684ea5row7_col0\" class=\"data row7 col0\" >0.138012</td> \n",
       "        <td id=\"T_9a55b188_a5dc_11e8_94ea_8c8590684ea5row7_col1\" class=\"data row7 col1\" >0.125601</td> \n",
       "        <td id=\"T_9a55b188_a5dc_11e8_94ea_8c8590684ea5row7_col2\" class=\"data row7 col2\" >0.51508</td> \n",
       "        <td id=\"T_9a55b188_a5dc_11e8_94ea_8c8590684ea5row7_col3\" class=\"data row7 col3\" >-0.219189</td> \n",
       "        <td id=\"T_9a55b188_a5dc_11e8_94ea_8c8590684ea5row7_col4\" class=\"data row7 col4\" >0.480169</td> \n",
       "        <td id=\"T_9a55b188_a5dc_11e8_94ea_8c8590684ea5row7_col5\" class=\"data row7 col5\" >0.471555</td> \n",
       "        <td id=\"T_9a55b188_a5dc_11e8_94ea_8c8590684ea5row7_col6\" class=\"data row7 col6\" >0.232474</td> \n",
       "        <td id=\"T_9a55b188_a5dc_11e8_94ea_8c8590684ea5row7_col7\" class=\"data row7 col7\" >0.325582</td> \n",
       "        <td id=\"T_9a55b188_a5dc_11e8_94ea_8c8590684ea5row7_col8\" class=\"data row7 col8\" >0.617323</td> \n",
       "        <td id=\"T_9a55b188_a5dc_11e8_94ea_8c8590684ea5row7_col9\" class=\"data row7 col9\" >-0.0113804</td> \n",
       "        <td id=\"T_9a55b188_a5dc_11e8_94ea_8c8590684ea5row7_col10\" class=\"data row7 col10\" >-0.0601713</td> \n",
       "        <td id=\"T_9a55b188_a5dc_11e8_94ea_8c8590684ea5row7_col11\" class=\"data row7 col11\" >1</td> \n",
       "        <td id=\"T_9a55b188_a5dc_11e8_94ea_8c8590684ea5row7_col12\" class=\"data row7 col12\" >0.153656</td> \n",
       "        <td id=\"T_9a55b188_a5dc_11e8_94ea_8c8590684ea5row7_col13\" class=\"data row7 col13\" >0.344123</td> \n",
       "        <td id=\"T_9a55b188_a5dc_11e8_94ea_8c8590684ea5row7_col14\" class=\"data row7 col14\" >0.165939</td> \n",
       "        <td id=\"T_9a55b188_a5dc_11e8_94ea_8c8590684ea5row7_col15\" class=\"data row7 col15\" >0.51963</td> \n",
       "        <td id=\"T_9a55b188_a5dc_11e8_94ea_8c8590684ea5row7_col16\" class=\"data row7 col16\" >0.218833</td> \n",
       "        <td id=\"T_9a55b188_a5dc_11e8_94ea_8c8590684ea5row7_col17\" class=\"data row7 col17\" >0.398214</td> \n",
       "        <td id=\"T_9a55b188_a5dc_11e8_94ea_8c8590684ea5row7_col18\" class=\"data row7 col18\" >0.175502</td> \n",
       "        <td id=\"T_9a55b188_a5dc_11e8_94ea_8c8590684ea5row7_col19\" class=\"data row7 col19\" >0.244452</td> \n",
       "        <td id=\"T_9a55b188_a5dc_11e8_94ea_8c8590684ea5row7_col20\" class=\"data row7 col20\" >-0.125383</td> \n",
       "        <td id=\"T_9a55b188_a5dc_11e8_94ea_8c8590684ea5row7_col21\" class=\"data row7 col21\" >0.0278699</td> \n",
       "        <td id=\"T_9a55b188_a5dc_11e8_94ea_8c8590684ea5row7_col22\" class=\"data row7 col22\" >-0.0142957</td> \n",
       "        <td id=\"T_9a55b188_a5dc_11e8_94ea_8c8590684ea5row7_col23\" class=\"data row7 col23\" >0.0104583</td> \n",
       "        <td id=\"T_9a55b188_a5dc_11e8_94ea_8c8590684ea5row7_col24\" class=\"data row7 col24\" >0.00329273</td> \n",
       "        <td id=\"T_9a55b188_a5dc_11e8_94ea_8c8590684ea5row7_col25\" class=\"data row7 col25\" >0.0493902</td> \n",
       "        <td id=\"T_9a55b188_a5dc_11e8_94ea_8c8590684ea5row7_col26\" class=\"data row7 col26\" >0.537969</td> \n",
       "    </tr>    <tr> \n",
       "        <th id=\"T_9a55b188_a5dc_11e8_94ea_8c8590684ea5level0_row8\" class=\"row_heading level0 row8\" >TotRmsAbvGrd</th> \n",
       "        <td id=\"T_9a55b188_a5dc_11e8_94ea_8c8590684ea5row8_col0\" class=\"data row8 col0\" >0.331864</td> \n",
       "        <td id=\"T_9a55b188_a5dc_11e8_94ea_8c8590684ea5row8_col1\" class=\"data row8 col1\" >0.238724</td> \n",
       "        <td id=\"T_9a55b188_a5dc_11e8_94ea_8c8590684ea5row8_col2\" class=\"data row8 col2\" >0.382025</td> \n",
       "        <td id=\"T_9a55b188_a5dc_11e8_94ea_8c8590684ea5row8_col3\" class=\"data row8 col3\" >-0.0935761</td> \n",
       "        <td id=\"T_9a55b188_a5dc_11e8_94ea_8c8590684ea5row8_col4\" class=\"data row8 col4\" >0.137783</td> \n",
       "        <td id=\"T_9a55b188_a5dc_11e8_94ea_8c8590684ea5row8_col5\" class=\"data row8 col5\" >0.202397</td> \n",
       "        <td id=\"T_9a55b188_a5dc_11e8_94ea_8c8590684ea5row8_col6\" class=\"data row8 col6\" >0.271657</td> \n",
       "        <td id=\"T_9a55b188_a5dc_11e8_94ea_8c8590684ea5row8_col7\" class=\"data row8 col7\" >0.293499</td> \n",
       "        <td id=\"T_9a55b188_a5dc_11e8_94ea_8c8590684ea5row8_col8\" class=\"data row8 col8\" >0.813333</td> \n",
       "        <td id=\"T_9a55b188_a5dc_11e8_94ea_8c8590684ea5row8_col9\" class=\"data row8 col9\" >-0.0399857</td> \n",
       "        <td id=\"T_9a55b188_a5dc_11e8_94ea_8c8590684ea5row8_col10\" class=\"data row8 col10\" >-0.0542624</td> \n",
       "        <td id=\"T_9a55b188_a5dc_11e8_94ea_8c8590684ea5row8_col11\" class=\"data row8 col11\" >0.51963</td> \n",
       "        <td id=\"T_9a55b188_a5dc_11e8_94ea_8c8590684ea5row8_col12\" class=\"data row8 col12\" >0.339638</td> \n",
       "        <td id=\"T_9a55b188_a5dc_11e8_94ea_8c8590684ea5row8_col13\" class=\"data row8 col13\" >0.655439</td> \n",
       "        <td id=\"T_9a55b188_a5dc_11e8_94ea_8c8590684ea5row8_col14\" class=\"data row8 col14\" >0.276663</td> \n",
       "        <td id=\"T_9a55b188_a5dc_11e8_94ea_8c8590684ea5row8_col15\" class=\"data row8 col15\" >1</td> \n",
       "        <td id=\"T_9a55b188_a5dc_11e8_94ea_8c8590684ea5row8_col16\" class=\"data row8 col16\" >0.311765</td> \n",
       "        <td id=\"T_9a55b188_a5dc_11e8_94ea_8c8590684ea5row8_col17\" class=\"data row8 col17\" >0.341133</td> \n",
       "        <td id=\"T_9a55b188_a5dc_11e8_94ea_8c8590684ea5row8_col18\" class=\"data row8 col18\" >0.182835</td> \n",
       "        <td id=\"T_9a55b188_a5dc_11e8_94ea_8c8590684ea5row8_col19\" class=\"data row8 col19\" >0.226346</td> \n",
       "        <td id=\"T_9a55b188_a5dc_11e8_94ea_8c8590684ea5row8_col20\" class=\"data row8 col20\" >0.00552058</td> \n",
       "        <td id=\"T_9a55b188_a5dc_11e8_94ea_8c8590684ea5row8_col21\" class=\"data row8 col21\" >-0.00810113</td> \n",
       "        <td id=\"T_9a55b188_a5dc_11e8_94ea_8c8590684ea5row8_col22\" class=\"data row8 col22\" >0.0463288</td> \n",
       "        <td id=\"T_9a55b188_a5dc_11e8_94ea_8c8590684ea5row8_col23\" class=\"data row8 col23\" >0.0724998</td> \n",
       "        <td id=\"T_9a55b188_a5dc_11e8_94ea_8c8590684ea5row8_col24\" class=\"data row8 col24\" >0.100175</td> \n",
       "        <td id=\"T_9a55b188_a5dc_11e8_94ea_8c8590684ea5row8_col25\" class=\"data row8 col25\" >0.0541542</td> \n",
       "        <td id=\"T_9a55b188_a5dc_11e8_94ea_8c8590684ea5row8_col26\" class=\"data row8 col26\" >0.504014</td> \n",
       "    </tr>    <tr> \n",
       "        <th id=\"T_9a55b188_a5dc_11e8_94ea_8c8590684ea5level0_row9\" class=\"row_heading level0 row9\" >MasVnrArea</th> \n",
       "        <td id=\"T_9a55b188_a5dc_11e8_94ea_8c8590684ea5row9_col0\" class=\"data row9 col0\" >0.197858</td> \n",
       "        <td id=\"T_9a55b188_a5dc_11e8_94ea_8c8590684ea5row9_col1\" class=\"data row9 col1\" >0.16752</td> \n",
       "        <td id=\"T_9a55b188_a5dc_11e8_94ea_8c8590684ea5row9_col2\" class=\"data row9 col2\" >0.430041</td> \n",
       "        <td id=\"T_9a55b188_a5dc_11e8_94ea_8c8590684ea5row9_col3\" class=\"data row9 col3\" >-0.131908</td> \n",
       "        <td id=\"T_9a55b188_a5dc_11e8_94ea_8c8590684ea5row9_col4\" class=\"data row9 col4\" >0.32078</td> \n",
       "        <td id=\"T_9a55b188_a5dc_11e8_94ea_8c8590684ea5row9_col5\" class=\"data row9 col5\" >0.204234</td> \n",
       "        <td id=\"T_9a55b188_a5dc_11e8_94ea_8c8590684ea5row9_col6\" class=\"data row9 col6\" >1</td> \n",
       "        <td id=\"T_9a55b188_a5dc_11e8_94ea_8c8590684ea5row9_col7\" class=\"data row9 col7\" >0.403551</td> \n",
       "        <td id=\"T_9a55b188_a5dc_11e8_94ea_8c8590684ea5row9_col8\" class=\"data row9 col8\" >0.383875</td> \n",
       "        <td id=\"T_9a55b188_a5dc_11e8_94ea_8c8590684ea5row9_col9\" class=\"data row9 col9\" >0.147129</td> \n",
       "        <td id=\"T_9a55b188_a5dc_11e8_94ea_8c8590684ea5row9_col10\" class=\"data row9 col10\" >0.0118847</td> \n",
       "        <td id=\"T_9a55b188_a5dc_11e8_94ea_8c8590684ea5row9_col11\" class=\"data row9 col11\" >0.232474</td> \n",
       "        <td id=\"T_9a55b188_a5dc_11e8_94ea_8c8590684ea5row9_col12\" class=\"data row9 col12\" >0.186871</td> \n",
       "        <td id=\"T_9a55b188_a5dc_11e8_94ea_8c8590684ea5row9_col13\" class=\"data row9 col13\" >0.0547862</td> \n",
       "        <td id=\"T_9a55b188_a5dc_11e8_94ea_8c8590684ea5row9_col14\" class=\"data row9 col14\" >-0.0702549</td> \n",
       "        <td id=\"T_9a55b188_a5dc_11e8_94ea_8c8590684ea5row9_col15\" class=\"data row9 col15\" >0.271657</td> \n",
       "        <td id=\"T_9a55b188_a5dc_11e8_94ea_8c8590684ea5row9_col16\" class=\"data row9 col16\" >0.265911</td> \n",
       "        <td id=\"T_9a55b188_a5dc_11e8_94ea_8c8590684ea5row9_col17\" class=\"data row9 col17\" >0.380396</td> \n",
       "        <td id=\"T_9a55b188_a5dc_11e8_94ea_8c8590684ea5row9_col18\" class=\"data row9 col18\" >0.164006</td> \n",
       "        <td id=\"T_9a55b188_a5dc_11e8_94ea_8c8590684ea5row9_col19\" class=\"data row9 col19\" >0.157836</td> \n",
       "        <td id=\"T_9a55b188_a5dc_11e8_94ea_8c8590684ea5row9_col20\" class=\"data row9 col20\" >-0.105934</td> \n",
       "        <td id=\"T_9a55b188_a5dc_11e8_94ea_8c8590684ea5row9_col21\" class=\"data row9 col21\" >0.0117712</td> \n",
       "        <td id=\"T_9a55b188_a5dc_11e8_94ea_8c8590684ea5row9_col22\" class=\"data row9 col22\" >0.0882074</td> \n",
       "        <td id=\"T_9a55b188_a5dc_11e8_94ea_8c8590684ea5row9_col23\" class=\"data row9 col23\" >0.0127892</td> \n",
       "        <td id=\"T_9a55b188_a5dc_11e8_94ea_8c8590684ea5row9_col24\" class=\"data row9 col24\" >0.07963</td> \n",
       "        <td id=\"T_9a55b188_a5dc_11e8_94ea_8c8590684ea5row9_col25\" class=\"data row9 col25\" >-0.00391545</td> \n",
       "        <td id=\"T_9a55b188_a5dc_11e8_94ea_8c8590684ea5row9_col26\" class=\"data row9 col26\" >0.503579</td> \n",
       "    </tr>    <tr> \n",
       "        <th id=\"T_9a55b188_a5dc_11e8_94ea_8c8590684ea5level0_row10\" class=\"row_heading level0 row10\" >Fireplaces</th> \n",
       "        <td id=\"T_9a55b188_a5dc_11e8_94ea_8c8590684ea5row10_col0\" class=\"data row10 col0\" >0.223271</td> \n",
       "        <td id=\"T_9a55b188_a5dc_11e8_94ea_8c8590684ea5row10_col1\" class=\"data row10 col1\" >0.289467</td> \n",
       "        <td id=\"T_9a55b188_a5dc_11e8_94ea_8c8590684ea5row10_col2\" class=\"data row10 col2\" >0.38892</td> \n",
       "        <td id=\"T_9a55b188_a5dc_11e8_94ea_8c8590684ea5row10_col3\" class=\"data row10 col3\" >-0.00646294</td> \n",
       "        <td id=\"T_9a55b188_a5dc_11e8_94ea_8c8590684ea5row10_col4\" class=\"data row10 col4\" >0.168848</td> \n",
       "        <td id=\"T_9a55b188_a5dc_11e8_94ea_8c8590684ea5row10_col5\" class=\"data row10 col5\" >0.138858</td> \n",
       "        <td id=\"T_9a55b188_a5dc_11e8_94ea_8c8590684ea5row10_col6\" class=\"data row10 col6\" >0.265911</td> \n",
       "        <td id=\"T_9a55b188_a5dc_11e8_94ea_8c8590684ea5row10_col7\" class=\"data row10 col7\" >0.333093</td> \n",
       "        <td id=\"T_9a55b188_a5dc_11e8_94ea_8c8590684ea5row10_col8\" class=\"data row10 col8\" >0.458701</td> \n",
       "        <td id=\"T_9a55b188_a5dc_11e8_94ea_8c8590684ea5row10_col9\" class=\"data row10 col9\" >0.162773</td> \n",
       "        <td id=\"T_9a55b188_a5dc_11e8_94ea_8c8590684ea5row10_col10\" class=\"data row10 col10\" >0.0612744</td> \n",
       "        <td id=\"T_9a55b188_a5dc_11e8_94ea_8c8590684ea5row10_col11\" class=\"data row10 col11\" >0.218833</td> \n",
       "        <td id=\"T_9a55b188_a5dc_11e8_94ea_8c8590684ea5row10_col12\" class=\"data row10 col12\" >0.203252</td> \n",
       "        <td id=\"T_9a55b188_a5dc_11e8_94ea_8c8590684ea5row10_col13\" class=\"data row10 col13\" >0.0791943</td> \n",
       "        <td id=\"T_9a55b188_a5dc_11e8_94ea_8c8590684ea5row10_col14\" class=\"data row10 col14\" >-0.134745</td> \n",
       "        <td id=\"T_9a55b188_a5dc_11e8_94ea_8c8590684ea5row10_col15\" class=\"data row10 col15\" >0.311765</td> \n",
       "        <td id=\"T_9a55b188_a5dc_11e8_94ea_8c8590684ea5row10_col16\" class=\"data row10 col16\" >1</td> \n",
       "        <td id=\"T_9a55b188_a5dc_11e8_94ea_8c8590684ea5row10_col17\" class=\"data row10 col17\" >0.291581</td> \n",
       "        <td id=\"T_9a55b188_a5dc_11e8_94ea_8c8590684ea5row10_col18\" class=\"data row10 col18\" >0.238887</td> \n",
       "        <td id=\"T_9a55b188_a5dc_11e8_94ea_8c8590684ea5row10_col19\" class=\"data row10 col19\" >0.169169</td> \n",
       "        <td id=\"T_9a55b188_a5dc_11e8_94ea_8c8590684ea5row10_col20\" class=\"data row10 col20\" >0.00936797</td> \n",
       "        <td id=\"T_9a55b188_a5dc_11e8_94ea_8c8590684ea5row10_col21\" class=\"data row10 col21\" >0.0264107</td> \n",
       "        <td id=\"T_9a55b188_a5dc_11e8_94ea_8c8590684ea5row10_col22\" class=\"data row10 col22\" >0.167071</td> \n",
       "        <td id=\"T_9a55b188_a5dc_11e8_94ea_8c8590684ea5row10_col23\" class=\"data row10 col23\" >0.107769</td> \n",
       "        <td id=\"T_9a55b188_a5dc_11e8_94ea_8c8590684ea5row10_col24\" class=\"data row10 col24\" >0.0233721</td> \n",
       "        <td id=\"T_9a55b188_a5dc_11e8_94ea_8c8590684ea5row10_col25\" class=\"data row10 col25\" >0.0182284</td> \n",
       "        <td id=\"T_9a55b188_a5dc_11e8_94ea_8c8590684ea5row10_col26\" class=\"data row10 col26\" >0.471093</td> \n",
       "    </tr>    <tr> \n",
       "        <th id=\"T_9a55b188_a5dc_11e8_94ea_8c8590684ea5level0_row11\" class=\"row_heading level0 row11\" >OpenPorchSF</th> \n",
       "        <td id=\"T_9a55b188_a5dc_11e8_94ea_8c8590684ea5row11_col0\" class=\"data row11 col0\" >0.16995</td> \n",
       "        <td id=\"T_9a55b188_a5dc_11e8_94ea_8c8590684ea5row11_col1\" class=\"data row11 col1\" >0.140864</td> \n",
       "        <td id=\"T_9a55b188_a5dc_11e8_94ea_8c8590684ea5row11_col2\" class=\"data row11 col2\" >0.308855</td> \n",
       "        <td id=\"T_9a55b188_a5dc_11e8_94ea_8c8590684ea5row11_col3\" class=\"data row11 col3\" >-0.0522661</td> \n",
       "        <td id=\"T_9a55b188_a5dc_11e8_94ea_8c8590684ea5row11_col4\" class=\"data row11 col4\" >0.207798</td> \n",
       "        <td id=\"T_9a55b188_a5dc_11e8_94ea_8c8590684ea5row11_col5\" class=\"data row11 col5\" >0.264476</td> \n",
       "        <td id=\"T_9a55b188_a5dc_11e8_94ea_8c8590684ea5row11_col6\" class=\"data row11 col6\" >0.157836</td> \n",
       "        <td id=\"T_9a55b188_a5dc_11e8_94ea_8c8590684ea5row11_col7\" class=\"data row11 col7\" >0.257243</td> \n",
       "        <td id=\"T_9a55b188_a5dc_11e8_94ea_8c8590684ea5row11_col8\" class=\"data row11 col8\" >0.345008</td> \n",
       "        <td id=\"T_9a55b188_a5dc_11e8_94ea_8c8590684ea5row11_col9\" class=\"data row11 col9\" >0.0879531</td> \n",
       "        <td id=\"T_9a55b188_a5dc_11e8_94ea_8c8590684ea5row11_col10\" class=\"data row11 col10\" >-0.0329518</td> \n",
       "        <td id=\"T_9a55b188_a5dc_11e8_94ea_8c8590684ea5row11_col11\" class=\"data row11 col11\" >0.244452</td> \n",
       "        <td id=\"T_9a55b188_a5dc_11e8_94ea_8c8590684ea5row11_col12\" class=\"data row11 col12\" >0.181469</td> \n",
       "        <td id=\"T_9a55b188_a5dc_11e8_94ea_8c8590684ea5row11_col13\" class=\"data row11 col13\" >0.0534334</td> \n",
       "        <td id=\"T_9a55b188_a5dc_11e8_94ea_8c8590684ea5row11_col14\" class=\"data row11 col14\" >-0.0835018</td> \n",
       "        <td id=\"T_9a55b188_a5dc_11e8_94ea_8c8590684ea5row11_col15\" class=\"data row11 col15\" >0.226346</td> \n",
       "        <td id=\"T_9a55b188_a5dc_11e8_94ea_8c8590684ea5row11_col16\" class=\"data row11 col16\" >0.169169</td> \n",
       "        <td id=\"T_9a55b188_a5dc_11e8_94ea_8c8590684ea5row11_col17\" class=\"data row11 col17\" >0.247181</td> \n",
       "        <td id=\"T_9a55b188_a5dc_11e8_94ea_8c8590684ea5row11_col18\" class=\"data row11 col18\" >0.0476296</td> \n",
       "        <td id=\"T_9a55b188_a5dc_11e8_94ea_8c8590684ea5row11_col19\" class=\"data row11 col19\" >1</td> \n",
       "        <td id=\"T_9a55b188_a5dc_11e8_94ea_8c8590684ea5row11_col20\" class=\"data row11 col20\" >-0.0770187</td> \n",
       "        <td id=\"T_9a55b188_a5dc_11e8_94ea_8c8590684ea5row11_col21\" class=\"data row11 col21\" >-0.00733599</td> \n",
       "        <td id=\"T_9a55b188_a5dc_11e8_94ea_8c8590684ea5row11_col22\" class=\"data row11 col22\" >0.0590266</td> \n",
       "        <td id=\"T_9a55b188_a5dc_11e8_94ea_8c8590684ea5row11_col23\" class=\"data row11 col23\" >0.0739652</td> \n",
       "        <td id=\"T_9a55b188_a5dc_11e8_94ea_8c8590684ea5row11_col24\" class=\"data row11 col24\" >0.109919</td> \n",
       "        <td id=\"T_9a55b188_a5dc_11e8_94ea_8c8590684ea5row11_col25\" class=\"data row11 col25\" >0.0436324</td> \n",
       "        <td id=\"T_9a55b188_a5dc_11e8_94ea_8c8590684ea5row11_col26\" class=\"data row11 col26\" >0.333476</td> \n",
       "    </tr>    <tr> \n",
       "        <th id=\"T_9a55b188_a5dc_11e8_94ea_8c8590684ea5level0_row12\" class=\"row_heading level0 row12\" >WoodDeckSF</th> \n",
       "        <td id=\"T_9a55b188_a5dc_11e8_94ea_8c8590684ea5row12_col0\" class=\"data row12 col0\" >0.100071</td> \n",
       "        <td id=\"T_9a55b188_a5dc_11e8_94ea_8c8590684ea5row12_col1\" class=\"data row12 col1\" >0.155623</td> \n",
       "        <td id=\"T_9a55b188_a5dc_11e8_94ea_8c8590684ea5row12_col2\" class=\"data row12 col2\" >0.257081</td> \n",
       "        <td id=\"T_9a55b188_a5dc_11e8_94ea_8c8590684ea5row12_col3\" class=\"data row12 col3\" >0.0110343</td> \n",
       "        <td id=\"T_9a55b188_a5dc_11e8_94ea_8c8590684ea5row12_col4\" class=\"data row12 col4\" >0.216339</td> \n",
       "        <td id=\"T_9a55b188_a5dc_11e8_94ea_8c8590684ea5row12_col5\" class=\"data row12 col5\" >0.216271</td> \n",
       "        <td id=\"T_9a55b188_a5dc_11e8_94ea_8c8590684ea5row12_col6\" class=\"data row12 col6\" >0.164006</td> \n",
       "        <td id=\"T_9a55b188_a5dc_11e8_94ea_8c8590684ea5row12_col7\" class=\"data row12 col7\" >0.224679</td> \n",
       "        <td id=\"T_9a55b188_a5dc_11e8_94ea_8c8590684ea5row12_col8\" class=\"data row12 col8\" >0.270239</td> \n",
       "        <td id=\"T_9a55b188_a5dc_11e8_94ea_8c8590684ea5row12_col9\" class=\"data row12 col9\" >0.197353</td> \n",
       "        <td id=\"T_9a55b188_a5dc_11e8_94ea_8c8590684ea5row12_col10\" class=\"data row12 col10\" >0.0319245</td> \n",
       "        <td id=\"T_9a55b188_a5dc_11e8_94ea_8c8590684ea5row12_col11\" class=\"data row12 col11\" >0.175502</td> \n",
       "        <td id=\"T_9a55b188_a5dc_11e8_94ea_8c8590684ea5row12_col12\" class=\"data row12 col12\" >0.125241</td> \n",
       "        <td id=\"T_9a55b188_a5dc_11e8_94ea_8c8590684ea5row12_col13\" class=\"data row12 col13\" >0.0347585</td> \n",
       "        <td id=\"T_9a55b188_a5dc_11e8_94ea_8c8590684ea5row12_col14\" class=\"data row12 col14\" >-0.0900127</td> \n",
       "        <td id=\"T_9a55b188_a5dc_11e8_94ea_8c8590684ea5row12_col15\" class=\"data row12 col15\" >0.182835</td> \n",
       "        <td id=\"T_9a55b188_a5dc_11e8_94ea_8c8590684ea5row12_col16\" class=\"data row12 col16\" >0.238887</td> \n",
       "        <td id=\"T_9a55b188_a5dc_11e8_94ea_8c8590684ea5row12_col17\" class=\"data row12 col17\" >0.245499</td> \n",
       "        <td id=\"T_9a55b188_a5dc_11e8_94ea_8c8590684ea5row12_col18\" class=\"data row12 col18\" >1</td> \n",
       "        <td id=\"T_9a55b188_a5dc_11e8_94ea_8c8590684ea5row12_col19\" class=\"data row12 col19\" >0.0476296</td> \n",
       "        <td id=\"T_9a55b188_a5dc_11e8_94ea_8c8590684ea5row12_col20\" class=\"data row12 col20\" >-0.114079</td> \n",
       "        <td id=\"T_9a55b188_a5dc_11e8_94ea_8c8590684ea5row12_col21\" class=\"data row12 col21\" >-0.0108514</td> \n",
       "        <td id=\"T_9a55b188_a5dc_11e8_94ea_8c8590684ea5row12_col22\" class=\"data row12 col22\" >-0.06777</td> \n",
       "        <td id=\"T_9a55b188_a5dc_11e8_94ea_8c8590684ea5row12_col23\" class=\"data row12 col23\" >0.128373</td> \n",
       "        <td id=\"T_9a55b188_a5dc_11e8_94ea_8c8590684ea5row12_col24\" class=\"data row12 col24\" >0.0850913</td> \n",
       "        <td id=\"T_9a55b188_a5dc_11e8_94ea_8c8590684ea5row12_col25\" class=\"data row12 col25\" >0.0184996</td> \n",
       "        <td id=\"T_9a55b188_a5dc_11e8_94ea_8c8590684ea5row12_col26\" class=\"data row12 col26\" >0.32649</td> \n",
       "    </tr>    <tr> \n",
       "        <th id=\"T_9a55b188_a5dc_11e8_94ea_8c8590684ea5level0_row13\" class=\"row_heading level0 row13\" >LotFrontage</th> \n",
       "        <td id=\"T_9a55b188_a5dc_11e8_94ea_8c8590684ea5row13_col0\" class=\"data row13 col0\" >1</td> \n",
       "        <td id=\"T_9a55b188_a5dc_11e8_94ea_8c8590684ea5row13_col1\" class=\"data row13 col1\" >0.386708</td> \n",
       "        <td id=\"T_9a55b188_a5dc_11e8_94ea_8c8590684ea5row13_col2\" class=\"data row13 col2\" >0.182361</td> \n",
       "        <td id=\"T_9a55b188_a5dc_11e8_94ea_8c8590684ea5row13_col3\" class=\"data row13 col3\" >-0.0497799</td> \n",
       "        <td id=\"T_9a55b188_a5dc_11e8_94ea_8c8590684ea5row13_col4\" class=\"data row13 col4\" >0.103534</td> \n",
       "        <td id=\"T_9a55b188_a5dc_11e8_94ea_8c8590684ea5row13_col5\" class=\"data row13 col5\" >0.0799094</td> \n",
       "        <td id=\"T_9a55b188_a5dc_11e8_94ea_8c8590684ea5row13_col6\" class=\"data row13 col6\" >0.197858</td> \n",
       "        <td id=\"T_9a55b188_a5dc_11e8_94ea_8c8590684ea5row13_col7\" class=\"data row13 col7\" >0.332511</td> \n",
       "        <td id=\"T_9a55b188_a5dc_11e8_94ea_8c8590684ea5row13_col8\" class=\"data row13 col8\" >0.349084</td> \n",
       "        <td id=\"T_9a55b188_a5dc_11e8_94ea_8c8590684ea5row13_col9\" class=\"data row13 col9\" >0.0988799</td> \n",
       "        <td id=\"T_9a55b188_a5dc_11e8_94ea_8c8590684ea5row13_col10\" class=\"data row13 col10\" >-0.0288519</td> \n",
       "        <td id=\"T_9a55b188_a5dc_11e8_94ea_8c8590684ea5row13_col11\" class=\"data row13 col11\" >0.138012</td> \n",
       "        <td id=\"T_9a55b188_a5dc_11e8_94ea_8c8590684ea5row13_col12\" class=\"data row13 col12\" >0.0311672</td> \n",
       "        <td id=\"T_9a55b188_a5dc_11e8_94ea_8c8590684ea5row13_col13\" class=\"data row13 col13\" >0.199834</td> \n",
       "        <td id=\"T_9a55b188_a5dc_11e8_94ea_8c8590684ea5row13_col14\" class=\"data row13 col14\" >0.0148485</td> \n",
       "        <td id=\"T_9a55b188_a5dc_11e8_94ea_8c8590684ea5row13_col15\" class=\"data row13 col15\" >0.331864</td> \n",
       "        <td id=\"T_9a55b188_a5dc_11e8_94ea_8c8590684ea5row13_col16\" class=\"data row13 col16\" >0.223271</td> \n",
       "        <td id=\"T_9a55b188_a5dc_11e8_94ea_8c8590684ea5row13_col17\" class=\"data row13 col17\" >0.337745</td> \n",
       "        <td id=\"T_9a55b188_a5dc_11e8_94ea_8c8590684ea5row13_col18\" class=\"data row13 col18\" >0.100071</td> \n",
       "        <td id=\"T_9a55b188_a5dc_11e8_94ea_8c8590684ea5row13_col19\" class=\"data row13 col19\" >0.16995</td> \n",
       "        <td id=\"T_9a55b188_a5dc_11e8_94ea_8c8590684ea5row13_col20\" class=\"data row13 col20\" >-0.00276421</td> \n",
       "        <td id=\"T_9a55b188_a5dc_11e8_94ea_8c8590684ea5row13_col21\" class=\"data row13 col21\" >0.0283424</td> \n",
       "        <td id=\"T_9a55b188_a5dc_11e8_94ea_8c8590684ea5row13_col22\" class=\"data row13 col22\" >0.0678498</td> \n",
       "        <td id=\"T_9a55b188_a5dc_11e8_94ea_8c8590684ea5row13_col23\" class=\"data row13 col23\" >0.141315</td> \n",
       "        <td id=\"T_9a55b188_a5dc_11e8_94ea_8c8590684ea5row13_col24\" class=\"data row13 col24\" >0.0482163</td> \n",
       "        <td id=\"T_9a55b188_a5dc_11e8_94ea_8c8590684ea5row13_col25\" class=\"data row13 col25\" >-0.0159154</td> \n",
       "        <td id=\"T_9a55b188_a5dc_11e8_94ea_8c8590684ea5row13_col26\" class=\"data row13 col26\" >0.325129</td> \n",
       "    </tr>    <tr> \n",
       "        <th id=\"T_9a55b188_a5dc_11e8_94ea_8c8590684ea5level0_row14\" class=\"row_heading level0 row14\" >LotArea</th> \n",
       "        <td id=\"T_9a55b188_a5dc_11e8_94ea_8c8590684ea5row14_col0\" class=\"data row14 col0\" >0.386708</td> \n",
       "        <td id=\"T_9a55b188_a5dc_11e8_94ea_8c8590684ea5row14_col1\" class=\"data row14 col1\" >1</td> \n",
       "        <td id=\"T_9a55b188_a5dc_11e8_94ea_8c8590684ea5row14_col2\" class=\"data row14 col2\" >0.105824</td> \n",
       "        <td id=\"T_9a55b188_a5dc_11e8_94ea_8c8590684ea5row14_col3\" class=\"data row14 col3\" >-0.0191849</td> \n",
       "        <td id=\"T_9a55b188_a5dc_11e8_94ea_8c8590684ea5row14_col4\" class=\"data row14 col4\" >0.0360023</td> \n",
       "        <td id=\"T_9a55b188_a5dc_11e8_94ea_8c8590684ea5row14_col5\" class=\"data row14 col5\" >0.0507713</td> \n",
       "        <td id=\"T_9a55b188_a5dc_11e8_94ea_8c8590684ea5row14_col6\" class=\"data row14 col6\" >0.16752</td> \n",
       "        <td id=\"T_9a55b188_a5dc_11e8_94ea_8c8590684ea5row14_col7\" class=\"data row14 col7\" >0.277191</td> \n",
       "        <td id=\"T_9a55b188_a5dc_11e8_94ea_8c8590684ea5row14_col8\" class=\"data row14 col8\" >0.327427</td> \n",
       "        <td id=\"T_9a55b188_a5dc_11e8_94ea_8c8590684ea5row14_col9\" class=\"data row14 col9\" >0.113283</td> \n",
       "        <td id=\"T_9a55b188_a5dc_11e8_94ea_8c8590684ea5row14_col10\" class=\"data row14 col10\" >0.0291574</td> \n",
       "        <td id=\"T_9a55b188_a5dc_11e8_94ea_8c8590684ea5row14_col11\" class=\"data row14 col11\" >0.125601</td> \n",
       "        <td id=\"T_9a55b188_a5dc_11e8_94ea_8c8590684ea5row14_col12\" class=\"data row14 col12\" >0.0499946</td> \n",
       "        <td id=\"T_9a55b188_a5dc_11e8_94ea_8c8590684ea5row14_col13\" class=\"data row14 col13\" >0.13906</td> \n",
       "        <td id=\"T_9a55b188_a5dc_11e8_94ea_8c8590684ea5row14_col14\" class=\"data row14 col14\" >-0.0134841</td> \n",
       "        <td id=\"T_9a55b188_a5dc_11e8_94ea_8c8590684ea5row14_col15\" class=\"data row14 col15\" >0.238724</td> \n",
       "        <td id=\"T_9a55b188_a5dc_11e8_94ea_8c8590684ea5row14_col16\" class=\"data row14 col16\" >0.289467</td> \n",
       "        <td id=\"T_9a55b188_a5dc_11e8_94ea_8c8590684ea5row14_col17\" class=\"data row14 col17\" >0.263292</td> \n",
       "        <td id=\"T_9a55b188_a5dc_11e8_94ea_8c8590684ea5row14_col18\" class=\"data row14 col18\" >0.155623</td> \n",
       "        <td id=\"T_9a55b188_a5dc_11e8_94ea_8c8590684ea5row14_col19\" class=\"data row14 col19\" >0.140864</td> \n",
       "        <td id=\"T_9a55b188_a5dc_11e8_94ea_8c8590684ea5row14_col20\" class=\"data row14 col20\" >0.0141387</td> \n",
       "        <td id=\"T_9a55b188_a5dc_11e8_94ea_8c8590684ea5row14_col21\" class=\"data row14 col21\" >0.0195526</td> \n",
       "        <td id=\"T_9a55b188_a5dc_11e8_94ea_8c8590684ea5row14_col22\" class=\"data row14 col22\" >0.0677138</td> \n",
       "        <td id=\"T_9a55b188_a5dc_11e8_94ea_8c8590684ea5row14_col23\" class=\"data row14 col23\" >0.115102</td> \n",
       "        <td id=\"T_9a55b188_a5dc_11e8_94ea_8c8590684ea5row14_col24\" class=\"data row14 col24\" >0.0939216</td> \n",
       "        <td id=\"T_9a55b188_a5dc_11e8_94ea_8c8590684ea5row14_col25\" class=\"data row14 col25\" >0.0031974</td> \n",
       "        <td id=\"T_9a55b188_a5dc_11e8_94ea_8c8590684ea5row14_col26\" class=\"data row14 col26\" >0.296566</td> \n",
       "    </tr>    <tr> \n",
       "        <th id=\"T_9a55b188_a5dc_11e8_94ea_8c8590684ea5level0_row15\" class=\"row_heading level0 row15\" >BsmtFullBath</th> \n",
       "        <td id=\"T_9a55b188_a5dc_11e8_94ea_8c8590684ea5row15_col0\" class=\"data row15 col0\" >0.0988799</td> \n",
       "        <td id=\"T_9a55b188_a5dc_11e8_94ea_8c8590684ea5row15_col1\" class=\"data row15 col1\" >0.113283</td> \n",
       "        <td id=\"T_9a55b188_a5dc_11e8_94ea_8c8590684ea5row15_col2\" class=\"data row15 col2\" >0.175896</td> \n",
       "        <td id=\"T_9a55b188_a5dc_11e8_94ea_8c8590684ea5row15_col3\" class=\"data row15 col3\" >-0.0401066</td> \n",
       "        <td id=\"T_9a55b188_a5dc_11e8_94ea_8c8590684ea5row15_col4\" class=\"data row15 col4\" >0.21559</td> \n",
       "        <td id=\"T_9a55b188_a5dc_11e8_94ea_8c8590684ea5row15_col5\" class=\"data row15 col5\" >0.153771</td> \n",
       "        <td id=\"T_9a55b188_a5dc_11e8_94ea_8c8590684ea5row15_col6\" class=\"data row15 col6\" >0.147129</td> \n",
       "        <td id=\"T_9a55b188_a5dc_11e8_94ea_8c8590684ea5row15_col7\" class=\"data row15 col7\" >0.321827</td> \n",
       "        <td id=\"T_9a55b188_a5dc_11e8_94ea_8c8590684ea5row15_col8\" class=\"data row15 col8\" >0.0643233</td> \n",
       "        <td id=\"T_9a55b188_a5dc_11e8_94ea_8c8590684ea5row15_col9\" class=\"data row15 col9\" >1</td> \n",
       "        <td id=\"T_9a55b188_a5dc_11e8_94ea_8c8590684ea5row15_col10\" class=\"data row15 col10\" >-0.146641</td> \n",
       "        <td id=\"T_9a55b188_a5dc_11e8_94ea_8c8590684ea5row15_col11\" class=\"data row15 col11\" >-0.0113804</td> \n",
       "        <td id=\"T_9a55b188_a5dc_11e8_94ea_8c8590684ea5row15_col12\" class=\"data row15 col12\" >-0.0261373</td> \n",
       "        <td id=\"T_9a55b188_a5dc_11e8_94ea_8c8590684ea5row15_col13\" class=\"data row15 col13\" >-0.159106</td> \n",
       "        <td id=\"T_9a55b188_a5dc_11e8_94ea_8c8590684ea5row15_col14\" class=\"data row15 col14\" >-0.0293018</td> \n",
       "        <td id=\"T_9a55b188_a5dc_11e8_94ea_8c8590684ea5row15_col15\" class=\"data row15 col15\" >-0.0399857</td> \n",
       "        <td id=\"T_9a55b188_a5dc_11e8_94ea_8c8590684ea5row15_col16\" class=\"data row15 col16\" >0.162773</td> \n",
       "        <td id=\"T_9a55b188_a5dc_11e8_94ea_8c8590684ea5row15_col17\" class=\"data row15 col17\" >0.204621</td> \n",
       "        <td id=\"T_9a55b188_a5dc_11e8_94ea_8c8590684ea5row15_col18\" class=\"data row15 col18\" >0.197353</td> \n",
       "        <td id=\"T_9a55b188_a5dc_11e8_94ea_8c8590684ea5row15_col19\" class=\"data row15 col19\" >0.0879531</td> \n",
       "        <td id=\"T_9a55b188_a5dc_11e8_94ea_8c8590684ea5row15_col20\" class=\"data row15 col20\" >-0.0730279</td> \n",
       "        <td id=\"T_9a55b188_a5dc_11e8_94ea_8c8590684ea5row15_col21\" class=\"data row15 col21\" >0.0230465</td> \n",
       "        <td id=\"T_9a55b188_a5dc_11e8_94ea_8c8590684ea5row15_col22\" class=\"data row15 col22\" >0.0556079</td> \n",
       "        <td id=\"T_9a55b188_a5dc_11e8_94ea_8c8590684ea5row15_col23\" class=\"data row15 col23\" >0.0437407</td> \n",
       "        <td id=\"T_9a55b188_a5dc_11e8_94ea_8c8590684ea5row15_col24\" class=\"data row15 col24\" >-0.00344164</td> \n",
       "        <td id=\"T_9a55b188_a5dc_11e8_94ea_8c8590684ea5row15_col25\" class=\"data row15 col25\" >-0.00939516</td> \n",
       "        <td id=\"T_9a55b188_a5dc_11e8_94ea_8c8590684ea5row15_col26\" class=\"data row15 col26\" >0.283332</td> \n",
       "    </tr>    <tr> \n",
       "        <th id=\"T_9a55b188_a5dc_11e8_94ea_8c8590684ea5level0_row16\" class=\"row_heading level0 row16\" >HalfBath</th> \n",
       "        <td id=\"T_9a55b188_a5dc_11e8_94ea_8c8590684ea5row16_col0\" class=\"data row16 col0\" >0.0311672</td> \n",
       "        <td id=\"T_9a55b188_a5dc_11e8_94ea_8c8590684ea5row16_col1\" class=\"data row16 col1\" >0.0499946</td> \n",
       "        <td id=\"T_9a55b188_a5dc_11e8_94ea_8c8590684ea5row16_col2\" class=\"data row16 col2\" >0.274859</td> \n",
       "        <td id=\"T_9a55b188_a5dc_11e8_94ea_8c8590684ea5row16_col3\" class=\"data row16 col3\" >-0.0932659</td> \n",
       "        <td id=\"T_9a55b188_a5dc_11e8_94ea_8c8590684ea5row16_col4\" class=\"data row16 col4\" >0.283207</td> \n",
       "        <td id=\"T_9a55b188_a5dc_11e8_94ea_8c8590684ea5row16_col5\" class=\"data row16 col5\" >0.224106</td> \n",
       "        <td id=\"T_9a55b188_a5dc_11e8_94ea_8c8590684ea5row16_col6\" class=\"data row16 col6\" >0.186871</td> \n",
       "        <td id=\"T_9a55b188_a5dc_11e8_94ea_8c8590684ea5row16_col7\" class=\"data row16 col7\" >-0.0550452</td> \n",
       "        <td id=\"T_9a55b188_a5dc_11e8_94ea_8c8590684ea5row16_col8\" class=\"data row16 col8\" >0.429707</td> \n",
       "        <td id=\"T_9a55b188_a5dc_11e8_94ea_8c8590684ea5row16_col9\" class=\"data row16 col9\" >-0.0261373</td> \n",
       "        <td id=\"T_9a55b188_a5dc_11e8_94ea_8c8590684ea5row16_col10\" class=\"data row16 col10\" >-0.0473459</td> \n",
       "        <td id=\"T_9a55b188_a5dc_11e8_94ea_8c8590684ea5row16_col11\" class=\"data row16 col11\" >0.153656</td> \n",
       "        <td id=\"T_9a55b188_a5dc_11e8_94ea_8c8590684ea5row16_col12\" class=\"data row16 col12\" >1</td> \n",
       "        <td id=\"T_9a55b188_a5dc_11e8_94ea_8c8590684ea5row16_col13\" class=\"data row16 col13\" >0.230968</td> \n",
       "        <td id=\"T_9a55b188_a5dc_11e8_94ea_8c8590684ea5row16_col14\" class=\"data row16 col14\" >-0.0401488</td> \n",
       "        <td id=\"T_9a55b188_a5dc_11e8_94ea_8c8590684ea5row16_col15\" class=\"data row16 col15\" >0.339638</td> \n",
       "        <td id=\"T_9a55b188_a5dc_11e8_94ea_8c8590684ea5row16_col16\" class=\"data row16 col16\" >0.203252</td> \n",
       "        <td id=\"T_9a55b188_a5dc_11e8_94ea_8c8590684ea5row16_col17\" class=\"data row16 col17\" >0.177403</td> \n",
       "        <td id=\"T_9a55b188_a5dc_11e8_94ea_8c8590684ea5row16_col18\" class=\"data row16 col18\" >0.125241</td> \n",
       "        <td id=\"T_9a55b188_a5dc_11e8_94ea_8c8590684ea5row16_col19\" class=\"data row16 col19\" >0.181469</td> \n",
       "        <td id=\"T_9a55b188_a5dc_11e8_94ea_8c8590684ea5row16_col20\" class=\"data row16 col20\" >-0.100591</td> \n",
       "        <td id=\"T_9a55b188_a5dc_11e8_94ea_8c8590684ea5row16_col21\" class=\"data row16 col21\" >-0.0271306</td> \n",
       "        <td id=\"T_9a55b188_a5dc_11e8_94ea_8c8590684ea5row16_col22\" class=\"data row16 col22\" >0.0467118</td> \n",
       "        <td id=\"T_9a55b188_a5dc_11e8_94ea_8c8590684ea5row16_col23\" class=\"data row16 col23\" >0.00129439</td> \n",
       "        <td id=\"T_9a55b188_a5dc_11e8_94ea_8c8590684ea5row16_col24\" class=\"data row16 col24\" >0.0557886</td> \n",
       "        <td id=\"T_9a55b188_a5dc_11e8_94ea_8c8590684ea5row16_col25\" class=\"data row16 col25\" >0.0105212</td> \n",
       "        <td id=\"T_9a55b188_a5dc_11e8_94ea_8c8590684ea5row16_col26\" class=\"data row16 col26\" >0.283001</td> \n",
       "    </tr>    <tr> \n",
       "        <th id=\"T_9a55b188_a5dc_11e8_94ea_8c8590684ea5level0_row17\" class=\"row_heading level0 row17\" >BedroomAbvGr</th> \n",
       "        <td id=\"T_9a55b188_a5dc_11e8_94ea_8c8590684ea5row17_col0\" class=\"data row17 col0\" >0.199834</td> \n",
       "        <td id=\"T_9a55b188_a5dc_11e8_94ea_8c8590684ea5row17_col1\" class=\"data row17 col1\" >0.13906</td> \n",
       "        <td id=\"T_9a55b188_a5dc_11e8_94ea_8c8590684ea5row17_col2\" class=\"data row17 col2\" >0.0533727</td> \n",
       "        <td id=\"T_9a55b188_a5dc_11e8_94ea_8c8590684ea5row17_col3\" class=\"data row17 col3\" >-0.00990845</td> \n",
       "        <td id=\"T_9a55b188_a5dc_11e8_94ea_8c8590684ea5row17_col4\" class=\"data row17 col4\" >-0.042149</td> \n",
       "        <td id=\"T_9a55b188_a5dc_11e8_94ea_8c8590684ea5row17_col5\" class=\"data row17 col5\" >-0.0197479</td> \n",
       "        <td id=\"T_9a55b188_a5dc_11e8_94ea_8c8590684ea5row17_col6\" class=\"data row17 col6\" >0.0547862</td> \n",
       "        <td id=\"T_9a55b188_a5dc_11e8_94ea_8c8590684ea5row17_col7\" class=\"data row17 col7\" >0.0491685</td> \n",
       "        <td id=\"T_9a55b188_a5dc_11e8_94ea_8c8590684ea5row17_col8\" class=\"data row17 col8\" >0.507579</td> \n",
       "        <td id=\"T_9a55b188_a5dc_11e8_94ea_8c8590684ea5row17_col9\" class=\"data row17 col9\" >-0.159106</td> \n",
       "        <td id=\"T_9a55b188_a5dc_11e8_94ea_8c8590684ea5row17_col10\" class=\"data row17 col10\" >0.0125398</td> \n",
       "        <td id=\"T_9a55b188_a5dc_11e8_94ea_8c8590684ea5row17_col11\" class=\"data row17 col11\" >0.344123</td> \n",
       "        <td id=\"T_9a55b188_a5dc_11e8_94ea_8c8590684ea5row17_col12\" class=\"data row17 col12\" >0.230968</td> \n",
       "        <td id=\"T_9a55b188_a5dc_11e8_94ea_8c8590684ea5row17_col13\" class=\"data row17 col13\" >1</td> \n",
       "        <td id=\"T_9a55b188_a5dc_11e8_94ea_8c8590684ea5row17_col14\" class=\"data row17 col14\" >0.227207</td> \n",
       "        <td id=\"T_9a55b188_a5dc_11e8_94ea_8c8590684ea5row17_col15\" class=\"data row17 col15\" >0.655439</td> \n",
       "        <td id=\"T_9a55b188_a5dc_11e8_94ea_8c8590684ea5row17_col16\" class=\"data row17 col16\" >0.0791943</td> \n",
       "        <td id=\"T_9a55b188_a5dc_11e8_94ea_8c8590684ea5row17_col17\" class=\"data row17 col17\" >0.0699419</td> \n",
       "        <td id=\"T_9a55b188_a5dc_11e8_94ea_8c8590684ea5row17_col18\" class=\"data row17 col18\" >0.0347585</td> \n",
       "        <td id=\"T_9a55b188_a5dc_11e8_94ea_8c8590684ea5row17_col19\" class=\"data row17 col19\" >0.0534334</td> \n",
       "        <td id=\"T_9a55b188_a5dc_11e8_94ea_8c8590684ea5row17_col20\" class=\"data row17 col20\" >0.0330296</td> \n",
       "        <td id=\"T_9a55b188_a5dc_11e8_94ea_8c8590684ea5row17_col21\" class=\"data row17 col21\" >-0.0338022</td> \n",
       "        <td id=\"T_9a55b188_a5dc_11e8_94ea_8c8590684ea5row17_col22\" class=\"data row17 col22\" >0.0196059</td> \n",
       "        <td id=\"T_9a55b188_a5dc_11e8_94ea_8c8590684ea5row17_col23\" class=\"data row17 col23\" >0.0274378</td> \n",
       "        <td id=\"T_9a55b188_a5dc_11e8_94ea_8c8590684ea5row17_col24\" class=\"data row17 col24\" >0.0122743</td> \n",
       "        <td id=\"T_9a55b188_a5dc_11e8_94ea_8c8590684ea5row17_col25\" class=\"data row17 col25\" >0.0682812</td> \n",
       "        <td id=\"T_9a55b188_a5dc_11e8_94ea_8c8590684ea5row17_col26\" class=\"data row17 col26\" >0.137067</td> \n",
       "    </tr>    <tr> \n",
       "        <th id=\"T_9a55b188_a5dc_11e8_94ea_8c8590684ea5level0_row18\" class=\"row_heading level0 row18\" >ScreenPorch</th> \n",
       "        <td id=\"T_9a55b188_a5dc_11e8_94ea_8c8590684ea5row18_col0\" class=\"data row18 col0\" >0.0678498</td> \n",
       "        <td id=\"T_9a55b188_a5dc_11e8_94ea_8c8590684ea5row18_col1\" class=\"data row18 col1\" >0.0677138</td> \n",
       "        <td id=\"T_9a55b188_a5dc_11e8_94ea_8c8590684ea5row18_col2\" class=\"data row18 col2\" >0.0487522</td> \n",
       "        <td id=\"T_9a55b188_a5dc_11e8_94ea_8c8590684ea5row18_col3\" class=\"data row18 col3\" >0.0473589</td> \n",
       "        <td id=\"T_9a55b188_a5dc_11e8_94ea_8c8590684ea5row18_col4\" class=\"data row18 col4\" >-0.0378656</td> \n",
       "        <td id=\"T_9a55b188_a5dc_11e8_94ea_8c8590684ea5row18_col5\" class=\"data row18 col5\" >-0.0412107</td> \n",
       "        <td id=\"T_9a55b188_a5dc_11e8_94ea_8c8590684ea5row18_col6\" class=\"data row18 col6\" >0.0882074</td> \n",
       "        <td id=\"T_9a55b188_a5dc_11e8_94ea_8c8590684ea5row18_col7\" class=\"data row18 col7\" >0.0760784</td> \n",
       "        <td id=\"T_9a55b188_a5dc_11e8_94ea_8c8590684ea5row18_col8\" class=\"data row18 col8\" >0.101926</td> \n",
       "        <td id=\"T_9a55b188_a5dc_11e8_94ea_8c8590684ea5row18_col9\" class=\"data row18 col9\" >0.0556079</td> \n",
       "        <td id=\"T_9a55b188_a5dc_11e8_94ea_8c8590684ea5row18_col10\" class=\"data row18 col10\" >0.0376634</td> \n",
       "        <td id=\"T_9a55b188_a5dc_11e8_94ea_8c8590684ea5row18_col11\" class=\"data row18 col11\" >-0.0142957</td> \n",
       "        <td id=\"T_9a55b188_a5dc_11e8_94ea_8c8590684ea5row18_col12\" class=\"data row18 col12\" >0.0467118</td> \n",
       "        <td id=\"T_9a55b188_a5dc_11e8_94ea_8c8590684ea5row18_col13\" class=\"data row18 col13\" >0.0196059</td> \n",
       "        <td id=\"T_9a55b188_a5dc_11e8_94ea_8c8590684ea5row18_col14\" class=\"data row18 col14\" >-0.0588861</td> \n",
       "        <td id=\"T_9a55b188_a5dc_11e8_94ea_8c8590684ea5row18_col15\" class=\"data row18 col15\" >0.0463288</td> \n",
       "        <td id=\"T_9a55b188_a5dc_11e8_94ea_8c8590684ea5row18_col16\" class=\"data row18 col16\" >0.167071</td> \n",
       "        <td id=\"T_9a55b188_a5dc_11e8_94ea_8c8590684ea5row18_col17\" class=\"data row18 col17\" >0.0710614</td> \n",
       "        <td id=\"T_9a55b188_a5dc_11e8_94ea_8c8590684ea5row18_col18\" class=\"data row18 col18\" >-0.06777</td> \n",
       "        <td id=\"T_9a55b188_a5dc_11e8_94ea_8c8590684ea5row18_col19\" class=\"data row18 col19\" >0.0590266</td> \n",
       "        <td id=\"T_9a55b188_a5dc_11e8_94ea_8c8590684ea5row18_col20\" class=\"data row18 col20\" >-0.069049</td> \n",
       "        <td id=\"T_9a55b188_a5dc_11e8_94ea_8c8590684ea5row18_col21\" class=\"data row18 col21\" >-0.0295738</td> \n",
       "        <td id=\"T_9a55b188_a5dc_11e8_94ea_8c8590684ea5row18_col22\" class=\"data row18 col22\" >1</td> \n",
       "        <td id=\"T_9a55b188_a5dc_11e8_94ea_8c8590684ea5row18_col23\" class=\"data row18 col23\" >0.0331145</td> \n",
       "        <td id=\"T_9a55b188_a5dc_11e8_94ea_8c8590684ea5row18_col24\" class=\"data row18 col24\" >0.00712156</td> \n",
       "        <td id=\"T_9a55b188_a5dc_11e8_94ea_8c8590684ea5row18_col25\" class=\"data row18 col25\" >0.0293293</td> \n",
       "        <td id=\"T_9a55b188_a5dc_11e8_94ea_8c8590684ea5row18_col26\" class=\"data row18 col26\" >0.134581</td> \n",
       "    </tr>    <tr> \n",
       "        <th id=\"T_9a55b188_a5dc_11e8_94ea_8c8590684ea5level0_row19\" class=\"row_heading level0 row19\" >3SsnPorch</th> \n",
       "        <td id=\"T_9a55b188_a5dc_11e8_94ea_8c8590684ea5row19_col0\" class=\"data row19 col0\" >0.0283424</td> \n",
       "        <td id=\"T_9a55b188_a5dc_11e8_94ea_8c8590684ea5row19_col1\" class=\"data row19 col1\" >0.0195526</td> \n",
       "        <td id=\"T_9a55b188_a5dc_11e8_94ea_8c8590684ea5row19_col2\" class=\"data row19 col2\" >0.0319377</td> \n",
       "        <td id=\"T_9a55b188_a5dc_11e8_94ea_8c8590684ea5row19_col3\" class=\"data row19 col3\" >0.0269074</td> \n",
       "        <td id=\"T_9a55b188_a5dc_11e8_94ea_8c8590684ea5row19_col4\" class=\"data row19 col4\" >0.0161044</td> \n",
       "        <td id=\"T_9a55b188_a5dc_11e8_94ea_8c8590684ea5row19_col5\" class=\"data row19 col5\" >0.0404163</td> \n",
       "        <td id=\"T_9a55b188_a5dc_11e8_94ea_8c8590684ea5row19_col6\" class=\"data row19 col6\" >0.0117712</td> \n",
       "        <td id=\"T_9a55b188_a5dc_11e8_94ea_8c8590684ea5row19_col7\" class=\"data row19 col7\" >0.06029</td> \n",
       "        <td id=\"T_9a55b188_a5dc_11e8_94ea_8c8590684ea5row19_col8\" class=\"data row19 col8\" >0.0245043</td> \n",
       "        <td id=\"T_9a55b188_a5dc_11e8_94ea_8c8590684ea5row19_col9\" class=\"data row19 col9\" >0.0230465</td> \n",
       "        <td id=\"T_9a55b188_a5dc_11e8_94ea_8c8590684ea5row19_col10\" class=\"data row19 col10\" >0.030595</td> \n",
       "        <td id=\"T_9a55b188_a5dc_11e8_94ea_8c8590684ea5row19_col11\" class=\"data row19 col11\" >0.0278699</td> \n",
       "        <td id=\"T_9a55b188_a5dc_11e8_94ea_8c8590684ea5row19_col12\" class=\"data row19 col12\" >-0.0271306</td> \n",
       "        <td id=\"T_9a55b188_a5dc_11e8_94ea_8c8590684ea5row19_col13\" class=\"data row19 col13\" >-0.0338022</td> \n",
       "        <td id=\"T_9a55b188_a5dc_11e8_94ea_8c8590684ea5row19_col14\" class=\"data row19 col14\" >-0.021017</td> \n",
       "        <td id=\"T_9a55b188_a5dc_11e8_94ea_8c8590684ea5row19_col15\" class=\"data row19 col15\" >-0.00810113</td> \n",
       "        <td id=\"T_9a55b188_a5dc_11e8_94ea_8c8590684ea5row19_col16\" class=\"data row19 col16\" >0.0264107</td> \n",
       "        <td id=\"T_9a55b188_a5dc_11e8_94ea_8c8590684ea5row19_col17\" class=\"data row19 col17\" >0.0439162</td> \n",
       "        <td id=\"T_9a55b188_a5dc_11e8_94ea_8c8590684ea5row19_col18\" class=\"data row19 col18\" >-0.0108514</td> \n",
       "        <td id=\"T_9a55b188_a5dc_11e8_94ea_8c8590684ea5row19_col19\" class=\"data row19 col19\" >-0.00733599</td> \n",
       "        <td id=\"T_9a55b188_a5dc_11e8_94ea_8c8590684ea5row19_col20\" class=\"data row19 col20\" >-0.0321455</td> \n",
       "        <td id=\"T_9a55b188_a5dc_11e8_94ea_8c8590684ea5row19_col21\" class=\"data row19 col21\" >1</td> \n",
       "        <td id=\"T_9a55b188_a5dc_11e8_94ea_8c8590684ea5row19_col22\" class=\"data row19 col22\" >-0.0295738</td> \n",
       "        <td id=\"T_9a55b188_a5dc_11e8_94ea_8c8590684ea5row19_col23\" class=\"data row19 col23\" >-0.00652184</td> \n",
       "        <td id=\"T_9a55b188_a5dc_11e8_94ea_8c8590684ea5row19_col24\" class=\"data row19 col24\" >-0.00488657</td> \n",
       "        <td id=\"T_9a55b188_a5dc_11e8_94ea_8c8590684ea5row19_col25\" class=\"data row19 col25\" >0.0200358</td> \n",
       "        <td id=\"T_9a55b188_a5dc_11e8_94ea_8c8590684ea5row19_col26\" class=\"data row19 col26\" >0.0487319</td> \n",
       "    </tr>    <tr> \n",
       "        <th id=\"T_9a55b188_a5dc_11e8_94ea_8c8590684ea5level0_row20\" class=\"row_heading level0 row20\" >MoSold</th> \n",
       "        <td id=\"T_9a55b188_a5dc_11e8_94ea_8c8590684ea5row20_col0\" class=\"data row20 col0\" >-0.0159154</td> \n",
       "        <td id=\"T_9a55b188_a5dc_11e8_94ea_8c8590684ea5row20_col1\" class=\"data row20 col1\" >0.0031974</td> \n",
       "        <td id=\"T_9a55b188_a5dc_11e8_94ea_8c8590684ea5row20_col2\" class=\"data row20 col2\" >0.0192424</td> \n",
       "        <td id=\"T_9a55b188_a5dc_11e8_94ea_8c8590684ea5row20_col3\" class=\"data row20 col3\" >-0.00314357</td> \n",
       "        <td id=\"T_9a55b188_a5dc_11e8_94ea_8c8590684ea5row20_col4\" class=\"data row20 col4\" >-0.00708309</td> \n",
       "        <td id=\"T_9a55b188_a5dc_11e8_94ea_8c8590684ea5row20_col5\" class=\"data row20 col5\" >0.011568</td> \n",
       "        <td id=\"T_9a55b188_a5dc_11e8_94ea_8c8590684ea5row20_col6\" class=\"data row20 col6\" >-0.00391545</td> \n",
       "        <td id=\"T_9a55b188_a5dc_11e8_94ea_8c8590684ea5row20_col7\" class=\"data row20 col7\" >0.00396996</td> \n",
       "        <td id=\"T_9a55b188_a5dc_11e8_94ea_8c8590684ea5row20_col8\" class=\"data row20 col8\" >0.0496443</td> \n",
       "        <td id=\"T_9a55b188_a5dc_11e8_94ea_8c8590684ea5row20_col9\" class=\"data row20 col9\" >-0.00939516</td> \n",
       "        <td id=\"T_9a55b188_a5dc_11e8_94ea_8c8590684ea5row20_col10\" class=\"data row20 col10\" >0.0264293</td> \n",
       "        <td id=\"T_9a55b188_a5dc_11e8_94ea_8c8590684ea5row20_col11\" class=\"data row20 col11\" >0.0493902</td> \n",
       "        <td id=\"T_9a55b188_a5dc_11e8_94ea_8c8590684ea5row20_col12\" class=\"data row20 col12\" >0.0105212</td> \n",
       "        <td id=\"T_9a55b188_a5dc_11e8_94ea_8c8590684ea5row20_col13\" class=\"data row20 col13\" >0.0682812</td> \n",
       "        <td id=\"T_9a55b188_a5dc_11e8_94ea_8c8590684ea5row20_col14\" class=\"data row20 col14\" >0.0471435</td> \n",
       "        <td id=\"T_9a55b188_a5dc_11e8_94ea_8c8590684ea5row20_col15\" class=\"data row20 col15\" >0.0541542</td> \n",
       "        <td id=\"T_9a55b188_a5dc_11e8_94ea_8c8590684ea5row20_col16\" class=\"data row20 col16\" >0.0182284</td> \n",
       "        <td id=\"T_9a55b188_a5dc_11e8_94ea_8c8590684ea5row20_col17\" class=\"data row20 col17\" >0.00994371</td> \n",
       "        <td id=\"T_9a55b188_a5dc_11e8_94ea_8c8590684ea5row20_col18\" class=\"data row20 col18\" >0.0184996</td> \n",
       "        <td id=\"T_9a55b188_a5dc_11e8_94ea_8c8590684ea5row20_col19\" class=\"data row20 col19\" >0.0436324</td> \n",
       "        <td id=\"T_9a55b188_a5dc_11e8_94ea_8c8590684ea5row20_col20\" class=\"data row20 col20\" >0.00445479</td> \n",
       "        <td id=\"T_9a55b188_a5dc_11e8_94ea_8c8590684ea5row20_col21\" class=\"data row20 col21\" >0.0200358</td> \n",
       "        <td id=\"T_9a55b188_a5dc_11e8_94ea_8c8590684ea5row20_col22\" class=\"data row20 col22\" >0.0293293</td> \n",
       "        <td id=\"T_9a55b188_a5dc_11e8_94ea_8c8590684ea5row20_col23\" class=\"data row20 col23\" >-0.0431176</td> \n",
       "        <td id=\"T_9a55b188_a5dc_11e8_94ea_8c8590684ea5row20_col24\" class=\"data row20 col24\" >0.0194835</td> \n",
       "        <td id=\"T_9a55b188_a5dc_11e8_94ea_8c8590684ea5row20_col25\" class=\"data row20 col25\" >1</td> \n",
       "        <td id=\"T_9a55b188_a5dc_11e8_94ea_8c8590684ea5row20_col26\" class=\"data row20 col26\" >0.0327354</td> \n",
       "    </tr>    <tr> \n",
       "        <th id=\"T_9a55b188_a5dc_11e8_94ea_8c8590684ea5level0_row21\" class=\"row_heading level0 row21\" >PoolArea</th> \n",
       "        <td id=\"T_9a55b188_a5dc_11e8_94ea_8c8590684ea5row21_col0\" class=\"data row21 col0\" >0.141315</td> \n",
       "        <td id=\"T_9a55b188_a5dc_11e8_94ea_8c8590684ea5row21_col1\" class=\"data row21 col1\" >0.115102</td> \n",
       "        <td id=\"T_9a55b188_a5dc_11e8_94ea_8c8590684ea5row21_col2\" class=\"data row21 col2\" >0.00655824</td> \n",
       "        <td id=\"T_9a55b188_a5dc_11e8_94ea_8c8590684ea5row21_col3\" class=\"data row21 col3\" >-0.0058064</td> \n",
       "        <td id=\"T_9a55b188_a5dc_11e8_94ea_8c8590684ea5row21_col4\" class=\"data row21 col4\" >0.00372829</td> \n",
       "        <td id=\"T_9a55b188_a5dc_11e8_94ea_8c8590684ea5row21_col5\" class=\"data row21 col5\" >-0.0223821</td> \n",
       "        <td id=\"T_9a55b188_a5dc_11e8_94ea_8c8590684ea5row21_col6\" class=\"data row21 col6\" >0.0127892</td> \n",
       "        <td id=\"T_9a55b188_a5dc_11e8_94ea_8c8590684ea5row21_col7\" class=\"data row21 col7\" >0.061507</td> \n",
       "        <td id=\"T_9a55b188_a5dc_11e8_94ea_8c8590684ea5row21_col8\" class=\"data row21 col8\" >0.113034</td> \n",
       "        <td id=\"T_9a55b188_a5dc_11e8_94ea_8c8590684ea5row21_col9\" class=\"data row21 col9\" >0.0437407</td> \n",
       "        <td id=\"T_9a55b188_a5dc_11e8_94ea_8c8590684ea5row21_col10\" class=\"data row21 col10\" >0.0661106</td> \n",
       "        <td id=\"T_9a55b188_a5dc_11e8_94ea_8c8590684ea5row21_col11\" class=\"data row21 col11\" >0.0104583</td> \n",
       "        <td id=\"T_9a55b188_a5dc_11e8_94ea_8c8590684ea5row21_col12\" class=\"data row21 col12\" >0.00129439</td> \n",
       "        <td id=\"T_9a55b188_a5dc_11e8_94ea_8c8590684ea5row21_col13\" class=\"data row21 col13\" >0.0274378</td> \n",
       "        <td id=\"T_9a55b188_a5dc_11e8_94ea_8c8590684ea5row21_col14\" class=\"data row21 col14\" >-0.012986</td> \n",
       "        <td id=\"T_9a55b188_a5dc_11e8_94ea_8c8590684ea5row21_col15\" class=\"data row21 col15\" >0.0724998</td> \n",
       "        <td id=\"T_9a55b188_a5dc_11e8_94ea_8c8590684ea5row21_col16\" class=\"data row21 col16\" >0.107769</td> \n",
       "        <td id=\"T_9a55b188_a5dc_11e8_94ea_8c8590684ea5row21_col17\" class=\"data row21 col17\" >0.0458746</td> \n",
       "        <td id=\"T_9a55b188_a5dc_11e8_94ea_8c8590684ea5row21_col18\" class=\"data row21 col18\" >0.128373</td> \n",
       "        <td id=\"T_9a55b188_a5dc_11e8_94ea_8c8590684ea5row21_col19\" class=\"data row21 col19\" >0.0739652</td> \n",
       "        <td id=\"T_9a55b188_a5dc_11e8_94ea_8c8590684ea5row21_col20\" class=\"data row21 col20\" >-0.015636</td> \n",
       "        <td id=\"T_9a55b188_a5dc_11e8_94ea_8c8590684ea5row21_col21\" class=\"data row21 col21\" >-0.00652184</td> \n",
       "        <td id=\"T_9a55b188_a5dc_11e8_94ea_8c8590684ea5row21_col22\" class=\"data row21 col22\" >0.0331145</td> \n",
       "        <td id=\"T_9a55b188_a5dc_11e8_94ea_8c8590684ea5row21_col23\" class=\"data row21 col23\" >1</td> \n",
       "        <td id=\"T_9a55b188_a5dc_11e8_94ea_8c8590684ea5row21_col24\" class=\"data row21 col24\" >0.017661</td> \n",
       "        <td id=\"T_9a55b188_a5dc_11e8_94ea_8c8590684ea5row21_col25\" class=\"data row21 col25\" >-0.0431176</td> \n",
       "        <td id=\"T_9a55b188_a5dc_11e8_94ea_8c8590684ea5row21_col26\" class=\"data row21 col26\" >0.0231063</td> \n",
       "    </tr>    <tr> \n",
       "        <th id=\"T_9a55b188_a5dc_11e8_94ea_8c8590684ea5level0_row22\" class=\"row_heading level0 row22\" >MiscVal</th> \n",
       "        <td id=\"T_9a55b188_a5dc_11e8_94ea_8c8590684ea5row22_col0\" class=\"data row22 col0\" >0.0482163</td> \n",
       "        <td id=\"T_9a55b188_a5dc_11e8_94ea_8c8590684ea5row22_col1\" class=\"data row22 col1\" >0.0939216</td> \n",
       "        <td id=\"T_9a55b188_a5dc_11e8_94ea_8c8590684ea5row22_col2\" class=\"data row22 col2\" >0.0220987</td> \n",
       "        <td id=\"T_9a55b188_a5dc_11e8_94ea_8c8590684ea5row22_col3\" class=\"data row22 col3\" >0.0142686</td> \n",
       "        <td id=\"T_9a55b188_a5dc_11e8_94ea_8c8590684ea5row22_col4\" class=\"data row22 col4\" >0.000625828</td> \n",
       "        <td id=\"T_9a55b188_a5dc_11e8_94ea_8c8590684ea5row22_col5\" class=\"data row22 col5\" >-0.00170428</td> \n",
       "        <td id=\"T_9a55b188_a5dc_11e8_94ea_8c8590684ea5row22_col6\" class=\"data row22 col6\" >0.07963</td> \n",
       "        <td id=\"T_9a55b188_a5dc_11e8_94ea_8c8590684ea5row22_col7\" class=\"data row22 col7\" >0.125606</td> \n",
       "        <td id=\"T_9a55b188_a5dc_11e8_94ea_8c8590684ea5row22_col8\" class=\"data row22 col8\" >0.113673</td> \n",
       "        <td id=\"T_9a55b188_a5dc_11e8_94ea_8c8590684ea5row22_col9\" class=\"data row22 col9\" >-0.00344164</td> \n",
       "        <td id=\"T_9a55b188_a5dc_11e8_94ea_8c8590684ea5row22_col10\" class=\"data row22 col10\" >0.0502321</td> \n",
       "        <td id=\"T_9a55b188_a5dc_11e8_94ea_8c8590684ea5row22_col11\" class=\"data row22 col11\" >0.00329273</td> \n",
       "        <td id=\"T_9a55b188_a5dc_11e8_94ea_8c8590684ea5row22_col12\" class=\"data row22 col12\" >0.0557886</td> \n",
       "        <td id=\"T_9a55b188_a5dc_11e8_94ea_8c8590684ea5row22_col13\" class=\"data row22 col13\" >0.0122743</td> \n",
       "        <td id=\"T_9a55b188_a5dc_11e8_94ea_8c8590684ea5row22_col14\" class=\"data row22 col14\" >0.031474</td> \n",
       "        <td id=\"T_9a55b188_a5dc_11e8_94ea_8c8590684ea5row22_col15\" class=\"data row22 col15\" >0.100175</td> \n",
       "        <td id=\"T_9a55b188_a5dc_11e8_94ea_8c8590684ea5row22_col16\" class=\"data row22 col16\" >0.0233721</td> \n",
       "        <td id=\"T_9a55b188_a5dc_11e8_94ea_8c8590684ea5row22_col17\" class=\"data row22 col17\" >0.0336395</td> \n",
       "        <td id=\"T_9a55b188_a5dc_11e8_94ea_8c8590684ea5row22_col18\" class=\"data row22 col18\" >0.0850913</td> \n",
       "        <td id=\"T_9a55b188_a5dc_11e8_94ea_8c8590684ea5row22_col19\" class=\"data row22 col19\" >0.109919</td> \n",
       "        <td id=\"T_9a55b188_a5dc_11e8_94ea_8c8590684ea5row22_col20\" class=\"data row22 col20\" >0.015049</td> \n",
       "        <td id=\"T_9a55b188_a5dc_11e8_94ea_8c8590684ea5row22_col21\" class=\"data row22 col21\" >-0.00488657</td> \n",
       "        <td id=\"T_9a55b188_a5dc_11e8_94ea_8c8590684ea5row22_col22\" class=\"data row22 col22\" >0.00712156</td> \n",
       "        <td id=\"T_9a55b188_a5dc_11e8_94ea_8c8590684ea5row22_col23\" class=\"data row22 col23\" >0.017661</td> \n",
       "        <td id=\"T_9a55b188_a5dc_11e8_94ea_8c8590684ea5row22_col24\" class=\"data row22 col24\" >1</td> \n",
       "        <td id=\"T_9a55b188_a5dc_11e8_94ea_8c8590684ea5row22_col25\" class=\"data row22 col25\" >0.0194835</td> \n",
       "        <td id=\"T_9a55b188_a5dc_11e8_94ea_8c8590684ea5row22_col26\" class=\"data row22 col26\" >-0.00737476</td> \n",
       "    </tr>    <tr> \n",
       "        <th id=\"T_9a55b188_a5dc_11e8_94ea_8c8590684ea5level0_row23\" class=\"row_heading level0 row23\" >BsmtHalfBath</th> \n",
       "        <td id=\"T_9a55b188_a5dc_11e8_94ea_8c8590684ea5row23_col0\" class=\"data row23 col0\" >-0.0288519</td> \n",
       "        <td id=\"T_9a55b188_a5dc_11e8_94ea_8c8590684ea5row23_col1\" class=\"data row23 col1\" >0.0291574</td> \n",
       "        <td id=\"T_9a55b188_a5dc_11e8_94ea_8c8590684ea5row23_col2\" class=\"data row23 col2\" >-0.047006</td> \n",
       "        <td id=\"T_9a55b188_a5dc_11e8_94ea_8c8590684ea5row23_col3\" class=\"data row23 col3\" >0.0999176</td> \n",
       "        <td id=\"T_9a55b188_a5dc_11e8_94ea_8c8590684ea5row23_col4\" class=\"data row23 col4\" >-0.0312993</td> \n",
       "        <td id=\"T_9a55b188_a5dc_11e8_94ea_8c8590684ea5row23_col5\" class=\"data row23 col5\" >-0.0377634</td> \n",
       "        <td id=\"T_9a55b188_a5dc_11e8_94ea_8c8590684ea5row23_col6\" class=\"data row23 col6\" >0.0118847</td> \n",
       "        <td id=\"T_9a55b188_a5dc_11e8_94ea_8c8590684ea5row23_col7\" class=\"data row23 col7\" >0.00570317</td> \n",
       "        <td id=\"T_9a55b188_a5dc_11e8_94ea_8c8590684ea5row23_col8\" class=\"data row23 col8\" >-0.0545227</td> \n",
       "        <td id=\"T_9a55b188_a5dc_11e8_94ea_8c8590684ea5row23_col9\" class=\"data row23 col9\" >-0.146641</td> \n",
       "        <td id=\"T_9a55b188_a5dc_11e8_94ea_8c8590684ea5row23_col10\" class=\"data row23 col10\" >1</td> \n",
       "        <td id=\"T_9a55b188_a5dc_11e8_94ea_8c8590684ea5row23_col11\" class=\"data row23 col11\" >-0.0601713</td> \n",
       "        <td id=\"T_9a55b188_a5dc_11e8_94ea_8c8590684ea5row23_col12\" class=\"data row23 col12\" >-0.0473459</td> \n",
       "        <td id=\"T_9a55b188_a5dc_11e8_94ea_8c8590684ea5row23_col13\" class=\"data row23 col13\" >0.0125398</td> \n",
       "        <td id=\"T_9a55b188_a5dc_11e8_94ea_8c8590684ea5row23_col14\" class=\"data row23 col14\" >-0.079276</td> \n",
       "        <td id=\"T_9a55b188_a5dc_11e8_94ea_8c8590684ea5row23_col15\" class=\"data row23 col15\" >-0.0542624</td> \n",
       "        <td id=\"T_9a55b188_a5dc_11e8_94ea_8c8590684ea5row23_col16\" class=\"data row23 col16\" >0.0612744</td> \n",
       "        <td id=\"T_9a55b188_a5dc_11e8_94ea_8c8590684ea5row23_col17\" class=\"data row23 col17\" >-0.0249564</td> \n",
       "        <td id=\"T_9a55b188_a5dc_11e8_94ea_8c8590684ea5row23_col18\" class=\"data row23 col18\" >0.0319245</td> \n",
       "        <td id=\"T_9a55b188_a5dc_11e8_94ea_8c8590684ea5row23_col19\" class=\"data row23 col19\" >-0.0329518</td> \n",
       "        <td id=\"T_9a55b188_a5dc_11e8_94ea_8c8590684ea5row23_col20\" class=\"data row23 col20\" >-0.0119987</td> \n",
       "        <td id=\"T_9a55b188_a5dc_11e8_94ea_8c8590684ea5row23_col21\" class=\"data row23 col21\" >0.030595</td> \n",
       "        <td id=\"T_9a55b188_a5dc_11e8_94ea_8c8590684ea5row23_col22\" class=\"data row23 col22\" >0.0376634</td> \n",
       "        <td id=\"T_9a55b188_a5dc_11e8_94ea_8c8590684ea5row23_col23\" class=\"data row23 col23\" >0.0661106</td> \n",
       "        <td id=\"T_9a55b188_a5dc_11e8_94ea_8c8590684ea5row23_col24\" class=\"data row23 col24\" >0.0502321</td> \n",
       "        <td id=\"T_9a55b188_a5dc_11e8_94ea_8c8590684ea5row23_col25\" class=\"data row23 col25\" >0.0264293</td> \n",
       "        <td id=\"T_9a55b188_a5dc_11e8_94ea_8c8590684ea5row23_col26\" class=\"data row23 col26\" >-0.0452903</td> \n",
       "    </tr>    <tr> \n",
       "        <th id=\"T_9a55b188_a5dc_11e8_94ea_8c8590684ea5level0_row24\" class=\"row_heading level0 row24\" >OverallCond</th> \n",
       "        <td id=\"T_9a55b188_a5dc_11e8_94ea_8c8590684ea5row24_col0\" class=\"data row24 col0\" >-0.0497799</td> \n",
       "        <td id=\"T_9a55b188_a5dc_11e8_94ea_8c8590684ea5row24_col1\" class=\"data row24 col1\" >-0.0191849</td> \n",
       "        <td id=\"T_9a55b188_a5dc_11e8_94ea_8c8590684ea5row24_col2\" class=\"data row24 col2\" >-0.0827704</td> \n",
       "        <td id=\"T_9a55b188_a5dc_11e8_94ea_8c8590684ea5row24_col3\" class=\"data row24 col3\" >1</td> \n",
       "        <td id=\"T_9a55b188_a5dc_11e8_94ea_8c8590684ea5row24_col4\" class=\"data row24 col4\" >-0.370988</td> \n",
       "        <td id=\"T_9a55b188_a5dc_11e8_94ea_8c8590684ea5row24_col5\" class=\"data row24 col5\" >0.0426145</td> \n",
       "        <td id=\"T_9a55b188_a5dc_11e8_94ea_8c8590684ea5row24_col6\" class=\"data row24 col6\" >-0.131908</td> \n",
       "        <td id=\"T_9a55b188_a5dc_11e8_94ea_8c8590684ea5row24_col7\" class=\"data row24 col7\" >-0.158666</td> \n",
       "        <td id=\"T_9a55b188_a5dc_11e8_94ea_8c8590684ea5row24_col8\" class=\"data row24 col8\" >-0.109804</td> \n",
       "        <td id=\"T_9a55b188_a5dc_11e8_94ea_8c8590684ea5row24_col9\" class=\"data row24 col9\" >-0.0401066</td> \n",
       "        <td id=\"T_9a55b188_a5dc_11e8_94ea_8c8590684ea5row24_col10\" class=\"data row24 col10\" >0.0999176</td> \n",
       "        <td id=\"T_9a55b188_a5dc_11e8_94ea_8c8590684ea5row24_col11\" class=\"data row24 col11\" >-0.219189</td> \n",
       "        <td id=\"T_9a55b188_a5dc_11e8_94ea_8c8590684ea5row24_col12\" class=\"data row24 col12\" >-0.0932659</td> \n",
       "        <td id=\"T_9a55b188_a5dc_11e8_94ea_8c8590684ea5row24_col13\" class=\"data row24 col13\" >-0.00990845</td> \n",
       "        <td id=\"T_9a55b188_a5dc_11e8_94ea_8c8590684ea5row24_col14\" class=\"data row24 col14\" >-0.0957252</td> \n",
       "        <td id=\"T_9a55b188_a5dc_11e8_94ea_8c8590684ea5row24_col15\" class=\"data row24 col15\" >-0.0935761</td> \n",
       "        <td id=\"T_9a55b188_a5dc_11e8_94ea_8c8590684ea5row24_col16\" class=\"data row24 col16\" >-0.00646294</td> \n",
       "        <td id=\"T_9a55b188_a5dc_11e8_94ea_8c8590684ea5row24_col17\" class=\"data row24 col17\" >-0.137906</td> \n",
       "        <td id=\"T_9a55b188_a5dc_11e8_94ea_8c8590684ea5row24_col18\" class=\"data row24 col18\" >0.0110343</td> \n",
       "        <td id=\"T_9a55b188_a5dc_11e8_94ea_8c8590684ea5row24_col19\" class=\"data row24 col19\" >-0.0522661</td> \n",
       "        <td id=\"T_9a55b188_a5dc_11e8_94ea_8c8590684ea5row24_col20\" class=\"data row24 col20\" >0.10832</td> \n",
       "        <td id=\"T_9a55b188_a5dc_11e8_94ea_8c8590684ea5row24_col21\" class=\"data row24 col21\" >0.0269074</td> \n",
       "        <td id=\"T_9a55b188_a5dc_11e8_94ea_8c8590684ea5row24_col22\" class=\"data row24 col22\" >0.0473589</td> \n",
       "        <td id=\"T_9a55b188_a5dc_11e8_94ea_8c8590684ea5row24_col23\" class=\"data row24 col23\" >-0.0058064</td> \n",
       "        <td id=\"T_9a55b188_a5dc_11e8_94ea_8c8590684ea5row24_col24\" class=\"data row24 col24\" >0.0142686</td> \n",
       "        <td id=\"T_9a55b188_a5dc_11e8_94ea_8c8590684ea5row24_col25\" class=\"data row24 col25\" >-0.00314357</td> \n",
       "        <td id=\"T_9a55b188_a5dc_11e8_94ea_8c8590684ea5row24_col26\" class=\"data row24 col26\" >-0.0970189</td> \n",
       "    </tr>    <tr> \n",
       "        <th id=\"T_9a55b188_a5dc_11e8_94ea_8c8590684ea5level0_row25\" class=\"row_heading level0 row25\" >KitchenAbvGr</th> \n",
       "        <td id=\"T_9a55b188_a5dc_11e8_94ea_8c8590684ea5row25_col0\" class=\"data row25 col0\" >0.0148485</td> \n",
       "        <td id=\"T_9a55b188_a5dc_11e8_94ea_8c8590684ea5row25_col1\" class=\"data row25 col1\" >-0.0134841</td> \n",
       "        <td id=\"T_9a55b188_a5dc_11e8_94ea_8c8590684ea5row25_col2\" class=\"data row25 col2\" >-0.170964</td> \n",
       "        <td id=\"T_9a55b188_a5dc_11e8_94ea_8c8590684ea5row25_col3\" class=\"data row25 col3\" >-0.0957252</td> \n",
       "        <td id=\"T_9a55b188_a5dc_11e8_94ea_8c8590684ea5row25_col4\" class=\"data row25 col4\" >-0.127162</td> \n",
       "        <td id=\"T_9a55b188_a5dc_11e8_94ea_8c8590684ea5row25_col5\" class=\"data row25 col5\" >-0.135926</td> \n",
       "        <td id=\"T_9a55b188_a5dc_11e8_94ea_8c8590684ea5row25_col6\" class=\"data row25 col6\" >-0.0702549</td> \n",
       "        <td id=\"T_9a55b188_a5dc_11e8_94ea_8c8590684ea5row25_col7\" class=\"data row25 col7\" >-0.0499877</td> \n",
       "        <td id=\"T_9a55b188_a5dc_11e8_94ea_8c8590684ea5row25_col8\" class=\"data row25 col8\" >0.0970274</td> \n",
       "        <td id=\"T_9a55b188_a5dc_11e8_94ea_8c8590684ea5row25_col9\" class=\"data row25 col9\" >-0.0293018</td> \n",
       "        <td id=\"T_9a55b188_a5dc_11e8_94ea_8c8590684ea5row25_col10\" class=\"data row25 col10\" >-0.079276</td> \n",
       "        <td id=\"T_9a55b188_a5dc_11e8_94ea_8c8590684ea5row25_col11\" class=\"data row25 col11\" >0.165939</td> \n",
       "        <td id=\"T_9a55b188_a5dc_11e8_94ea_8c8590684ea5row25_col12\" class=\"data row25 col12\" >-0.0401488</td> \n",
       "        <td id=\"T_9a55b188_a5dc_11e8_94ea_8c8590684ea5row25_col13\" class=\"data row25 col13\" >0.227207</td> \n",
       "        <td id=\"T_9a55b188_a5dc_11e8_94ea_8c8590684ea5row25_col14\" class=\"data row25 col14\" >1</td> \n",
       "        <td id=\"T_9a55b188_a5dc_11e8_94ea_8c8590684ea5row25_col15\" class=\"data row25 col15\" >0.276663</td> \n",
       "        <td id=\"T_9a55b188_a5dc_11e8_94ea_8c8590684ea5row25_col16\" class=\"data row25 col16\" >-0.134745</td> \n",
       "        <td id=\"T_9a55b188_a5dc_11e8_94ea_8c8590684ea5row25_col17\" class=\"data row25 col17\" >-0.0685383</td> \n",
       "        <td id=\"T_9a55b188_a5dc_11e8_94ea_8c8590684ea5row25_col18\" class=\"data row25 col18\" >-0.0900127</td> \n",
       "        <td id=\"T_9a55b188_a5dc_11e8_94ea_8c8590684ea5row25_col19\" class=\"data row25 col19\" >-0.0835018</td> \n",
       "        <td id=\"T_9a55b188_a5dc_11e8_94ea_8c8590684ea5row25_col20\" class=\"data row25 col20\" >0.0161892</td> \n",
       "        <td id=\"T_9a55b188_a5dc_11e8_94ea_8c8590684ea5row25_col21\" class=\"data row25 col21\" >-0.021017</td> \n",
       "        <td id=\"T_9a55b188_a5dc_11e8_94ea_8c8590684ea5row25_col22\" class=\"data row25 col22\" >-0.0588861</td> \n",
       "        <td id=\"T_9a55b188_a5dc_11e8_94ea_8c8590684ea5row25_col23\" class=\"data row25 col23\" >-0.012986</td> \n",
       "        <td id=\"T_9a55b188_a5dc_11e8_94ea_8c8590684ea5row25_col24\" class=\"data row25 col24\" >0.031474</td> \n",
       "        <td id=\"T_9a55b188_a5dc_11e8_94ea_8c8590684ea5row25_col25\" class=\"data row25 col25\" >0.0471435</td> \n",
       "        <td id=\"T_9a55b188_a5dc_11e8_94ea_8c8590684ea5row25_col26\" class=\"data row25 col26\" >-0.125444</td> \n",
       "    </tr>    <tr> \n",
       "        <th id=\"T_9a55b188_a5dc_11e8_94ea_8c8590684ea5level0_row26\" class=\"row_heading level0 row26\" >EnclosedPorch</th> \n",
       "        <td id=\"T_9a55b188_a5dc_11e8_94ea_8c8590684ea5row26_col0\" class=\"data row26 col0\" >-0.00276421</td> \n",
       "        <td id=\"T_9a55b188_a5dc_11e8_94ea_8c8590684ea5row26_col1\" class=\"data row26 col1\" >0.0141387</td> \n",
       "        <td id=\"T_9a55b188_a5dc_11e8_94ea_8c8590684ea5row26_col2\" class=\"data row26 col2\" >-0.154554</td> \n",
       "        <td id=\"T_9a55b188_a5dc_11e8_94ea_8c8590684ea5row26_col3\" class=\"data row26 col3\" >0.10832</td> \n",
       "        <td id=\"T_9a55b188_a5dc_11e8_94ea_8c8590684ea5row26_col4\" class=\"data row26 col4\" >-0.380082</td> \n",
       "        <td id=\"T_9a55b188_a5dc_11e8_94ea_8c8590684ea5row26_col5\" class=\"data row26 col5\" >-0.237523</td> \n",
       "        <td id=\"T_9a55b188_a5dc_11e8_94ea_8c8590684ea5row26_col6\" class=\"data row26 col6\" >-0.105934</td> \n",
       "        <td id=\"T_9a55b188_a5dc_11e8_94ea_8c8590684ea5row26_col7\" class=\"data row26 col7\" >-0.0880252</td> \n",
       "        <td id=\"T_9a55b188_a5dc_11e8_94ea_8c8590684ea5row26_col8\" class=\"data row26 col8\" >-0.00777677</td> \n",
       "        <td id=\"T_9a55b188_a5dc_11e8_94ea_8c8590684ea5row26_col9\" class=\"data row26 col9\" >-0.0730279</td> \n",
       "        <td id=\"T_9a55b188_a5dc_11e8_94ea_8c8590684ea5row26_col10\" class=\"data row26 col10\" >-0.0119987</td> \n",
       "        <td id=\"T_9a55b188_a5dc_11e8_94ea_8c8590684ea5row26_col11\" class=\"data row26 col11\" >-0.125383</td> \n",
       "        <td id=\"T_9a55b188_a5dc_11e8_94ea_8c8590684ea5row26_col12\" class=\"data row26 col12\" >-0.100591</td> \n",
       "        <td id=\"T_9a55b188_a5dc_11e8_94ea_8c8590684ea5row26_col13\" class=\"data row26 col13\" >0.0330296</td> \n",
       "        <td id=\"T_9a55b188_a5dc_11e8_94ea_8c8590684ea5row26_col14\" class=\"data row26 col14\" >0.0161892</td> \n",
       "        <td id=\"T_9a55b188_a5dc_11e8_94ea_8c8590684ea5row26_col15\" class=\"data row26 col15\" >0.00552058</td> \n",
       "        <td id=\"T_9a55b188_a5dc_11e8_94ea_8c8590684ea5row26_col16\" class=\"data row26 col16\" >0.00936797</td> \n",
       "        <td id=\"T_9a55b188_a5dc_11e8_94ea_8c8590684ea5row26_col17\" class=\"data row26 col17\" >-0.112033</td> \n",
       "        <td id=\"T_9a55b188_a5dc_11e8_94ea_8c8590684ea5row26_col18\" class=\"data row26 col18\" >-0.114079</td> \n",
       "        <td id=\"T_9a55b188_a5dc_11e8_94ea_8c8590684ea5row26_col19\" class=\"data row26 col19\" >-0.0770187</td> \n",
       "        <td id=\"T_9a55b188_a5dc_11e8_94ea_8c8590684ea5row26_col20\" class=\"data row26 col20\" >1</td> \n",
       "        <td id=\"T_9a55b188_a5dc_11e8_94ea_8c8590684ea5row26_col21\" class=\"data row26 col21\" >-0.0321455</td> \n",
       "        <td id=\"T_9a55b188_a5dc_11e8_94ea_8c8590684ea5row26_col22\" class=\"data row26 col22\" >-0.069049</td> \n",
       "        <td id=\"T_9a55b188_a5dc_11e8_94ea_8c8590684ea5row26_col23\" class=\"data row26 col23\" >-0.015636</td> \n",
       "        <td id=\"T_9a55b188_a5dc_11e8_94ea_8c8590684ea5row26_col24\" class=\"data row26 col24\" >0.015049</td> \n",
       "        <td id=\"T_9a55b188_a5dc_11e8_94ea_8c8590684ea5row26_col25\" class=\"data row26 col25\" >0.00445479</td> \n",
       "        <td id=\"T_9a55b188_a5dc_11e8_94ea_8c8590684ea5row26_col26\" class=\"data row26 col26\" >-0.135656</td> \n",
       "    </tr></tbody> \n",
       "</table> "
      ],
      "text/plain": [
       "<pandas.io.formats.style.Styler at 0x116d64358>"
      ]
     },
     "execution_count": 31,
     "metadata": {},
     "output_type": "execute_result"
    }
   ],
   "source": [
    "train_corr.style.applymap(highlight)"
   ]
  },
  {
   "cell_type": "markdown",
   "metadata": {},
   "source": [
    "## Correlations with Sale Price"
   ]
  },
  {
   "cell_type": "code",
   "execution_count": 32,
   "metadata": {},
   "outputs": [
    {
     "data": {
      "text/plain": [
       "Text(0.5,1,'Correlations with Sale Price')"
      ]
     },
     "execution_count": 32,
     "metadata": {},
     "output_type": "execute_result"
    },
    {
     "data": {
      "image/png": "[encoded data removed]",
      "text/plain": [
       "<matplotlib.figure.Figure at 0x1172dcf28>"
      ]
     },
     "metadata": {},
     "output_type": "display_data"
    }
   ],
   "source": [
    "# num_feat=house.columns[house.dtypes!=object]\n",
    "# num_feat=num_feat[1:-2] \n",
    "labels = []\n",
    "values = []\n",
    "for col in numeric_columns:\n",
    "    labels.append(col)\n",
    "    values.append(np.corrcoef(train[col].values, train.SalePrice.values)[0,1])\n",
    "    \n",
    "ind = np.arange(len(labels))\n",
    "width = 0.9\n",
    "fig, ax = plt.subplots(figsize=(10,10))\n",
    "rects = ax.barh(ind, np.array(values), color='magenta')\n",
    "ax.set_yticks(ind+((width)/2.))\n",
    "ax.set_yticklabels(labels, rotation='horizontal')\n",
    "ax.set_xlabel(\"Correlation coefficient\")\n",
    "ax.set_title(\"Correlations with Sale Price\")"
   ]
  },
  {
   "cell_type": "markdown",
   "metadata": {},
   "source": [
    "## Scatterplots for Numeric Columns"
   ]
  },
  {
   "cell_type": "code",
   "execution_count": 33,
   "metadata": {},
   "outputs": [
    {
     "data": {
      "image/png": "[encoded data removed]",
      "text/plain": [
       "<matplotlib.figure.Figure at 0x1172dc7f0>"
      ]
     },
     "metadata": {},
     "output_type": "display_data"
    }
   ],
   "source": [
    "fig = plt.figure(figsize=(15,50))\n",
    "for i, col in enumerate(numeric_columns):\n",
    "    fig.add_subplot(12,3,1+i)\n",
    "    plt.scatter(train[col], train['SalePrice'])\n",
    "    plt.xlabel(col)\n",
    "    plt.ylabel('SalePrice')\n",
    "fig.tight_layout()\n",
    "fig.show()\n",
    "\n",
    "fig.savefig('numeric_scatter.png');"
   ]
  },
  {
   "cell_type": "markdown",
   "metadata": {},
   "source": [
    "## Outliers"
   ]
  },
  {
   "cell_type": "markdown",
   "metadata": {},
   "source": [
    "Removing outliers.  "
   ]
  },
  {
   "cell_type": "code",
   "execution_count": 34,
   "metadata": {
    "collapsed": true
   },
   "outputs": [],
   "source": [
    "train = train[train['LotFrontage'] < 300]"
   ]
  },
  {
   "cell_type": "code",
   "execution_count": 35,
   "metadata": {
    "collapsed": true
   },
   "outputs": [],
   "source": [
    "train = train[train['LotArea'] < 100000]"
   ]
  },
  {
   "cell_type": "code",
   "execution_count": 36,
   "metadata": {},
   "outputs": [],
   "source": [
    "train = train[train['TotalBsmtSF'] < 5000]"
   ]
  },
  {
   "cell_type": "code",
   "execution_count": 37,
   "metadata": {
    "collapsed": true
   },
   "outputs": [],
   "source": [
    "train = train[train['GrLivArea'] < 5000]"
   ]
  },
  {
   "cell_type": "code",
   "execution_count": 38,
   "metadata": {
    "collapsed": true
   },
   "outputs": [],
   "source": [
    "train = train[train['WoodDeckSF'] < 1400]"
   ]
  },
  {
   "cell_type": "markdown",
   "metadata": {},
   "source": [
    "## Clean Test Data"
   ]
  },
  {
   "cell_type": "code",
   "execution_count": 39,
   "metadata": {
    "collapsed": true
   },
   "outputs": [],
   "source": [
    "test = pd.read_csv('./data/test.csv')"
   ]
  },
  {
   "cell_type": "markdown",
   "metadata": {},
   "source": [
    "## Remove Spaces in Column Titles"
   ]
  },
  {
   "cell_type": "code",
   "execution_count": 40,
   "metadata": {
    "collapsed": true
   },
   "outputs": [],
   "source": [
    "test.columns = test.columns.str.replace(' ', '')"
   ]
  },
  {
   "cell_type": "markdown",
   "metadata": {},
   "source": [
    "## Drop Columns"
   ]
  },
  {
   "cell_type": "code",
   "execution_count": 41,
   "metadata": {
    "collapsed": true
   },
   "outputs": [],
   "source": [
    "test.drop(['Id', 'PID'], axis=1, inplace=True)"
   ]
  },
  {
   "cell_type": "markdown",
   "metadata": {},
   "source": [
    "## Change Type for Columns"
   ]
  },
  {
   "cell_type": "code",
   "execution_count": 42,
   "metadata": {
    "collapsed": true
   },
   "outputs": [],
   "source": [
    "test['MSSubClass'] = test['MSSubClass'].astype(object)\n",
    "test['YrSold'] = test['YrSold'].astype(object)"
   ]
  },
  {
   "cell_type": "markdown",
   "metadata": {},
   "source": [
    "## Null Values"
   ]
  },
  {
   "cell_type": "code",
   "execution_count": 43,
   "metadata": {
    "collapsed": true
   },
   "outputs": [],
   "source": [
    "categorical_null_cols = ['MiscFeature', 'Alley', 'Fence',\n",
    " 'FireplaceQu','GarageQual', 'GarageCond',\n",
    " 'GarageFinish','GarageType', 'BsmtExposure',\n",
    " 'BsmtFinType2', 'BsmtCond', 'BsmtQual',\n",
    " 'BsmtFinType1', 'MasVnrType']"
   ]
  },
  {
   "cell_type": "code",
   "execution_count": 44,
   "metadata": {
    "collapsed": true
   },
   "outputs": [],
   "source": [
    "for col in test.columns:\n",
    "    if col in categorical_null_cols:\n",
    "        test[col].fillna(value = 'None', inplace=True)"
   ]
  },
  {
   "cell_type": "code",
   "execution_count": 45,
   "metadata": {
    "collapsed": true
   },
   "outputs": [],
   "source": [
    "numeric_null_cols = ['BsmtHalfBath',\n",
    " 'BsmtFullBath','GarageCars']"
   ]
  },
  {
   "cell_type": "code",
   "execution_count": 46,
   "metadata": {
    "collapsed": true
   },
   "outputs": [],
   "source": [
    "numeric_median_cols = ['LotFrontage', 'MasVnrArea', 'BsmtFinSF1', 'BsmtFinSF2', \n",
    "           'BsmtUnfSF', 'GarageArea', 'TotalBsmtSF']"
   ]
  },
  {
   "cell_type": "code",
   "execution_count": 47,
   "metadata": {},
   "outputs": [],
   "source": [
    "for col in test.columns:\n",
    "    if col in numeric_null_cols:\n",
    "        test[col].fillna(value = 0, inplace=True)"
   ]
  },
  {
   "cell_type": "code",
   "execution_count": 48,
   "metadata": {},
   "outputs": [],
   "source": [
    "for col in test.columns:\n",
    "    if col in numeric_median_cols:\n",
    "        test[col].fillna(value = test[col].median(), inplace=True)"
   ]
  },
  {
   "cell_type": "code",
   "execution_count": 49,
   "metadata": {},
   "outputs": [
    {
     "name": "stdout",
     "output_type": "stream",
     "text": [
      "663\n"
     ]
    }
   ],
   "source": [
    "counter = 0\n",
    "for x in test[test['GarageYrBlt'].notnull()][['GarageYrBlt','YearBuilt']].values:\n",
    "    if x[0] == x[1]:\n",
    "        counter += 1\n",
    "print(counter)"
   ]
  },
  {
   "cell_type": "code",
   "execution_count": 50,
   "metadata": {},
   "outputs": [],
   "source": [
    "test.loc[test['GarageYrBlt'].isnull(), 'GarageYrBlt'] = test[test['GarageYrBlt'].isnull()]['YearBuilt']"
   ]
  },
  {
   "cell_type": "markdown",
   "metadata": {},
   "source": [
    "## Feature Engineering"
   ]
  },
  {
   "cell_type": "code",
   "execution_count": 51,
   "metadata": {},
   "outputs": [],
   "source": [
    "test.loc[test['YearBuilt'] != test['YearRemod/Add'], 'Remodeled'] = 'Remodeled'"
   ]
  },
  {
   "cell_type": "code",
   "execution_count": 52,
   "metadata": {
    "collapsed": true
   },
   "outputs": [],
   "source": [
    "test.loc[test['YearBuilt'] == test['YearRemod/Add'], 'Remodeled'] = 'Not Remodeled'"
   ]
  },
  {
   "cell_type": "code",
   "execution_count": 53,
   "metadata": {},
   "outputs": [],
   "source": [
    "columns_to_remove = []\n",
    "\n",
    "columns_to_remove.append('GarageCars')\n",
    "columns_to_remove.append('GarageYrBlt')\n",
    "\n",
    "columns_to_remove.append('BsmtFinSF1')\n",
    "columns_to_remove.append('BsmtFinSF2')\n",
    "columns_to_remove.append('BsmtUnfSF')\n",
    "\n",
    "columns_to_remove.append('1stFlrSF')\n",
    "columns_to_remove.append('2ndFlrSF')\n",
    "columns_to_remove.append('LowQualFinSF')\n",
    "\n",
    "\n",
    "\n",
    "test.drop(columns_to_remove, axis=1, inplace=True)"
   ]
  },
  {
   "cell_type": "markdown",
   "metadata": {},
   "source": [
    "## Outliers"
   ]
  },
  {
   "cell_type": "code",
   "execution_count": 54,
   "metadata": {
    "collapsed": true
   },
   "outputs": [],
   "source": [
    "test = test[test['LotFrontage'] < 300]"
   ]
  },
  {
   "cell_type": "code",
   "execution_count": 55,
   "metadata": {
    "collapsed": true
   },
   "outputs": [],
   "source": [
    "test = test[test['LotArea'] < 100000]"
   ]
  },
  {
   "cell_type": "code",
   "execution_count": 56,
   "metadata": {
    "collapsed": true
   },
   "outputs": [],
   "source": [
    "test = test[test['TotalBsmtSF'] < 5000]"
   ]
  },
  {
   "cell_type": "code",
   "execution_count": 57,
   "metadata": {
    "collapsed": true
   },
   "outputs": [],
   "source": [
    "test = test[test['GrLivArea'] < 5000]"
   ]
  },
  {
   "cell_type": "code",
   "execution_count": 58,
   "metadata": {
    "collapsed": true
   },
   "outputs": [],
   "source": [
    "test = test[test['WoodDeckSF'] < 1400]"
   ]
  },
  {
   "cell_type": "markdown",
   "metadata": {},
   "source": [
    "## Create Dummies"
   ]
  },
  {
   "cell_type": "code",
   "execution_count": 59,
   "metadata": {
    "collapsed": true
   },
   "outputs": [],
   "source": [
    "train = pd.get_dummies(train)"
   ]
  },
  {
   "cell_type": "code",
   "execution_count": 60,
   "metadata": {},
   "outputs": [
    {
     "data": {
      "text/plain": [
       "(2045, 314)"
      ]
     },
     "execution_count": 60,
     "metadata": {},
     "output_type": "execute_result"
    }
   ],
   "source": [
    "train.shape"
   ]
  },
  {
   "cell_type": "code",
   "execution_count": 61,
   "metadata": {
    "collapsed": true
   },
   "outputs": [],
   "source": [
    "test = pd.get_dummies(test)"
   ]
  },
  {
   "cell_type": "code",
   "execution_count": 64,
   "metadata": {},
   "outputs": [
    {
     "data": {
      "text/plain": [
       "(877, 296)"
      ]
     },
     "execution_count": 64,
     "metadata": {},
     "output_type": "execute_result"
    }
   ],
   "source": [
    "test.shape"
   ]
  },
  {
   "cell_type": "markdown",
   "metadata": {},
   "source": [
    "## Make Sure Train and Test Data Have Same Number/Order of Columns "
   ]
  },
  {
   "cell_type": "code",
   "execution_count": 65,
   "metadata": {},
   "outputs": [],
   "source": [
    "# test[train.columns]\n",
    "# train[test.columns]"
   ]
  },
  {
   "cell_type": "code",
   "execution_count": 66,
   "metadata": {
    "collapsed": true
   },
   "outputs": [],
   "source": [
    "test['RoofMatl_Metal'] = 0"
   ]
  },
  {
   "cell_type": "code",
   "execution_count": 67,
   "metadata": {
    "collapsed": true
   },
   "outputs": [],
   "source": [
    "test['RoofMatl_Roll'] = 0"
   ]
  },
  {
   "cell_type": "code",
   "execution_count": 68,
   "metadata": {
    "collapsed": true
   },
   "outputs": [],
   "source": [
    "test['Exterior1st_PreCast'] = 0"
   ]
  },
  {
   "cell_type": "code",
   "execution_count": 69,
   "metadata": {
    "collapsed": true
   },
   "outputs": [],
   "source": [
    "test['Exterior2nd_Other'] = 0"
   ]
  },
  {
   "cell_type": "code",
   "execution_count": 70,
   "metadata": {
    "collapsed": true
   },
   "outputs": [],
   "source": [
    "test['Exterior2nd_PreCast'] = 0"
   ]
  },
  {
   "cell_type": "code",
   "execution_count": 71,
   "metadata": {
    "collapsed": true
   },
   "outputs": [],
   "source": [
    "test['MasVnrType_CBlock'] = 0"
   ]
  },
  {
   "cell_type": "code",
   "execution_count": 72,
   "metadata": {
    "collapsed": true
   },
   "outputs": [],
   "source": [
    "test['Heating_Floor'] = 0"
   ]
  },
  {
   "cell_type": "code",
   "execution_count": 73,
   "metadata": {
    "collapsed": true
   },
   "outputs": [],
   "source": [
    "test['KitchenQual_Po'] = 0"
   ]
  },
  {
   "cell_type": "code",
   "execution_count": 74,
   "metadata": {
    "collapsed": true
   },
   "outputs": [],
   "source": [
    "test['SaleType_VWD'] = 0"
   ]
  },
  {
   "cell_type": "code",
   "execution_count": 75,
   "metadata": {
    "collapsed": true
   },
   "outputs": [],
   "source": [
    "train['SalePrice'] = 0"
   ]
  },
  {
   "cell_type": "code",
   "execution_count": 76,
   "metadata": {
    "collapsed": true
   },
   "outputs": [],
   "source": [
    "train['MSSubClass_150'] = 0"
   ]
  },
  {
   "cell_type": "code",
   "execution_count": 77,
   "metadata": {
    "collapsed": true
   },
   "outputs": [],
   "source": [
    "train['MSZoning_A (agr)'] = 0"
   ]
  },
  {
   "cell_type": "code",
   "execution_count": 78,
   "metadata": {
    "collapsed": true
   },
   "outputs": [],
   "source": [
    "train['Utilities_NoSeWa'] = 0"
   ]
  },
  {
   "cell_type": "code",
   "execution_count": 79,
   "metadata": {
    "collapsed": true
   },
   "outputs": [],
   "source": [
    "train['Neighborhood_GrnHill'] = 0"
   ]
  },
  {
   "cell_type": "code",
   "execution_count": 80,
   "metadata": {
    "collapsed": true
   },
   "outputs": [],
   "source": [
    "train['Neighborhood_Landmrk'] = 0"
   ]
  },
  {
   "cell_type": "code",
   "execution_count": 81,
   "metadata": {
    "collapsed": true
   },
   "outputs": [],
   "source": [
    "train['Condition2_Artery'] = 0"
   ]
  },
  {
   "cell_type": "code",
   "execution_count": 82,
   "metadata": {},
   "outputs": [],
   "source": [
    "train['Condition2_RRAe'] = 0"
   ]
  },
  {
   "cell_type": "code",
   "execution_count": 83,
   "metadata": {
    "collapsed": true
   },
   "outputs": [],
   "source": [
    "train['Condition2_RRAn'] = 0"
   ]
  },
  {
   "cell_type": "code",
   "execution_count": 84,
   "metadata": {
    "collapsed": true
   },
   "outputs": [],
   "source": [
    "train['Condition2_RRNn'] = 0"
   ]
  },
  {
   "cell_type": "code",
   "execution_count": 85,
   "metadata": {
    "collapsed": true
   },
   "outputs": [],
   "source": [
    "train['RoofMatl_Membran'] = 0"
   ]
  },
  {
   "cell_type": "code",
   "execution_count": 86,
   "metadata": {
    "collapsed": true
   },
   "outputs": [],
   "source": [
    "train['Exterior1st_CBlock'] = 0"
   ]
  },
  {
   "cell_type": "code",
   "execution_count": 87,
   "metadata": {
    "collapsed": true
   },
   "outputs": [],
   "source": [
    "train['Exterior1st_ImStucc'] = 0"
   ]
  },
  {
   "cell_type": "code",
   "execution_count": 88,
   "metadata": {
    "collapsed": true
   },
   "outputs": [],
   "source": [
    "train['Exterior1st_Stone'] = 0"
   ]
  },
  {
   "cell_type": "code",
   "execution_count": 89,
   "metadata": {
    "collapsed": true
   },
   "outputs": [],
   "source": [
    "train['Exterior2nd_Stone'] = 0"
   ]
  },
  {
   "cell_type": "code",
   "execution_count": 90,
   "metadata": {
    "collapsed": true
   },
   "outputs": [],
   "source": [
    "train['BsmtCond_Ex'] = 0"
   ]
  },
  {
   "cell_type": "code",
   "execution_count": 91,
   "metadata": {
    "collapsed": true
   },
   "outputs": [],
   "source": [
    "train['BsmtCond_Po'] = 0"
   ]
  },
  {
   "cell_type": "code",
   "execution_count": 92,
   "metadata": {
    "collapsed": true
   },
   "outputs": [],
   "source": [
    "train['Heating_OthW'] = 0"
   ]
  },
  {
   "cell_type": "code",
   "execution_count": 93,
   "metadata": {
    "collapsed": true
   },
   "outputs": [],
   "source": [
    "train['Heating_Wall'] = 0"
   ]
  },
  {
   "cell_type": "code",
   "execution_count": 94,
   "metadata": {
    "collapsed": true
   },
   "outputs": [],
   "source": [
    "train['HeatingQC_Po'] = 0"
   ]
  },
  {
   "cell_type": "code",
   "execution_count": 95,
   "metadata": {
    "collapsed": true
   },
   "outputs": [],
   "source": [
    "train['Electrical_Mix'] = 0"
   ]
  },
  {
   "cell_type": "code",
   "execution_count": 96,
   "metadata": {
    "collapsed": true
   },
   "outputs": [],
   "source": [
    "train['Functional_Sal'] = 0"
   ]
  },
  {
   "cell_type": "code",
   "execution_count": 97,
   "metadata": {
    "collapsed": true
   },
   "outputs": [],
   "source": [
    "train['Functional_Sev'] = 0"
   ]
  },
  {
   "cell_type": "code",
   "execution_count": 98,
   "metadata": {
    "collapsed": true
   },
   "outputs": [],
   "source": [
    "train['GarageQual_Ex'] = 0"
   ]
  },
  {
   "cell_type": "code",
   "execution_count": 99,
   "metadata": {
    "collapsed": true
   },
   "outputs": [],
   "source": [
    "train['PoolQC_Fa'] = 0"
   ]
  },
  {
   "cell_type": "code",
   "execution_count": 100,
   "metadata": {
    "collapsed": true
   },
   "outputs": [],
   "source": [
    "train['PoolQC_Gd'] = 0"
   ]
  },
  {
   "cell_type": "code",
   "execution_count": 101,
   "metadata": {
    "collapsed": true
   },
   "outputs": [],
   "source": [
    "train['MiscFeature_TenC'] = 0"
   ]
  },
  {
   "cell_type": "markdown",
   "metadata": {},
   "source": [
    "Make sure there is a difference of 36 columns combined between the two datasets"
   ]
  },
  {
   "cell_type": "code",
   "execution_count": 102,
   "metadata": {},
   "outputs": [
    {
     "data": {
      "text/plain": [
       "27"
      ]
     },
     "execution_count": 102,
     "metadata": {},
     "output_type": "execute_result"
    }
   ],
   "source": [
    "len(list(set(train.columns).difference(test.columns)))"
   ]
  },
  {
   "cell_type": "code",
   "execution_count": 103,
   "metadata": {},
   "outputs": [
    {
     "data": {
      "text/plain": [
       "9"
      ]
     },
     "execution_count": 103,
     "metadata": {},
     "output_type": "execute_result"
    }
   ],
   "source": [
    "len(list(set(test.columns).difference(train.columns)))"
   ]
  },
  {
   "cell_type": "markdown",
   "metadata": {},
   "source": [
    "## Set Up X and Y"
   ]
  },
  {
   "cell_type": "code",
   "execution_count": 143,
   "metadata": {},
   "outputs": [],
   "source": [
    "y = train['SalePrice']\n",
    "X = train[[col for col in train.columns if col != target]]"
   ]
  },
  {
   "cell_type": "code",
   "execution_count": 142,
   "metadata": {
    "scrolled": false
   },
   "outputs": [
    {
     "data": {
      "text/plain": [
       "0    0\n",
       "1    0\n",
       "2    0\n",
       "3    0\n",
       "4    0\n",
       "Name: SalePrice, dtype: int64"
      ]
     },
     "execution_count": 142,
     "metadata": {},
     "output_type": "execute_result"
    }
   ],
   "source": [
    "y.head()"
   ]
  },
  {
   "cell_type": "markdown",
   "metadata": {},
   "source": [
    "## Create training and validation set"
   ]
  },
  {
   "cell_type": "code",
   "execution_count": 144,
   "metadata": {},
   "outputs": [],
   "source": [
    "X_train, X_test, y_train, y_test = train_test_split(X, y, test_size=.3, random_state=42)"
   ]
  },
  {
   "cell_type": "markdown",
   "metadata": {},
   "source": [
    "## Modeling"
   ]
  },
  {
   "cell_type": "markdown",
   "metadata": {},
   "source": [
    "## Scale the Data"
   ]
  },
  {
   "cell_type": "code",
   "execution_count": 145,
   "metadata": {
    "collapsed": true
   },
   "outputs": [],
   "source": [
    "ss = StandardScaler()\n",
    "X_train_sc = ss.fit_transform(X_train)\n",
    "X_test_sc = ss.transform(X_test)"
   ]
  },
  {
   "cell_type": "markdown",
   "metadata": {},
   "source": [
    "## Instantiate the model"
   ]
  },
  {
   "cell_type": "code",
   "execution_count": 146,
   "metadata": {
    "collapsed": true
   },
   "outputs": [],
   "source": [
    "lr = LinearRegression()"
   ]
  },
  {
   "cell_type": "markdown",
   "metadata": {},
   "source": [
    "## Fit the model"
   ]
  },
  {
   "cell_type": "code",
   "execution_count": 147,
   "metadata": {
    "scrolled": true
   },
   "outputs": [
    {
     "data": {
      "text/plain": [
       "LinearRegression(copy_X=True, fit_intercept=True, n_jobs=1, normalize=False)"
      ]
     },
     "execution_count": 147,
     "metadata": {},
     "output_type": "execute_result"
    }
   ],
   "source": [
    "lr.fit(X_train, y_train)"
   ]
  },
  {
   "cell_type": "markdown",
   "metadata": {},
   "source": [
    "## Raw/Scaled Score"
   ]
  },
  {
   "cell_type": "code",
   "execution_count": 152,
   "metadata": {
    "collapsed": true
   },
   "outputs": [],
   "source": [
    "results = list()"
   ]
  },
  {
   "cell_type": "code",
   "execution_count": 153,
   "metadata": {},
   "outputs": [],
   "source": [
    "raw_train_score = lr.score(X_train, y_train)\n",
    "raw_test_score = lr.score(X_test, y_test)\n",
    "\n",
    "results.append({'name':'raw',\n",
    "                'model': 'no model',\n",
    "                'dataset' : 'train',\n",
    "                'preprocessing': 'raw',\n",
    "                'score': raw_train_score})\n",
    "\n",
    "results.append({'name':'raw',\n",
    "                'model':'no model',\n",
    "                'dataset' : 'test',\n",
    "                'preprocessing': 'raw',\n",
    "                'score': raw_test_score})"
   ]
  },
  {
   "cell_type": "markdown",
   "metadata": {},
   "source": [
    "## Scaled Results Dictionary"
   ]
  },
  {
   "cell_type": "code",
   "execution_count": 164,
   "metadata": {
    "collapsed": true
   },
   "outputs": [
    {
     "ename": "TypeError",
     "evalue": "Can only append a Series if ignore_index=True or if the Series has a name",
     "output_type": "error",
     "traceback": [
      "\u001b[0;31m---------------------------------------------------------------------------\u001b[0m",
      "\u001b[0;31mTypeError\u001b[0m                                 Traceback (most recent call last)",
      "\u001b[0;32m<ipython-input-164-16047fd909ce>\u001b[0m in \u001b[0;36m<module>\u001b[0;34m()\u001b[0m\n\u001b[1;32m      6\u001b[0m                 \u001b[0;34m'dataset'\u001b[0m \u001b[0;34m:\u001b[0m \u001b[0;34m'train'\u001b[0m\u001b[0;34m,\u001b[0m\u001b[0;34m\u001b[0m\u001b[0m\n\u001b[1;32m      7\u001b[0m                 \u001b[0;34m'preprocessing'\u001b[0m\u001b[0;34m:\u001b[0m \u001b[0;34m'scaled'\u001b[0m\u001b[0;34m,\u001b[0m\u001b[0;34m\u001b[0m\u001b[0m\n\u001b[0;32m----> 8\u001b[0;31m                 'score': scaled_train_score})\n\u001b[0m\u001b[1;32m      9\u001b[0m \u001b[0;34m\u001b[0m\u001b[0m\n\u001b[1;32m     10\u001b[0m results.append({'name':'scaled',\n",
      "\u001b[0;32m/anaconda3/lib/python3.6/site-packages/pandas/core/frame.py\u001b[0m in \u001b[0;36mappend\u001b[0;34m(self, other, ignore_index, verify_integrity, sort)\u001b[0m\n\u001b[1;32m   6175\u001b[0m                 \u001b[0mother\u001b[0m \u001b[0;34m=\u001b[0m \u001b[0mSeries\u001b[0m\u001b[0;34m(\u001b[0m\u001b[0mother\u001b[0m\u001b[0;34m)\u001b[0m\u001b[0;34m\u001b[0m\u001b[0m\n\u001b[1;32m   6176\u001b[0m             \u001b[0;32mif\u001b[0m \u001b[0mother\u001b[0m\u001b[0;34m.\u001b[0m\u001b[0mname\u001b[0m \u001b[0;32mis\u001b[0m \u001b[0;32mNone\u001b[0m \u001b[0;32mand\u001b[0m \u001b[0;32mnot\u001b[0m \u001b[0mignore_index\u001b[0m\u001b[0;34m:\u001b[0m\u001b[0;34m\u001b[0m\u001b[0m\n\u001b[0;32m-> 6177\u001b[0;31m                 raise TypeError('Can only append a Series if ignore_index=True'\n\u001b[0m\u001b[1;32m   6178\u001b[0m                                 ' or if the Series has a name')\n\u001b[1;32m   6179\u001b[0m \u001b[0;34m\u001b[0m\u001b[0m\n",
      "\u001b[0;31mTypeError\u001b[0m: Can only append a Series if ignore_index=True or if the Series has a name"
     ]
    }
   ],
   "source": [
    "scaled_train_score = lr.score(X_train_sc, y_train)\n",
    "scaled_test_score = lr.score(X_test_sc, y_test)\n",
    "\n",
    "results.append({'name':'scaled',\n",
    "                'model': 'no model',\n",
    "                'dataset' : 'train',\n",
    "                'preprocessing': 'scaled',\n",
    "                'score': scaled_train_score})\n",
    "\n",
    "results.append({'name':'scaled',\n",
    "                'model':'no model',\n",
    "                'dataset' : 'test',\n",
    "                'preprocessing': 'scaled',\n",
    "                'score': scaled_test_score})"
   ]
  },
  {
   "cell_type": "markdown",
   "metadata": {},
   "source": [
    "## Regularization"
   ]
  },
  {
   "cell_type": "code",
   "execution_count": 156,
   "metadata": {
    "collapsed": true
   },
   "outputs": [],
   "source": [
    "ridge = Ridge()\n",
    "lasso = Lasso()\n",
    "enet = ElasticNet()"
   ]
  },
  {
   "cell_type": "code",
   "execution_count": 158,
   "metadata": {},
   "outputs": [],
   "source": [
    "ridge_fit = ridge.fit(X_train_sc, y_train)\n",
    "lasso_fit = lasso.fit(X_train_sc, y_train)\n",
    "enet_fit = enet.fit(X_train_sc, y_train)"
   ]
  },
  {
   "cell_type": "code",
   "execution_count": 161,
   "metadata": {
    "collapsed": true
   },
   "outputs": [],
   "source": [
    "train_ridge_score = ridge.score(X_train_sc, y_train)\n",
    "test_ridge_score = ridge.score(X_test_sc, y_test)\n",
    "train_lasso_score = lasso.score(X_train_sc, y_train)\n",
    "test_lasso_score = lasso.score(X_test_sc, y_test)\n",
    "train_enet_score = enet.score(X_train_sc, y_train)\n",
    "test_enet_score = enet.score(X_test_sc, y_test)"
   ]
  },
  {
   "cell_type": "code",
   "execution_count": 163,
   "metadata": {},
   "outputs": [
    {
     "ename": "TypeError",
     "evalue": "Can only append a Series if ignore_index=True or if the Series has a name",
     "output_type": "error",
     "traceback": [
      "\u001b[0;31m---------------------------------------------------------------------------\u001b[0m",
      "\u001b[0;31mTypeError\u001b[0m                                 Traceback (most recent call last)",
      "\u001b[0;32m<ipython-input-163-ec3a3e533b54>\u001b[0m in \u001b[0;36m<module>\u001b[0;34m()\u001b[0m\n\u001b[1;32m      3\u001b[0m                 \u001b[0;34m'dataset'\u001b[0m\u001b[0;34m:\u001b[0m \u001b[0;34m'train'\u001b[0m\u001b[0;34m,\u001b[0m\u001b[0;34m\u001b[0m\u001b[0m\n\u001b[1;32m      4\u001b[0m                 \u001b[0;34m'preprocessing'\u001b[0m\u001b[0;34m:\u001b[0m \u001b[0;34m'scaled'\u001b[0m\u001b[0;34m,\u001b[0m\u001b[0;34m\u001b[0m\u001b[0m\n\u001b[0;32m----> 5\u001b[0;31m                 'score': train_ridge_score})\n\u001b[0m\u001b[1;32m      6\u001b[0m \u001b[0;34m\u001b[0m\u001b[0m\n\u001b[1;32m      7\u001b[0m results.append({'name': 'ridge',\n",
      "\u001b[0;32m/anaconda3/lib/python3.6/site-packages/pandas/core/frame.py\u001b[0m in \u001b[0;36mappend\u001b[0;34m(self, other, ignore_index, verify_integrity, sort)\u001b[0m\n\u001b[1;32m   6175\u001b[0m                 \u001b[0mother\u001b[0m \u001b[0;34m=\u001b[0m \u001b[0mSeries\u001b[0m\u001b[0;34m(\u001b[0m\u001b[0mother\u001b[0m\u001b[0;34m)\u001b[0m\u001b[0;34m\u001b[0m\u001b[0m\n\u001b[1;32m   6176\u001b[0m             \u001b[0;32mif\u001b[0m \u001b[0mother\u001b[0m\u001b[0;34m.\u001b[0m\u001b[0mname\u001b[0m \u001b[0;32mis\u001b[0m \u001b[0;32mNone\u001b[0m \u001b[0;32mand\u001b[0m \u001b[0;32mnot\u001b[0m \u001b[0mignore_index\u001b[0m\u001b[0;34m:\u001b[0m\u001b[0;34m\u001b[0m\u001b[0m\n\u001b[0;32m-> 6177\u001b[0;31m                 raise TypeError('Can only append a Series if ignore_index=True'\n\u001b[0m\u001b[1;32m   6178\u001b[0m                                 ' or if the Series has a name')\n\u001b[1;32m   6179\u001b[0m \u001b[0;34m\u001b[0m\u001b[0m\n",
      "\u001b[0;31mTypeError\u001b[0m: Can only append a Series if ignore_index=True or if the Series has a name"
     ]
    }
   ],
   "source": [
    "results.append({'name': 'ridge',\n",
    "                'model': ridge_fit,\n",
    "                'dataset': 'train',\n",
    "                'preprocessing': 'scaled',\n",
    "                'score': train_ridge_score})\n",
    "\n",
    "results.append({'name': 'ridge',\n",
    "                'model': ridge_fit,\n",
    "                'dataset': 'test',\n",
    "                'preprocessing': 'scaled',\n",
    "                'score': test_ridge_score})\n",
    "\n",
    "results.append({'name': 'lasso',\n",
    "                'model': lasso_fit,\n",
    "                'dataset': 'train',\n",
    "                'preprocessing': 'scaled',\n",
    "                'score': train_lasso_score})\n",
    "\n",
    "results.append({'name': 'lasso',\n",
    "                'model': lasso_fit,\n",
    "                'dataset': 'test',\n",
    "                'preprocessing': 'scaled',\n",
    "                'score': test_lasso_score})\n",
    "\n",
    "results.append({'name': 'elastic net',\n",
    "                'model': scaled_enet,\n",
    "                'dataset': 'train',\n",
    "                'preprocessing': 'scaled',\n",
    "                'score': train_enet_score})\n",
    "\n",
    "results.append({'name': 'elastic net',\n",
    "                'model': scaled_enet,\n",
    "                'dataset': 'test',\n",
    "                'preprocessing': 'scaled',\n",
    "                'score': test_enet_score})"
   ]
  },
  {
   "cell_type": "code",
   "execution_count": null,
   "metadata": {
    "collapsed": true
   },
   "outputs": [],
   "source": []
  },
  {
   "cell_type": "code",
   "execution_count": null,
   "metadata": {
    "collapsed": true
   },
   "outputs": [],
   "source": []
  },
  {
   "cell_type": "code",
   "execution_count": null,
   "metadata": {
    "collapsed": true
   },
   "outputs": [],
   "source": []
  },
  {
   "cell_type": "code",
   "execution_count": null,
   "metadata": {
    "collapsed": true
   },
   "outputs": [],
   "source": []
  },
  {
   "cell_type": "code",
   "execution_count": null,
   "metadata": {
    "collapsed": true
   },
   "outputs": [],
   "source": []
  },
  {
   "cell_type": "code",
   "execution_count": 113,
   "metadata": {
    "scrolled": true
   },
   "outputs": [
    {
     "name": "stdout",
     "output_type": "stream",
     "text": [
      "0.0\n"
     ]
    }
   ],
   "source": [
    "print(lr.intercept_)"
   ]
  },
  {
   "cell_type": "code",
   "execution_count": 114,
   "metadata": {},
   "outputs": [
    {
     "name": "stdout",
     "output_type": "stream",
     "text": [
      "[ 0.  0.  0.  0.  0.  0.  0.  0.  0.  0.  0.  0.  0.  0.  0.  0.  0.  0.\n",
      "  0.  0.  0.  0.  0.  0.  0.  0.  0.  0.  0.  0.  0.  0.  0.  0.  0.  0.\n",
      "  0.  0.  0.  0.  0.  0.  0.  0.  0.  0.  0.  0.  0.  0.  0.  0.  0.  0.\n",
      "  0.  0.  0.  0.  0.  0.  0.  0.  0.  0.  0.  0.  0.  0.  0.  0.  0.  0.\n",
      "  0.  0.  0.  0.  0.  0.  0.  0.  0.  0.  0.  0.  0.  0.  0.  0.  0.  0.\n",
      "  0.  0.  0.  0.  0.  0.  0.  0.  0.  0.  0.  0.  0.  0.  0.  0.  0.  0.\n",
      "  0.  0.  0.  0.  0.  0.  0.  0.  0.  0.  0.  0.  0.  0.  0.  0.  0.  0.\n",
      "  0.  0.  0.  0.  0.  0.  0.  0.  0.  0.  0.  0.  0.  0.  0.  0.  0.  0.\n",
      "  0.  0.  0.  0.  0.  0.  0.  0.  0.  0.  0.  0.  0.  0.  0.  0.  0.  0.\n",
      "  0.  0.  0.  0.  0.  0.  0.  0.  0.  0.  0.  0.  0.  0.  0.  0.  0.  0.\n",
      "  0.  0.  0.  0.  0.  0.  0.  0.  0.  0.  0.  0.  0.  0.  0.  0.  0.  0.\n",
      "  0.  0.  0.  0.  0.  0.  0.  0.  0.  0.  0.  0.  0.  0.  0.  0.  0.  0.\n",
      "  0.  0.  0.  0.  0.  0.  0.  0.  0.  0.  0.  0.  0.  0.  0.  0.  0.  0.\n",
      "  0.  0.  0.  0.  0.  0.  0.  0.  0.  0.  0.  0.  0.  0.  0.  0.  0.  0.\n",
      "  0.  0.  0.  0.  0.  0.  0.  0.  0.  0.  0.  0.  0.  0.  0.  0.  0.  0.\n",
      "  0.  0.  0.  0.  0.  0.  0.  0.  0.  0.  0.  0.  0.  0.  0.  0.  0.  0.\n",
      "  0.  0.  0.  0.  0.  0.  0.  0.  0.  0.  0.  0.  0.  0.  0.  0.  0.  0.\n",
      "  0.  0.  0.  0.  0.  0.  0.]\n"
     ]
    }
   ],
   "source": [
    "print(lr.coef_)"
   ]
  },
  {
   "cell_type": "code",
   "execution_count": null,
   "metadata": {
    "collapsed": true
   },
   "outputs": [],
   "source": []
  },
  {
   "cell_type": "markdown",
   "metadata": {},
   "source": [
    "## Interpreting Model Coefficients"
   ]
  },
  {
   "cell_type": "code",
   "execution_count": 115,
   "metadata": {},
   "outputs": [
    {
     "data": {
      "text/plain": [
       "[('LotFrontage', 0.0),\n",
       " ('LotArea', 0.0),\n",
       " ('OverallQual', 0.0),\n",
       " ('OverallCond', 0.0),\n",
       " ('YearBuilt', 0.0),\n",
       " ('YearRemod/Add', 0.0),\n",
       " ('MasVnrArea', 0.0),\n",
       " ('TotalBsmtSF', 0.0),\n",
       " ('GrLivArea', 0.0),\n",
       " ('BsmtFullBath', 0.0),\n",
       " ('BsmtHalfBath', 0.0),\n",
       " ('FullBath', 0.0),\n",
       " ('HalfBath', 0.0),\n",
       " ('BedroomAbvGr', 0.0),\n",
       " ('KitchenAbvGr', 0.0),\n",
       " ('TotRmsAbvGrd', 0.0),\n",
       " ('Fireplaces', 0.0),\n",
       " ('GarageArea', 0.0),\n",
       " ('WoodDeckSF', 0.0),\n",
       " ('OpenPorchSF', 0.0),\n",
       " ('EnclosedPorch', 0.0),\n",
       " ('3SsnPorch', 0.0),\n",
       " ('ScreenPorch', 0.0),\n",
       " ('PoolArea', 0.0),\n",
       " ('MiscVal', 0.0),\n",
       " ('MoSold', 0.0),\n",
       " ('MSSubClass_20', 0.0),\n",
       " ('MSSubClass_30', 0.0),\n",
       " ('MSSubClass_40', 0.0),\n",
       " ('MSSubClass_45', 0.0),\n",
       " ('MSSubClass_50', 0.0),\n",
       " ('MSSubClass_60', 0.0),\n",
       " ('MSSubClass_70', 0.0),\n",
       " ('MSSubClass_75', 0.0),\n",
       " ('MSSubClass_80', 0.0),\n",
       " ('MSSubClass_85', 0.0),\n",
       " ('MSSubClass_90', 0.0),\n",
       " ('MSSubClass_120', 0.0),\n",
       " ('MSSubClass_150', 0.0),\n",
       " ('MSSubClass_160', 0.0),\n",
       " ('MSSubClass_180', 0.0),\n",
       " ('MSSubClass_190', 0.0),\n",
       " ('MSZoning_A (agr)', 0.0),\n",
       " ('MSZoning_C (all)', 0.0),\n",
       " ('MSZoning_FV', 0.0),\n",
       " ('MSZoning_I (all)', 0.0),\n",
       " ('MSZoning_RH', 0.0),\n",
       " ('MSZoning_RL', 0.0),\n",
       " ('MSZoning_RM', 0.0),\n",
       " ('Street_Grvl', 0.0),\n",
       " ('Street_Pave', 0.0),\n",
       " ('Alley_Grvl', 0.0),\n",
       " ('Alley_None', 0.0),\n",
       " ('Alley_Pave', 0.0),\n",
       " ('LotShape_IR1', 0.0),\n",
       " ('LotShape_IR2', 0.0),\n",
       " ('LotShape_IR3', 0.0),\n",
       " ('LotShape_Reg', 0.0),\n",
       " ('LandContour_Bnk', 0.0),\n",
       " ('LandContour_HLS', 0.0),\n",
       " ('LandContour_Low', 0.0),\n",
       " ('LandContour_Lvl', 0.0),\n",
       " ('Utilities_AllPub', 0.0),\n",
       " ('Utilities_NoSeWa', 0.0),\n",
       " ('Utilities_NoSewr', 0.0),\n",
       " ('LotConfig_Corner', 0.0),\n",
       " ('LotConfig_CulDSac', 0.0),\n",
       " ('LotConfig_FR2', 0.0),\n",
       " ('LotConfig_FR3', 0.0),\n",
       " ('LotConfig_Inside', 0.0),\n",
       " ('LandSlope_Gtl', 0.0),\n",
       " ('LandSlope_Mod', 0.0),\n",
       " ('LandSlope_Sev', 0.0),\n",
       " ('Neighborhood_Blmngtn', 0.0),\n",
       " ('Neighborhood_Blueste', 0.0),\n",
       " ('Neighborhood_BrDale', 0.0),\n",
       " ('Neighborhood_BrkSide', 0.0),\n",
       " ('Neighborhood_ClearCr', 0.0),\n",
       " ('Neighborhood_CollgCr', 0.0),\n",
       " ('Neighborhood_Crawfor', 0.0),\n",
       " ('Neighborhood_Edwards', 0.0),\n",
       " ('Neighborhood_Gilbert', 0.0),\n",
       " ('Neighborhood_Greens', 0.0),\n",
       " ('Neighborhood_GrnHill', 0.0),\n",
       " ('Neighborhood_IDOTRR', 0.0),\n",
       " ('Neighborhood_Landmrk', 0.0),\n",
       " ('Neighborhood_MeadowV', 0.0),\n",
       " ('Neighborhood_Mitchel', 0.0),\n",
       " ('Neighborhood_NAmes', 0.0),\n",
       " ('Neighborhood_NPkVill', 0.0),\n",
       " ('Neighborhood_NWAmes', 0.0),\n",
       " ('Neighborhood_NoRidge', 0.0),\n",
       " ('Neighborhood_NridgHt', 0.0),\n",
       " ('Neighborhood_OldTown', 0.0),\n",
       " ('Neighborhood_SWISU', 0.0),\n",
       " ('Neighborhood_Sawyer', 0.0),\n",
       " ('Neighborhood_SawyerW', 0.0),\n",
       " ('Neighborhood_Somerst', 0.0),\n",
       " ('Neighborhood_StoneBr', 0.0),\n",
       " ('Neighborhood_Timber', 0.0),\n",
       " ('Neighborhood_Veenker', 0.0),\n",
       " ('Condition1_Artery', 0.0),\n",
       " ('Condition1_Feedr', 0.0),\n",
       " ('Condition1_Norm', 0.0),\n",
       " ('Condition1_PosA', 0.0),\n",
       " ('Condition1_PosN', 0.0),\n",
       " ('Condition1_RRAe', 0.0),\n",
       " ('Condition1_RRAn', 0.0),\n",
       " ('Condition1_RRNe', 0.0),\n",
       " ('Condition1_RRNn', 0.0),\n",
       " ('Condition2_Artery', 0.0),\n",
       " ('Condition2_Feedr', 0.0),\n",
       " ('Condition2_Norm', 0.0),\n",
       " ('Condition2_PosA', 0.0),\n",
       " ('Condition2_PosN', 0.0),\n",
       " ('Condition2_RRAe', 0.0),\n",
       " ('Condition2_RRAn', 0.0),\n",
       " ('Condition2_RRNn', 0.0),\n",
       " ('BldgType_1Fam', 0.0),\n",
       " ('BldgType_2fmCon', 0.0),\n",
       " ('BldgType_Duplex', 0.0),\n",
       " ('BldgType_Twnhs', 0.0),\n",
       " ('BldgType_TwnhsE', 0.0),\n",
       " ('HouseStyle_1.5Fin', 0.0),\n",
       " ('HouseStyle_1.5Unf', 0.0),\n",
       " ('HouseStyle_1Story', 0.0),\n",
       " ('HouseStyle_2.5Fin', 0.0),\n",
       " ('HouseStyle_2.5Unf', 0.0),\n",
       " ('HouseStyle_2Story', 0.0),\n",
       " ('HouseStyle_SFoyer', 0.0),\n",
       " ('HouseStyle_SLvl', 0.0),\n",
       " ('RoofStyle_Flat', 0.0),\n",
       " ('RoofStyle_Gable', 0.0),\n",
       " ('RoofStyle_Gambrel', 0.0),\n",
       " ('RoofStyle_Hip', 0.0),\n",
       " ('RoofStyle_Mansard', 0.0),\n",
       " ('RoofStyle_Shed', 0.0),\n",
       " ('RoofMatl_CompShg', 0.0),\n",
       " ('RoofMatl_Membran', 0.0),\n",
       " ('RoofMatl_Tar&Grv', 0.0),\n",
       " ('RoofMatl_WdShake', 0.0),\n",
       " ('RoofMatl_WdShngl', 0.0),\n",
       " ('Exterior1st_AsbShng', 0.0),\n",
       " ('Exterior1st_AsphShn', 0.0),\n",
       " ('Exterior1st_BrkComm', 0.0),\n",
       " ('Exterior1st_BrkFace', 0.0),\n",
       " ('Exterior1st_CBlock', 0.0),\n",
       " ('Exterior1st_CemntBd', 0.0),\n",
       " ('Exterior1st_HdBoard', 0.0),\n",
       " ('Exterior1st_ImStucc', 0.0),\n",
       " ('Exterior1st_MetalSd', 0.0),\n",
       " ('Exterior1st_Plywood', 0.0),\n",
       " ('Exterior1st_Stone', 0.0),\n",
       " ('Exterior1st_Stucco', 0.0),\n",
       " ('Exterior1st_VinylSd', 0.0),\n",
       " ('Exterior1st_Wd Sdng', 0.0),\n",
       " ('Exterior1st_WdShing', 0.0),\n",
       " ('Exterior2nd_AsbShng', 0.0),\n",
       " ('Exterior2nd_AsphShn', 0.0),\n",
       " ('Exterior2nd_Brk Cmn', 0.0),\n",
       " ('Exterior2nd_BrkFace', 0.0),\n",
       " ('Exterior2nd_CBlock', 0.0),\n",
       " ('Exterior2nd_CmentBd', 0.0),\n",
       " ('Exterior2nd_HdBoard', 0.0),\n",
       " ('Exterior2nd_ImStucc', 0.0),\n",
       " ('Exterior2nd_MetalSd', 0.0),\n",
       " ('Exterior2nd_Plywood', 0.0),\n",
       " ('Exterior2nd_Stone', 0.0),\n",
       " ('Exterior2nd_Stucco', 0.0),\n",
       " ('Exterior2nd_VinylSd', 0.0),\n",
       " ('Exterior2nd_Wd Sdng', 0.0),\n",
       " ('Exterior2nd_Wd Shng', 0.0),\n",
       " ('MasVnrType_BrkCmn', 0.0),\n",
       " ('MasVnrType_BrkFace', 0.0),\n",
       " ('MasVnrType_None', 0.0),\n",
       " ('MasVnrType_Stone', 0.0),\n",
       " ('ExterQual_Ex', 0.0),\n",
       " ('ExterQual_Fa', 0.0),\n",
       " ('ExterQual_Gd', 0.0),\n",
       " ('ExterQual_TA', 0.0),\n",
       " ('ExterCond_Ex', 0.0),\n",
       " ('ExterCond_Fa', 0.0),\n",
       " ('ExterCond_Gd', 0.0),\n",
       " ('ExterCond_Po', 0.0),\n",
       " ('ExterCond_TA', 0.0),\n",
       " ('Foundation_BrkTil', 0.0),\n",
       " ('Foundation_CBlock', 0.0),\n",
       " ('Foundation_PConc', 0.0),\n",
       " ('Foundation_Slab', 0.0),\n",
       " ('Foundation_Stone', 0.0),\n",
       " ('Foundation_Wood', 0.0),\n",
       " ('BsmtQual_Ex', 0.0),\n",
       " ('BsmtQual_Fa', 0.0),\n",
       " ('BsmtQual_Gd', 0.0),\n",
       " ('BsmtQual_None', 0.0),\n",
       " ('BsmtQual_Po', 0.0),\n",
       " ('BsmtQual_TA', 0.0),\n",
       " ('BsmtCond_Ex', 0.0),\n",
       " ('BsmtCond_Fa', 0.0),\n",
       " ('BsmtCond_Gd', 0.0),\n",
       " ('BsmtCond_None', 0.0),\n",
       " ('BsmtCond_Po', 0.0),\n",
       " ('BsmtCond_TA', 0.0),\n",
       " ('BsmtExposure_Av', 0.0),\n",
       " ('BsmtExposure_Gd', 0.0),\n",
       " ('BsmtExposure_Mn', 0.0),\n",
       " ('BsmtExposure_No', 0.0),\n",
       " ('BsmtExposure_None', 0.0),\n",
       " ('BsmtFinType1_ALQ', 0.0),\n",
       " ('BsmtFinType1_BLQ', 0.0),\n",
       " ('BsmtFinType1_GLQ', 0.0),\n",
       " ('BsmtFinType1_LwQ', 0.0),\n",
       " ('BsmtFinType1_None', 0.0),\n",
       " ('BsmtFinType1_Rec', 0.0),\n",
       " ('BsmtFinType1_Unf', 0.0),\n",
       " ('BsmtFinType2_ALQ', 0.0),\n",
       " ('BsmtFinType2_BLQ', 0.0),\n",
       " ('BsmtFinType2_GLQ', 0.0),\n",
       " ('BsmtFinType2_LwQ', 0.0),\n",
       " ('BsmtFinType2_None', 0.0),\n",
       " ('BsmtFinType2_Rec', 0.0),\n",
       " ('BsmtFinType2_Unf', 0.0),\n",
       " ('Heating_GasA', 0.0),\n",
       " ('Heating_GasW', 0.0),\n",
       " ('Heating_Grav', 0.0),\n",
       " ('Heating_OthW', 0.0),\n",
       " ('Heating_Wall', 0.0),\n",
       " ('HeatingQC_Ex', 0.0),\n",
       " ('HeatingQC_Fa', 0.0),\n",
       " ('HeatingQC_Gd', 0.0),\n",
       " ('HeatingQC_Po', 0.0),\n",
       " ('HeatingQC_TA', 0.0),\n",
       " ('CentralAir_N', 0.0),\n",
       " ('CentralAir_Y', 0.0),\n",
       " ('Electrical_FuseA', 0.0),\n",
       " ('Electrical_FuseF', 0.0),\n",
       " ('Electrical_FuseP', 0.0),\n",
       " ('Electrical_Mix', 0.0),\n",
       " ('Electrical_SBrkr', 0.0),\n",
       " ('KitchenQual_Ex', 0.0),\n",
       " ('KitchenQual_Fa', 0.0),\n",
       " ('KitchenQual_Gd', 0.0),\n",
       " ('KitchenQual_TA', 0.0),\n",
       " ('Functional_Maj1', 0.0),\n",
       " ('Functional_Maj2', 0.0),\n",
       " ('Functional_Min1', 0.0),\n",
       " ('Functional_Min2', 0.0),\n",
       " ('Functional_Mod', 0.0),\n",
       " ('Functional_Sal', 0.0),\n",
       " ('Functional_Sev', 0.0),\n",
       " ('Functional_Typ', 0.0),\n",
       " ('FireplaceQu_Ex', 0.0),\n",
       " ('FireplaceQu_Fa', 0.0),\n",
       " ('FireplaceQu_Gd', 0.0),\n",
       " ('FireplaceQu_None', 0.0),\n",
       " ('FireplaceQu_Po', 0.0),\n",
       " ('FireplaceQu_TA', 0.0),\n",
       " ('GarageType_2Types', 0.0),\n",
       " ('GarageType_Attchd', 0.0),\n",
       " ('GarageType_Basment', 0.0),\n",
       " ('GarageType_BuiltIn', 0.0),\n",
       " ('GarageType_CarPort', 0.0),\n",
       " ('GarageType_Detchd', 0.0),\n",
       " ('GarageType_None', 0.0),\n",
       " ('GarageFinish_Fin', 0.0),\n",
       " ('GarageFinish_None', 0.0),\n",
       " ('GarageFinish_RFn', 0.0),\n",
       " ('GarageFinish_Unf', 0.0),\n",
       " ('GarageQual_Ex', 0.0),\n",
       " ('GarageQual_Fa', 0.0),\n",
       " ('GarageQual_Gd', 0.0),\n",
       " ('GarageQual_None', 0.0),\n",
       " ('GarageQual_Po', 0.0),\n",
       " ('GarageQual_TA', 0.0),\n",
       " ('GarageCond_Ex', 0.0),\n",
       " ('GarageCond_Fa', 0.0),\n",
       " ('GarageCond_Gd', 0.0),\n",
       " ('GarageCond_None', 0.0),\n",
       " ('GarageCond_Po', 0.0),\n",
       " ('GarageCond_TA', 0.0),\n",
       " ('PavedDrive_N', 0.0),\n",
       " ('PavedDrive_P', 0.0),\n",
       " ('PavedDrive_Y', 0.0),\n",
       " ('PoolQC_Ex', 0.0),\n",
       " ('PoolQC_Fa', 0.0),\n",
       " ('PoolQC_Gd', 0.0),\n",
       " ('PoolQC_TA', 0.0),\n",
       " ('Fence_GdPrv', 0.0),\n",
       " ('Fence_GdWo', 0.0),\n",
       " ('Fence_MnPrv', 0.0),\n",
       " ('Fence_MnWw', 0.0),\n",
       " ('Fence_None', 0.0),\n",
       " ('MiscFeature_Gar2', 0.0),\n",
       " ('MiscFeature_None', 0.0),\n",
       " ('MiscFeature_Othr', 0.0),\n",
       " ('MiscFeature_Shed', 0.0),\n",
       " ('MiscFeature_TenC', 0.0),\n",
       " ('YrSold_2006', 0.0),\n",
       " ('YrSold_2007', 0.0),\n",
       " ('YrSold_2008', 0.0),\n",
       " ('YrSold_2009', 0.0),\n",
       " ('YrSold_2010', 0.0),\n",
       " ('SaleType_COD', 0.0),\n",
       " ('SaleType_CWD', 0.0),\n",
       " ('SaleType_Con', 0.0),\n",
       " ('SaleType_ConLD', 0.0),\n",
       " ('SaleType_ConLI', 0.0),\n",
       " ('SaleType_ConLw', 0.0),\n",
       " ('SaleType_New', 0.0),\n",
       " ('SaleType_Oth', 0.0),\n",
       " ('SaleType_WD ', 0.0),\n",
       " ('Remodeled_Not Remodeled', 0.0),\n",
       " ('Remodeled_Remodeled', 0.0)]"
      ]
     },
     "execution_count": 115,
     "metadata": {},
     "output_type": "execute_result"
    }
   ],
   "source": [
    "list(zip(X.columns, lr.coef_))"
   ]
  }
 ],
 "metadata": {
  "kernelspec": {
   "display_name": "Python 3",
   "language": "python",
   "name": "python3"
  },
  "language_info": {
   "codemirror_mode": {
    "name": "ipython",
    "version": 3
   },
   "file_extension": ".py",
   "mimetype": "text/x-python",
   "name": "python",
   "nbconvert_exporter": "python",
   "pygments_lexer": "ipython3",
   "version": "3.6.6"
  }
 },
 "nbformat": 4,
 "nbformat_minor": 2
}
