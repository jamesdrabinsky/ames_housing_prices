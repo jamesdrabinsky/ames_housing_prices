{
 "cells": [
  {
   "cell_type": "code",
   "execution_count": null,
   "metadata": {
    "collapsed": true
   },
   "outputs": [],
   "source": [
    "import scipy.stats as stats\n",
    "import seaborn as sns\n",
    "import matplotlib.pyplot as plt\n",
    "\n",
    "import pprint\n",
    "from sklearn import linear_model\n",
    "from sklearn.metrics import mean_squared_error, mean_absolute_error, classification_report, confusion_matrix, roc_curve\n",
    "from sklearn.preprocessing import StandardScaler\n",
    "from sklearn.model_selection import train_test_split, cross_val_score, cross_val_predict\n",
    "import patsy\n",
    "\n",
    "sns.set_style('whitegrid')\n",
    "\n",
    "%config InlineBackend.figure_format = 'retina'\n",
    "%matplotlib inline\n",
    "pd.set_option('display.max_columns', None)\n",
    "pd.set_option('display.max_rows', None)\n",
    "\n",
    "train = pd.read_csv('./data/train.csv')\n",
    "\n",
    "train = train.select_dtypes(exclude='object')\n",
    "\n",
    "train.isnull().sum().sum()\n",
    "\n",
    "train.fillna(0, inplace=True)\n",
    "\n",
    "train.drop('PID', 1, inplace=True)\n",
    "\n",
    "X = train.drop('Saleprice', 1)\n",
    "y = train.SalePrice\n",
    "\n",
    "X_train, X_test, y_train, y_test  = train_test_split(X,y)\n",
    "\n",
    "ss = StandardScaler()\n",
    "\n",
    "X_train_sc = ss.fit_transform(X_train)\n",
    "\n",
    "X_test_sc = ss.transform(X_test)\n",
    "\n",
    "lr = linearRegression()\n",
    "\n",
    "lr.fit(X_train, y_train)\n",
    "\n",
    "lr.score(X_train, y_train)\n",
    "\n",
    "lr.score(X_test, y_test)\n",
    "\n",
    "kaggle = pd.read_csv('test.csv', index_col= 'Id')\n",
    "\n",
    "kaggle = kaggle.select_dtypes(exclue='object')\n",
    "kaggle.fillna"
   ]
  }
 ],
 "metadata": {
  "kernelspec": {
   "display_name": "Python 3",
   "language": "python",
   "name": "python3"
  },
  "language_info": {
   "codemirror_mode": {
    "name": "ipython",
    "version": 3
   },
   "file_extension": ".py",
   "mimetype": "text/x-python",
   "name": "python",
   "nbconvert_exporter": "python",
   "pygments_lexer": "ipython3",
   "version": "3.6.6"
  }
 },
 "nbformat": 4,
 "nbformat_minor": 2
}
