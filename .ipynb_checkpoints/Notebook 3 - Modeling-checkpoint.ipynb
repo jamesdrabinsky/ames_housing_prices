{
 "cells": [
  {
   "cell_type": "markdown",
   "metadata": {},
   "source": [
    "## Import Modules and Data"
   ]
  },
  {
   "cell_type": "code",
   "execution_count": 1,
   "metadata": {},
   "outputs": [
    {
     "name": "stderr",
     "output_type": "stream",
     "text": [
      "/anaconda3/lib/python3.6/site-packages/sklearn/cross_validation.py:41: DeprecationWarning: This module was deprecated in version 0.18 in favor of the model_selection module into which all the refactored classes and functions are moved. Also note that the interface of the new CV iterators are different from that of this module. This module will be removed in 0.20.\n",
      "  \"This module will be removed in 0.20.\", DeprecationWarning)\n",
      "/anaconda3/lib/python3.6/site-packages/sklearn/grid_search.py:42: DeprecationWarning: This module was deprecated in version 0.18 in favor of the model_selection module into which all the refactored classes and functions are moved. This module will be removed in 0.20.\n",
      "  DeprecationWarning)\n"
     ]
    }
   ],
   "source": [
    "import pandas as pd\n",
    "import numpy as np\n",
    "from sklearn.linear_model import LinearRegression, Ridge, RidgeCV, Lasso, LassoCV, ElasticNet, ElasticNetCV\n",
    "from sklearn.preprocessing import StandardScaler\n",
    "from sklearn.pipeline import Pipeline\n",
    "from sklearn.model_selection import train_test_split, cross_val_score\n",
    "from sklearn.metrics import mean_squared_error\n",
    "from sklearn.feature_selection import VarianceThreshold, SelectKBest, f_regression\n",
    "from sklearn.grid_search import GridSearchCV\n",
    "import seaborn as sns\n",
    "import matplotlib.pyplot as plt\n",
    "\n",
    "%matplotlib inline\n",
    "\n",
    "import warnings\n",
    "warnings.filterwarnings('ignore')\n",
    "\n",
    "pd.set_option('display.max_columns', None)\n",
    "pd.set_option('display.max_rows', None)"
   ]
  },
  {
   "cell_type": "code",
   "execution_count": 2,
   "metadata": {
    "collapsed": true
   },
   "outputs": [],
   "source": [
    "np.random.seed(42)"
   ]
  },
  {
   "cell_type": "code",
   "execution_count": 3,
   "metadata": {
    "collapsed": true
   },
   "outputs": [],
   "source": [
    "train_df = pd.read_csv('./data/train_modeling.csv', index_col='Id')\n",
    "test_df = pd.read_csv('./data/test_modeling.csv', index_col='Id')"
   ]
  },
  {
   "cell_type": "markdown",
   "metadata": {},
   "source": [
    "## Pre-scaling"
   ]
  },
  {
   "cell_type": "code",
   "execution_count": 4,
   "metadata": {
    "collapsed": true
   },
   "outputs": [],
   "source": [
    "lr = LinearRegression()"
   ]
  },
  {
   "cell_type": "code",
   "execution_count": 5,
   "metadata": {},
   "outputs": [
    {
     "data": {
      "text/plain": [
       "0.94747744064565687"
      ]
     },
     "execution_count": 5,
     "metadata": {},
     "output_type": "execute_result"
    }
   ],
   "source": [
    "y = train_df['saleprice']\n",
    "X = train_df[[col for col in train_df.columns if col != 'saleprice']]\n",
    "\n",
    "lr.fit(X,y)\n",
    "\n",
    "lr.predict(X)\n",
    "lr.score(X,y)"
   ]
  },
  {
   "cell_type": "markdown",
   "metadata": {},
   "source": [
    "## Create Train/Test Split and Scale Data"
   ]
  },
  {
   "cell_type": "code",
   "execution_count": 6,
   "metadata": {
    "collapsed": true
   },
   "outputs": [],
   "source": [
    "X_train, X_test, y_train, y_test = train_test_split(X, y, random_state=42)"
   ]
  },
  {
   "cell_type": "code",
   "execution_count": 7,
   "metadata": {},
   "outputs": [],
   "source": [
    "ss = StandardScaler()\n",
    "X_train_sc = ss.fit_transform(X_train)\n",
    "X_test_sc = ss.transform(X_test)"
   ]
  },
  {
   "cell_type": "markdown",
   "metadata": {
    "collapsed": true
   },
   "source": [
    "## Set Up the Pipeline"
   ]
  },
  {
   "cell_type": "code",
   "execution_count": 8,
   "metadata": {},
   "outputs": [],
   "source": [
    "pipe_lasso = Pipeline([\n",
    "    ('ss', StandardScaler()),\n",
    "    ('var_thresh', VarianceThreshold()),\n",
    "    ('kbest', SelectKBest(f_regression)),\n",
    "    ('lasso', Lasso())])\n",
    "\n",
    "pipe_ridge = Pipeline([\n",
    "    ('ss', StandardScaler()),\n",
    "    ('var_thresh', VarianceThreshold()),\n",
    "    ('kbest', SelectKBest(f_regression)),\n",
    "    ('ridge', Ridge())])\n",
    "\n",
    "pipe_el = Pipeline([\n",
    "    ('ss', StandardScaler()), \n",
    "    ('var_thresh', VarianceThreshold()),\n",
    "    ('kbest', SelectKBest(f_regression)),\n",
    "    ('elastic', ElasticNet())])\n",
    "\n",
    "pipe_linear = Pipeline([\n",
    "    ('ss', StandardScaler()), \n",
    "    ('var_thresh', VarianceThreshold()),\n",
    "    ('kbest', SelectKBest(f_regression)),\n",
    "    ('linreg', LinearRegression())])"
   ]
  },
  {
   "cell_type": "code",
   "execution_count": 9,
   "metadata": {
    "collapsed": true
   },
   "outputs": [],
   "source": [
    "params = {\n",
    "    'var_thresh__threshold': [0, .05, .1],\n",
    "    'kbest__k': [10, 15, 20],\n",
    "    'lasso__alpha': np.logspace(-3,3,7)}"
   ]
  },
  {
   "cell_type": "markdown",
   "metadata": {},
   "source": [
    "**Drop saleprice from train dataset before GridSearch**"
   ]
  },
  {
   "cell_type": "code",
   "execution_count": 10,
   "metadata": {
    "collapsed": true
   },
   "outputs": [],
   "source": [
    "train_df.drop('saleprice', axis=1, inplace=True)"
   ]
  },
  {
   "cell_type": "markdown",
   "metadata": {},
   "source": [
    "## Linear Model"
   ]
  },
  {
   "cell_type": "code",
   "execution_count": 11,
   "metadata": {},
   "outputs": [
    {
     "data": {
      "text/plain": [
       "12.021720682743458"
      ]
     },
     "execution_count": 11,
     "metadata": {},
     "output_type": "execute_result"
    }
   ],
   "source": [
    "y_train.mean()"
   ]
  },
  {
   "cell_type": "code",
   "execution_count": 12,
   "metadata": {},
   "outputs": [
    {
     "data": {
      "text/plain": [
       "GridSearchCV(cv=None, error_score='raise',\n",
       "       estimator=Pipeline(memory=None,\n",
       "     steps=[('ss', StandardScaler(copy=True, with_mean=True, with_std=True)), ('var_thresh', VarianceThreshold(threshold=0.0)), ('kbest', SelectKBest(k=10, score_func=<function f_regression at 0x1a0ee07378>)), ('linreg', LinearRegression(copy_X=True, fit_intercept=True, n_jobs=1, normalize=False))]),\n",
       "       fit_params={}, iid=True, n_jobs=1, param_grid={},\n",
       "       pre_dispatch='2*n_jobs', refit=True, scoring=None, verbose=0)"
      ]
     },
     "execution_count": 12,
     "metadata": {},
     "output_type": "execute_result"
    }
   ],
   "source": [
    "linear_params = {}\n",
    "gs_linear = GridSearchCV(pipe_linear, linear_params)\n",
    "gs_linear.fit(X_train, y_train)"
   ]
  },
  {
   "cell_type": "code",
   "execution_count": 13,
   "metadata": {},
   "outputs": [
    {
     "data": {
      "text/plain": [
       "0.86312648607711795"
      ]
     },
     "execution_count": 13,
     "metadata": {},
     "output_type": "execute_result"
    }
   ],
   "source": [
    "gs_linear.score(X_train, y_train)"
   ]
  },
  {
   "cell_type": "code",
   "execution_count": 14,
   "metadata": {},
   "outputs": [
    {
     "data": {
      "text/plain": [
       "0.88070963001058655"
      ]
     },
     "execution_count": 14,
     "metadata": {},
     "output_type": "execute_result"
    }
   ],
   "source": [
    "gs_linear.score(X_test, y_test)"
   ]
  },
  {
   "cell_type": "code",
   "execution_count": 15,
   "metadata": {},
   "outputs": [
    {
     "data": {
      "text/plain": [
       "0.14231203843096904"
      ]
     },
     "execution_count": 15,
     "metadata": {},
     "output_type": "execute_result"
    }
   ],
   "source": [
    "np.sqrt(mean_squared_error(y_test, gs_linear.predict(X_test)))"
   ]
  },
  {
   "cell_type": "code",
   "execution_count": 16,
   "metadata": {},
   "outputs": [
    {
     "data": {
      "text/plain": [
       "0.859085699925934"
      ]
     },
     "execution_count": 16,
     "metadata": {},
     "output_type": "execute_result"
    }
   ],
   "source": [
    "gs_linear.best_score_"
   ]
  },
  {
   "cell_type": "markdown",
   "metadata": {},
   "source": [
    "## Lasso"
   ]
  },
  {
   "cell_type": "code",
   "execution_count": 17,
   "metadata": {
    "collapsed": true
   },
   "outputs": [],
   "source": [
    "params = {\n",
    "    'var_thresh__threshold': [0, .05, .1],\n",
    "    'kbest__k': [10, 15, 20],\n",
    "    'lasso__alpha': np.logspace(-3,3,7)}"
   ]
  },
  {
   "cell_type": "code",
   "execution_count": 18,
   "metadata": {},
   "outputs": [],
   "source": [
    "gs_lasso = GridSearchCV(pipe_lasso, params)"
   ]
  },
  {
   "cell_type": "code",
   "execution_count": 19,
   "metadata": {},
   "outputs": [
    {
     "data": {
      "text/plain": [
       "GridSearchCV(cv=None, error_score='raise',\n",
       "       estimator=Pipeline(memory=None,\n",
       "     steps=[('ss', StandardScaler(copy=True, with_mean=True, with_std=True)), ('var_thresh', VarianceThreshold(threshold=0.0)), ('kbest', SelectKBest(k=10, score_func=<function f_regression at 0x1a0ee07378>)), ('lasso', Lasso(alpha=1.0, copy_X=True, fit_intercept=True, max_iter=1000,\n",
       "   normalize=False, positive=False, precompute=False, random_state=None,\n",
       "   selection='cyclic', tol=0.0001, warm_start=False))]),\n",
       "       fit_params={}, iid=True, n_jobs=1,\n",
       "       param_grid={'var_thresh__threshold': [0, 0.05, 0.1], 'kbest__k': [10, 15, 20], 'lasso__alpha': array([  1.00000e-03,   1.00000e-02,   1.00000e-01,   1.00000e+00,\n",
       "         1.00000e+01,   1.00000e+02,   1.00000e+03])},\n",
       "       pre_dispatch='2*n_jobs', refit=True, scoring=None, verbose=0)"
      ]
     },
     "execution_count": 19,
     "metadata": {},
     "output_type": "execute_result"
    }
   ],
   "source": [
    "gs_lasso.fit(X_train, y_train)"
   ]
  },
  {
   "cell_type": "code",
   "execution_count": 20,
   "metadata": {},
   "outputs": [
    {
     "data": {
      "text/plain": [
       "(0.87379683018167997, 0.89322814105938575)"
      ]
     },
     "execution_count": 20,
     "metadata": {},
     "output_type": "execute_result"
    }
   ],
   "source": [
    "gs_lasso.score(X_train, y_train), gs_lasso.score(X_test, y_test)"
   ]
  },
  {
   "cell_type": "code",
   "execution_count": 21,
   "metadata": {},
   "outputs": [
    {
     "data": {
      "text/plain": [
       "0.8703667201739048"
      ]
     },
     "execution_count": 21,
     "metadata": {},
     "output_type": "execute_result"
    }
   ],
   "source": [
    "gs_lasso.best_score_"
   ]
  },
  {
   "cell_type": "code",
   "execution_count": 22,
   "metadata": {},
   "outputs": [
    {
     "data": {
      "text/plain": [
       "{'kbest__k': 20, 'lasso__alpha': 0.001, 'var_thresh__threshold': 0}"
      ]
     },
     "execution_count": 22,
     "metadata": {},
     "output_type": "execute_result"
    }
   ],
   "source": [
    "gs_lasso.best_params_"
   ]
  },
  {
   "cell_type": "code",
   "execution_count": 23,
   "metadata": {},
   "outputs": [],
   "source": [
    "gs_lasso_best_var_thresh = gs_lasso.best_estimator_.named_steps['var_thresh'].get_support()"
   ]
  },
  {
   "cell_type": "code",
   "execution_count": 24,
   "metadata": {},
   "outputs": [],
   "source": [
    "gs_lasso_best_kbest = gs_lasso.best_estimator_.named_steps['kbest'].get_support()"
   ]
  },
  {
   "cell_type": "code",
   "execution_count": 25,
   "metadata": {
    "scrolled": true
   },
   "outputs": [],
   "source": [
    "gs_lasso_best_estimator = gs_lasso.best_estimator_.named_steps['lasso'].coef_"
   ]
  },
  {
   "cell_type": "code",
   "execution_count": 26,
   "metadata": {},
   "outputs": [
    {
     "data": {
      "text/plain": [
       "0.1346379060297265"
      ]
     },
     "execution_count": 26,
     "metadata": {},
     "output_type": "execute_result"
    }
   ],
   "source": [
    "np.sqrt(mean_squared_error(y_test, gs_lasso.best_estimator_.predict(X_test)))"
   ]
  },
  {
   "cell_type": "code",
   "execution_count": 27,
   "metadata": {
    "collapsed": true
   },
   "outputs": [],
   "source": [
    "gs_lasso_prediction_test = gs_lasso.predict(X_test)"
   ]
  },
  {
   "cell_type": "code",
   "execution_count": 67,
   "metadata": {
    "collapsed": true
   },
   "outputs": [
    {
     "data": {
      "text/plain": [
       "Text(0,0.5,'Actual Values')"
      ]
     },
     "execution_count": 67,
     "metadata": {},
     "output_type": "execute_result"
    },
    {
     "data": {
      "image/png": "[encoded data removed]",
      "text/plain": [
       "<matplotlib.figure.Figure at 0x1a1c970940>"
      ]
     },
     "metadata": {},
     "output_type": "display_data"
    }
   ],
   "source": [
    "plt.figure(figsize=(12,8))\n",
    "sns.regplot(gs_lasso_prediction_test, y_test, color='red')\n",
    "plt.title(\"GridSearch Lasso Test Predictions\")\n",
    "plt.xlabel(\"Predicted Values\")\n",
    "plt.ylabel(\"Actual Values\")"
   ]
  },
  {
   "cell_type": "code",
   "execution_count": 64,
   "metadata": {
    "scrolled": true
   },
   "outputs": [
    {
     "data": {
      "text/html": [
       "<div>\n",
       "<style scoped>\n",
       "    .dataframe tbody tr th:only-of-type {\n",
       "        vertical-align: middle;\n",
       "    }\n",
       "\n",
       "    .dataframe tbody tr th {\n",
       "        vertical-align: top;\n",
       "    }\n",
       "\n",
       "    .dataframe thead th {\n",
       "        text-align: right;\n",
       "    }\n",
       "</style>\n",
       "<table border=\"1\" class=\"dataframe\">\n",
       "  <thead>\n",
       "    <tr style=\"text-align: right;\">\n",
       "      <th></th>\n",
       "      <th>Coef Weights</th>\n",
       "    </tr>\n",
       "  </thead>\n",
       "  <tbody>\n",
       "    <tr>\n",
       "      <th>overall_qual</th>\n",
       "      <td>0.106883</td>\n",
       "    </tr>\n",
       "    <tr>\n",
       "      <th>year_built</th>\n",
       "      <td>0.043262</td>\n",
       "    </tr>\n",
       "    <tr>\n",
       "      <th>year_remod/add</th>\n",
       "      <td>0.038354</td>\n",
       "    </tr>\n",
       "    <tr>\n",
       "      <th>gr_liv_area</th>\n",
       "      <td>0.034467</td>\n",
       "    </tr>\n",
       "    <tr>\n",
       "      <th>totrms_abvgrd</th>\n",
       "      <td>-0.004270</td>\n",
       "    </tr>\n",
       "    <tr>\n",
       "      <th>fireplaces</th>\n",
       "      <td>0.033896</td>\n",
       "    </tr>\n",
       "    <tr>\n",
       "      <th>garage_yr_blt</th>\n",
       "      <td>0.000000</td>\n",
       "    </tr>\n",
       "    <tr>\n",
       "      <th>garage_area</th>\n",
       "      <td>0.048451</td>\n",
       "    </tr>\n",
       "    <tr>\n",
       "      <th>total_area</th>\n",
       "      <td>0.128785</td>\n",
       "    </tr>\n",
       "    <tr>\n",
       "      <th>total_bath</th>\n",
       "      <td>0.024216</td>\n",
       "    </tr>\n",
       "    <tr>\n",
       "      <th>exter_qual_Gd</th>\n",
       "      <td>-0.004382</td>\n",
       "    </tr>\n",
       "    <tr>\n",
       "      <th>exter_qual_TA</th>\n",
       "      <td>0.010477</td>\n",
       "    </tr>\n",
       "    <tr>\n",
       "      <th>foundation_PConc</th>\n",
       "      <td>-0.002584</td>\n",
       "    </tr>\n",
       "    <tr>\n",
       "      <th>bsmt_qual_Ex</th>\n",
       "      <td>0.017845</td>\n",
       "    </tr>\n",
       "    <tr>\n",
       "      <th>bsmt_qual_TA</th>\n",
       "      <td>0.006559</td>\n",
       "    </tr>\n",
       "    <tr>\n",
       "      <th>bsmtfin_type_1_GLQ</th>\n",
       "      <td>0.010859</td>\n",
       "    </tr>\n",
       "    <tr>\n",
       "      <th>heating_qc_Ex</th>\n",
       "      <td>0.019129</td>\n",
       "    </tr>\n",
       "    <tr>\n",
       "      <th>kitchen_qual_TA</th>\n",
       "      <td>-0.008270</td>\n",
       "    </tr>\n",
       "    <tr>\n",
       "      <th>fireplace_qu_None</th>\n",
       "      <td>-0.003135</td>\n",
       "    </tr>\n",
       "    <tr>\n",
       "      <th>garage_finish_Unf</th>\n",
       "      <td>0.000517</td>\n",
       "    </tr>\n",
       "  </tbody>\n",
       "</table>\n",
       "</div>"
      ],
      "text/plain": [
       "                    Coef Weights\n",
       "overall_qual            0.106883\n",
       "year_built              0.043262\n",
       "year_remod/add          0.038354\n",
       "gr_liv_area             0.034467\n",
       "totrms_abvgrd          -0.004270\n",
       "fireplaces              0.033896\n",
       "garage_yr_blt           0.000000\n",
       "garage_area             0.048451\n",
       "total_area              0.128785\n",
       "total_bath              0.024216\n",
       "exter_qual_Gd          -0.004382\n",
       "exter_qual_TA           0.010477\n",
       "foundation_PConc       -0.002584\n",
       "bsmt_qual_Ex            0.017845\n",
       "bsmt_qual_TA            0.006559\n",
       "bsmtfin_type_1_GLQ      0.010859\n",
       "heating_qc_Ex           0.019129\n",
       "kitchen_qual_TA        -0.008270\n",
       "fireplace_qu_None      -0.003135\n",
       "garage_finish_Unf       0.000517"
      ]
     },
     "execution_count": 64,
     "metadata": {},
     "output_type": "execute_result"
    }
   ],
   "source": [
    "columns = train_df.columns\n",
    "columns = columns[gs_lasso.best_estimator_.named_steps['var_thresh'].get_support()]\n",
    "columns = columns[gs_lasso.best_estimator_.named_steps['kbest'].get_support()]\n",
    "\n",
    "lasso_df = pd.DataFrame(gs_lasso.best_estimator_.named_steps['lasso'].coef_, \n",
    "             index = columns, \n",
    "             columns=['Coef Weights'])\n",
    "\n",
    "lasso_df"
   ]
  },
  {
   "cell_type": "code",
   "execution_count": 74,
   "metadata": {},
   "outputs": [],
   "source": [
    "beta_0 = gs_lasso.best_estimator_.named_steps['lasso'].intercept_"
   ]
  },
  {
   "cell_type": "code",
   "execution_count": 76,
   "metadata": {},
   "outputs": [
    {
     "data": {
      "image/png": "[encoded data removed]",
      "text/plain": [
       "<matplotlib.figure.Figure at 0x1a1d1807f0>"
      ]
     },
     "metadata": {},
     "output_type": "display_data"
    }
   ],
   "source": [
    "plt.figure(figsize=(20,10))\n",
    "plt.barh(lasso_df.index, lasso_df['Coef Weights'])\n",
    "plt.yticks(fontsize=20)\n",
    "plt.xticks(fontsize=20)\n",
    "plt.xlabel('Coef Weights', fontsize=30)\n",
    "plt.title('Most Important Features and Weights\\ny intercept: {:0.02f}'.format(beta_0), fontsize=42)\n",
    "plt.tight_layout()"
   ]
  },
  {
   "cell_type": "markdown",
   "metadata": {},
   "source": [
    "## Ridge"
   ]
  },
  {
   "cell_type": "code",
   "execution_count": 30,
   "metadata": {
    "collapsed": true
   },
   "outputs": [],
   "source": [
    "params = {\n",
    "    'var_thresh__threshold': [0, .05, .1],\n",
    "    'kbest__k': [10, 15, 20],\n",
    "    'ridge__alpha': np.logspace(-3,3,7)}"
   ]
  },
  {
   "cell_type": "code",
   "execution_count": 31,
   "metadata": {
    "collapsed": true
   },
   "outputs": [],
   "source": [
    "gs_ridge = GridSearchCV(pipe_ridge, params)"
   ]
  },
  {
   "cell_type": "code",
   "execution_count": 32,
   "metadata": {},
   "outputs": [
    {
     "data": {
      "text/plain": [
       "GridSearchCV(cv=None, error_score='raise',\n",
       "       estimator=Pipeline(memory=None,\n",
       "     steps=[('ss', StandardScaler(copy=True, with_mean=True, with_std=True)), ('var_thresh', VarianceThreshold(threshold=0.0)), ('kbest', SelectKBest(k=10, score_func=<function f_regression at 0x1a0ee07378>)), ('ridge', Ridge(alpha=1.0, copy_X=True, fit_intercept=True, max_iter=None,\n",
       "   normalize=False, random_state=None, solver='auto', tol=0.001))]),\n",
       "       fit_params={}, iid=True, n_jobs=1,\n",
       "       param_grid={'var_thresh__threshold': [0, 0.05, 0.1], 'kbest__k': [10, 15, 20], 'ridge__alpha': array([  1.00000e-03,   1.00000e-02,   1.00000e-01,   1.00000e+00,\n",
       "         1.00000e+01,   1.00000e+02,   1.00000e+03])},\n",
       "       pre_dispatch='2*n_jobs', refit=True, scoring=None, verbose=0)"
      ]
     },
     "execution_count": 32,
     "metadata": {},
     "output_type": "execute_result"
    }
   ],
   "source": [
    "gs_ridge.fit(X_train, y_train)"
   ]
  },
  {
   "cell_type": "code",
   "execution_count": 33,
   "metadata": {},
   "outputs": [
    {
     "data": {
      "text/plain": [
       "(0.87400210075513018, 0.89331647247334356)"
      ]
     },
     "execution_count": 33,
     "metadata": {},
     "output_type": "execute_result"
    }
   ],
   "source": [
    "gs_ridge.score(X_train, y_train), gs_ridge.score(X_test, y_test)"
   ]
  },
  {
   "cell_type": "code",
   "execution_count": 34,
   "metadata": {
    "collapsed": true
   },
   "outputs": [],
   "source": [
    "gs_ridge_best_var_thresh = gs_ridge.best_estimator_.named_steps['var_thresh'].get_support()"
   ]
  },
  {
   "cell_type": "code",
   "execution_count": 35,
   "metadata": {
    "collapsed": true
   },
   "outputs": [],
   "source": [
    "gs_ridge_best_kbest = gs_ridge.best_estimator_.named_steps['kbest'].get_support()"
   ]
  },
  {
   "cell_type": "code",
   "execution_count": 36,
   "metadata": {},
   "outputs": [],
   "source": [
    "gs_ridge_best_estimator = gs_ridge.best_estimator_.named_steps['ridge'].coef_"
   ]
  },
  {
   "cell_type": "code",
   "execution_count": 37,
   "metadata": {},
   "outputs": [
    {
     "data": {
      "text/plain": [
       "0.134582202132459"
      ]
     },
     "execution_count": 37,
     "metadata": {},
     "output_type": "execute_result"
    }
   ],
   "source": [
    "np.sqrt(mean_squared_error(y_test, gs_ridge.best_estimator_.predict(X_test)))"
   ]
  },
  {
   "cell_type": "code",
   "execution_count": 38,
   "metadata": {},
   "outputs": [
    {
     "data": {
      "text/html": [
       "<div>\n",
       "<style scoped>\n",
       "    .dataframe tbody tr th:only-of-type {\n",
       "        vertical-align: middle;\n",
       "    }\n",
       "\n",
       "    .dataframe tbody tr th {\n",
       "        vertical-align: top;\n",
       "    }\n",
       "\n",
       "    .dataframe thead th {\n",
       "        text-align: right;\n",
       "    }\n",
       "</style>\n",
       "<table border=\"1\" class=\"dataframe\">\n",
       "  <thead>\n",
       "    <tr style=\"text-align: right;\">\n",
       "      <th></th>\n",
       "      <th>Coef Weights</th>\n",
       "    </tr>\n",
       "  </thead>\n",
       "  <tbody>\n",
       "    <tr>\n",
       "      <th>overall_qual</th>\n",
       "      <td>0.106007</td>\n",
       "    </tr>\n",
       "    <tr>\n",
       "      <th>year_built</th>\n",
       "      <td>0.046854</td>\n",
       "    </tr>\n",
       "    <tr>\n",
       "      <th>year_remod/add</th>\n",
       "      <td>0.039536</td>\n",
       "    </tr>\n",
       "    <tr>\n",
       "      <th>gr_liv_area</th>\n",
       "      <td>0.043097</td>\n",
       "    </tr>\n",
       "    <tr>\n",
       "      <th>totrms_abvgrd</th>\n",
       "      <td>-0.009373</td>\n",
       "    </tr>\n",
       "    <tr>\n",
       "      <th>fireplaces</th>\n",
       "      <td>0.018848</td>\n",
       "    </tr>\n",
       "    <tr>\n",
       "      <th>garage_yr_blt</th>\n",
       "      <td>0.000137</td>\n",
       "    </tr>\n",
       "    <tr>\n",
       "      <th>garage_area</th>\n",
       "      <td>0.048603</td>\n",
       "    </tr>\n",
       "    <tr>\n",
       "      <th>total_area</th>\n",
       "      <td>0.124558</td>\n",
       "    </tr>\n",
       "    <tr>\n",
       "      <th>total_bath</th>\n",
       "      <td>0.024319</td>\n",
       "    </tr>\n",
       "    <tr>\n",
       "      <th>exter_qual_Gd</th>\n",
       "      <td>-0.004988</td>\n",
       "    </tr>\n",
       "    <tr>\n",
       "      <th>exter_qual_TA</th>\n",
       "      <td>0.013462</td>\n",
       "    </tr>\n",
       "    <tr>\n",
       "      <th>foundation_PConc</th>\n",
       "      <td>-0.005580</td>\n",
       "    </tr>\n",
       "    <tr>\n",
       "      <th>bsmt_qual_Ex</th>\n",
       "      <td>0.019119</td>\n",
       "    </tr>\n",
       "    <tr>\n",
       "      <th>bsmt_qual_TA</th>\n",
       "      <td>0.009008</td>\n",
       "    </tr>\n",
       "    <tr>\n",
       "      <th>bsmtfin_type_1_GLQ</th>\n",
       "      <td>0.012124</td>\n",
       "    </tr>\n",
       "    <tr>\n",
       "      <th>heating_qc_Ex</th>\n",
       "      <td>0.020623</td>\n",
       "    </tr>\n",
       "    <tr>\n",
       "      <th>kitchen_qual_TA</th>\n",
       "      <td>-0.010836</td>\n",
       "    </tr>\n",
       "    <tr>\n",
       "      <th>fireplace_qu_None</th>\n",
       "      <td>-0.018848</td>\n",
       "    </tr>\n",
       "    <tr>\n",
       "      <th>garage_finish_Unf</th>\n",
       "      <td>0.001900</td>\n",
       "    </tr>\n",
       "  </tbody>\n",
       "</table>\n",
       "</div>"
      ],
      "text/plain": [
       "                    Coef Weights\n",
       "overall_qual            0.106007\n",
       "year_built              0.046854\n",
       "year_remod/add          0.039536\n",
       "gr_liv_area             0.043097\n",
       "totrms_abvgrd          -0.009373\n",
       "fireplaces              0.018848\n",
       "garage_yr_blt           0.000137\n",
       "garage_area             0.048603\n",
       "total_area              0.124558\n",
       "total_bath              0.024319\n",
       "exter_qual_Gd          -0.004988\n",
       "exter_qual_TA           0.013462\n",
       "foundation_PConc       -0.005580\n",
       "bsmt_qual_Ex            0.019119\n",
       "bsmt_qual_TA            0.009008\n",
       "bsmtfin_type_1_GLQ      0.012124\n",
       "heating_qc_Ex           0.020623\n",
       "kitchen_qual_TA        -0.010836\n",
       "fireplace_qu_None      -0.018848\n",
       "garage_finish_Unf       0.001900"
      ]
     },
     "execution_count": 38,
     "metadata": {},
     "output_type": "execute_result"
    }
   ],
   "source": [
    "columns = train_df.columns\n",
    "columns = columns[gs_ridge.best_estimator_.named_steps['var_thresh'].get_support()]\n",
    "columns = columns[gs_ridge.best_estimator_.named_steps['kbest'].get_support()]\n",
    "\n",
    "pd.DataFrame(gs_ridge.best_estimator_.named_steps['ridge'].coef_, \n",
    "             index = columns, \n",
    "             columns=['Coef Weights'])"
   ]
  },
  {
   "cell_type": "markdown",
   "metadata": {},
   "source": [
    "## Make Predictions"
   ]
  },
  {
   "cell_type": "markdown",
   "metadata": {},
   "source": [
    "**Lasso Prediction**"
   ]
  },
  {
   "cell_type": "code",
   "execution_count": 39,
   "metadata": {
    "scrolled": true
   },
   "outputs": [],
   "source": [
    "pred_lasso_gs = gs_lasso.predict(test_df)"
   ]
  },
  {
   "cell_type": "code",
   "execution_count": 40,
   "metadata": {},
   "outputs": [],
   "source": [
    "pred_lasso_gs_exp = np.expm1(pred_lasso_gs)"
   ]
  },
  {
   "cell_type": "code",
   "execution_count": 41,
   "metadata": {},
   "outputs": [],
   "source": [
    "final_lasso_gs_df = pd.DataFrame(pred_lasso_gs_exp, index=test_df.index)"
   ]
  },
  {
   "cell_type": "code",
   "execution_count": 42,
   "metadata": {},
   "outputs": [],
   "source": [
    "final_lasso_gs_df.columns = ['SalePrice']"
   ]
  },
  {
   "cell_type": "code",
   "execution_count": 43,
   "metadata": {
    "collapsed": true
   },
   "outputs": [],
   "source": [
    "final_lasso_gs_df.sort_index(inplace=True)"
   ]
  },
  {
   "cell_type": "code",
   "execution_count": 44,
   "metadata": {},
   "outputs": [],
   "source": [
    "final_lasso_gs_df.to_csv('./data/final_gs_lasso.csv')"
   ]
  },
  {
   "cell_type": "code",
   "execution_count": 45,
   "metadata": {},
   "outputs": [
    {
     "name": "stdout",
     "output_type": "stream",
     "text": [
      "Id,SalePrice\r\n",
      "2,124848.08265574471\r\n",
      "4,260242.46079753377\r\n",
      "6,201347.09086642737\r\n",
      "7,204455.25832344173\r\n",
      "17,191490.9454326224\r\n",
      "18,310670.4434551764\r\n",
      "22,168082.87473191222\r\n",
      "27,119019.3618952791\r\n",
      "31,115085.33364739016\r\n"
     ]
    }
   ],
   "source": [
    "!head ./data/final_gs_lasso.csv"
   ]
  },
  {
   "cell_type": "markdown",
   "metadata": {},
   "source": [
    "**Linear Prediction**"
   ]
  },
  {
   "cell_type": "code",
   "execution_count": 46,
   "metadata": {
    "collapsed": true
   },
   "outputs": [],
   "source": [
    "pred_linear_gs = gs_linear.predict(test_df)"
   ]
  },
  {
   "cell_type": "code",
   "execution_count": 47,
   "metadata": {},
   "outputs": [],
   "source": [
    "pred_linear_gs_exp = np.expm1(pred_linear_gs)"
   ]
  },
  {
   "cell_type": "code",
   "execution_count": 48,
   "metadata": {
    "collapsed": true
   },
   "outputs": [],
   "source": [
    "final_linear_gs_df = pd.DataFrame(pred_linear_gs_exp, index=test_df.index)"
   ]
  },
  {
   "cell_type": "code",
   "execution_count": 49,
   "metadata": {
    "collapsed": true
   },
   "outputs": [],
   "source": [
    "final_linear_gs_df.columns = ['saleprice']"
   ]
  },
  {
   "cell_type": "code",
   "execution_count": 50,
   "metadata": {
    "collapsed": true
   },
   "outputs": [],
   "source": [
    "final_linear_gs_df.sort_index(inplace=True)"
   ]
  },
  {
   "cell_type": "code",
   "execution_count": 51,
   "metadata": {
    "collapsed": true
   },
   "outputs": [],
   "source": [
    "final_linear_gs_df.to_csv('./data/final_gs_linear.csv')"
   ]
  },
  {
   "cell_type": "code",
   "execution_count": 52,
   "metadata": {},
   "outputs": [
    {
     "name": "stdout",
     "output_type": "stream",
     "text": [
      "Id,saleprice\r\n",
      "2,121282.8899043063\r\n",
      "4,248398.74531216867\r\n",
      "6,185189.80973429038\r\n",
      "7,221083.20082301617\r\n",
      "17,211346.3071769139\r\n",
      "18,328649.7530384864\r\n",
      "22,170083.76262561165\r\n",
      "27,113963.05534800231\r\n",
      "31,110446.13512996219\r\n"
     ]
    }
   ],
   "source": [
    "!head ./data/final_gs_linear.csv"
   ]
  },
  {
   "cell_type": "markdown",
   "metadata": {},
   "source": [
    "**Ridge Prediction**"
   ]
  },
  {
   "cell_type": "code",
   "execution_count": 53,
   "metadata": {
    "collapsed": true
   },
   "outputs": [],
   "source": [
    "pred_ridge_gs = gs_ridge.predict(test_df)"
   ]
  },
  {
   "cell_type": "code",
   "execution_count": 54,
   "metadata": {
    "collapsed": true
   },
   "outputs": [],
   "source": [
    "pred_ridge_gs_exp = np.expm1(pred_ridge_gs)"
   ]
  },
  {
   "cell_type": "code",
   "execution_count": 55,
   "metadata": {
    "collapsed": true
   },
   "outputs": [],
   "source": [
    "final_ridge_gs_df = pd.DataFrame(pred_ridge_gs_exp, index=test_df.index)"
   ]
  },
  {
   "cell_type": "code",
   "execution_count": 56,
   "metadata": {
    "collapsed": true
   },
   "outputs": [],
   "source": [
    "final_ridge_gs_df.columns = ['saleprice']"
   ]
  },
  {
   "cell_type": "code",
   "execution_count": 57,
   "metadata": {
    "collapsed": true
   },
   "outputs": [],
   "source": [
    "final_ridge_gs_df.sort_index(inplace=True)"
   ]
  },
  {
   "cell_type": "code",
   "execution_count": 58,
   "metadata": {
    "collapsed": true
   },
   "outputs": [],
   "source": [
    "final_ridge_gs_df.to_csv('./data/final_gs_ridge.csv')"
   ]
  },
  {
   "cell_type": "code",
   "execution_count": 59,
   "metadata": {},
   "outputs": [
    {
     "name": "stdout",
     "output_type": "stream",
     "text": [
      "Id,saleprice\r\n",
      "2,127876.57873550065\r\n",
      "4,259451.81256660426\r\n",
      "6,202085.49222240076\r\n",
      "7,210366.49085234932\r\n",
      "17,196367.0467473363\r\n",
      "18,309133.9958871072\r\n",
      "22,166417.81669951245\r\n",
      "27,122501.37398693929\r\n",
      "31,118287.72352309621\r\n"
     ]
    }
   ],
   "source": [
    "!head ./data/final_gs_ridge.csv"
   ]
  }
 ],
 "metadata": {
  "kernelspec": {
   "display_name": "Python 3",
   "language": "python",
   "name": "python3"
  },
  "language_info": {
   "codemirror_mode": {
    "name": "ipython",
    "version": 3
   },
   "file_extension": ".py",
   "mimetype": "text/x-python",
   "name": "python",
   "nbconvert_exporter": "python",
   "pygments_lexer": "ipython3",
   "version": "3.6.6"
  }
 },
 "nbformat": 4,
 "nbformat_minor": 2
}
